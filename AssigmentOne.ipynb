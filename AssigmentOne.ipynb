{
 "cells": [
  {
   "cell_type": "code",
   "execution_count": 4,
   "id": "57ac1cb8",
   "metadata": {},
   "outputs": [
    {
     "name": "stdout",
     "output_type": "stream",
     "text": [
      "gashaw kassie\n"
     ]
    }
   ],
   "source": [
    "#Concatenating Strings\n",
    "var= \"gashaw\"\n",
    "var1= \"kassie\"\n",
    "var2= var + \" \" + var1\n",
    "var2   \n",
    "#or\n",
    "print(var2)"
   ]
  },
  {
   "cell_type": "code",
   "execution_count": 14,
   "id": "a6756816",
   "metadata": {},
   "outputs": [
    {
     "name": "stdout",
     "output_type": "stream",
     "text": [
      "e\n"
     ]
    }
   ],
   "source": [
    "#Accessing Characters by Index\n",
    "name =  \"Gashaw Kassie\"\n",
    "name[-1]\n",
    "#or\n",
    "print(name[-1])"
   ]
  },
  {
   "cell_type": "code",
   "execution_count": 22,
   "id": "510210d8",
   "metadata": {},
   "outputs": [
    {
     "name": "stdout",
     "output_type": "stream",
     "text": [
      "15\n"
     ]
    }
   ],
   "source": [
    "#String Length\n",
    "var3 = \"Hello class met\"\n",
    "length = len(var3)\n",
    "print(length)"
   ]
  },
  {
   "cell_type": "code",
   "execution_count": 24,
   "id": "76f3c222",
   "metadata": {},
   "outputs": [
    {
     "name": "stdout",
     "output_type": "stream",
     "text": [
      "o class\n"
     ]
    }
   ],
   "source": [
    "#String Slicing\n",
    "Slice = var3[4:11]\n",
    "print(Slice)"
   ]
  },
  {
   "cell_type": "code",
   "execution_count": 27,
   "id": "99fc76f2",
   "metadata": {},
   "outputs": [
    {
     "name": "stdout",
     "output_type": "stream",
     "text": [
      "HELLO TEAM\n",
      "hello team\n"
     ]
    }
   ],
   "source": [
    "#String Methods lower and upper case:\n",
    "var4 = \"Hello Team\"\n",
    "#upper\n",
    "upperCase = var4.upper()\n",
    "print(upperCase)\n",
    "#lower\n",
    "lowerCase = var4.lower()\n",
    "print(lowerCase)"
   ]
  },
  {
   "cell_type": "code",
   "execution_count": 33,
   "id": "2b244d3e",
   "metadata": {},
   "outputs": [
    {
     "name": "stdout",
     "output_type": "stream",
     "text": [
      "May name is Gashaw and I am 30 years old.\n"
     ]
    }
   ],
   "source": [
    "#String Formating\n",
    "name = \"Gashaw\"\n",
    "age = 30\n",
    "message = \"May name is {} and I am {} years old.\".format(name, age)\n",
    "print(message)"
   ]
  },
  {
   "cell_type": "code",
   "execution_count": 35,
   "id": "3a5a2ef3",
   "metadata": {},
   "outputs": [
    {
     "name": "stdout",
     "output_type": "stream",
     "text": [
      "[1, 2, 3, 4, 5, 6, 7]\n",
      "3\n"
     ]
    }
   ],
   "source": [
    "#Accessing List Elements\n",
    "num = [1,2,3,4,5,6,7]\n",
    "print(num)\n",
    "#and\n",
    "print(num[2])"
   ]
  },
  {
   "cell_type": "code",
   "execution_count": 36,
   "id": "21b730d4",
   "metadata": {},
   "outputs": [
    {
     "name": "stdout",
     "output_type": "stream",
     "text": [
      "[1, 2, 3, 8, 5, 6, 7]\n"
     ]
    }
   ],
   "source": [
    "#Modifing List Element\n",
    "num[3] = 8\n",
    "print(num)"
   ]
  },
  {
   "cell_type": "code",
   "execution_count": 39,
   "id": "4b86e799",
   "metadata": {},
   "outputs": [
    {
     "name": "stdout",
     "output_type": "stream",
     "text": [
      "7\n"
     ]
    }
   ],
   "source": [
    "#list Length\n",
    "length = len(num)\n",
    "print(length)"
   ]
  },
  {
   "cell_type": "code",
   "execution_count": 41,
   "id": "34b753e4",
   "metadata": {},
   "outputs": [
    {
     "name": "stdout",
     "output_type": "stream",
     "text": [
      "[3, 8]\n"
     ]
    }
   ],
   "source": [
    "#Slicing a List\n",
    "slice = num[2:4]\n",
    "print(slice)"
   ]
  },
  {
   "cell_type": "code",
   "execution_count": 45,
   "id": "b8311bfd",
   "metadata": {},
   "outputs": [
    {
     "name": "stdout",
     "output_type": "stream",
     "text": [
      "NUMBERS\n",
      "numbers\n"
     ]
    }
   ],
   "source": [
    "#List Method uper  and lower\n",
    "string = \"numbers\"\n",
    "#upper\n",
    "upperCase = string.upper()\n",
    "print(upperCase)\n",
    "#lower\n",
    "lowerCase = string.lower()\n",
    "print(lowerCase)"
   ]
  },
  {
   "cell_type": "code",
   "execution_count": 48,
   "id": "10086f9c",
   "metadata": {},
   "outputs": [
    {
     "name": "stdout",
     "output_type": "stream",
     "text": [
      "[1, 2, 3, 4, 5, 6, 8]\n",
      "[8, 6, 5, 4, 3, 2, 1]\n"
     ]
    }
   ],
   "source": [
    "#list Method\n",
    "int = [1,2,3,4,5,6]\n",
    "int.append(8)\n",
    "print(int)\n",
    "#reverse\n",
    "int.reverse()\n",
    "print(int)"
   ]
  },
  {
   "cell_type": "code",
   "execution_count": null,
   "id": "a0c23152",
   "metadata": {},
   "outputs": [],
   "source": []
  }
 ],
 "metadata": {
  "kernelspec": {
   "display_name": "Python 3 (ipykernel)",
   "language": "python",
   "name": "python3"
  },
  "language_info": {
   "codemirror_mode": {
    "name": "ipython",
    "version": 3
   },
   "file_extension": ".py",
   "mimetype": "text/x-python",
   "name": "python",
   "nbconvert_exporter": "python",
   "pygments_lexer": "ipython3",
   "version": "3.11.3"
  }
 },
 "nbformat": 4,
 "nbformat_minor": 5
}
