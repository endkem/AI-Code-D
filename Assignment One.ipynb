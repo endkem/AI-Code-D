{
 "cells": [
  {
   "cell_type": "code",
   "execution_count": null,
   "id": "f917de4c",
   "metadata": {},
   "outputs": [],
   "source": [
    "Write a program that asks the user for two numbers and then prints out the sum, difference, product, and quotient of the two numbers."
   ]
  },
  {
   "cell_type": "code",
   "execution_count": 1,
   "id": "f444fd4c",
   "metadata": {},
   "outputs": [
    {
     "name": "stdout",
     "output_type": "stream",
     "text": [
      "sum: 12\n"
     ]
    }
   ],
   "source": [
    "x = 7\n",
    "y = 5\n",
    "z = x + y\n",
    "print(\"sum:\",z)"
   ]
  },
  {
   "cell_type": "code",
   "execution_count": 2,
   "id": "c3045be1",
   "metadata": {},
   "outputs": [
    {
     "name": "stdout",
     "output_type": "stream",
     "text": [
      "sum: 2\n"
     ]
    }
   ],
   "source": [
    "x = 7\n",
    "y = 5\n",
    "z = x - y\n",
    "print(\"sum:\",z)"
   ]
  },
  {
   "cell_type": "code",
   "execution_count": 3,
   "id": "38eb5e94",
   "metadata": {},
   "outputs": [
    {
     "name": "stdout",
     "output_type": "stream",
     "text": [
      "sum: 35\n"
     ]
    }
   ],
   "source": [
    "x = 7\n",
    "y = 5\n",
    "z = x * y\n",
    "print(\"sum:\",z)"
   ]
  },
  {
   "cell_type": "code",
   "execution_count": 4,
   "id": "408609d5",
   "metadata": {},
   "outputs": [
    {
     "name": "stdout",
     "output_type": "stream",
     "text": [
      "sum: 1.4\n"
     ]
    }
   ],
   "source": [
    "x = 7\n",
    "y = 5\n",
    "z = x / y\n",
    "print(\"sum:\",z)"
   ]
  },
  {
   "cell_type": "code",
   "execution_count": 5,
   "id": "9eef9472",
   "metadata": {},
   "outputs": [
    {
     "name": "stdout",
     "output_type": "stream",
     "text": [
      "sum: 1\n"
     ]
    }
   ],
   "source": [
    "x = 7\n",
    "y = 5\n",
    "z = x // y\n",
    "print(\"sum:\",z)"
   ]
  },
  {
   "cell_type": "markdown",
   "id": "9d79ba19",
   "metadata": {},
   "source": [
    "Write a program that calculates and prints out the area and perimeter of a rectangle, given its width and height."
   ]
  },
  {
   "cell_type": "code",
   "execution_count": 6,
   "id": "ffe1c870",
   "metadata": {},
   "outputs": [
    {
     "name": "stdout",
     "output_type": "stream",
     "text": [
      "Km: 1.609344\n"
     ]
    }
   ],
   "source": [
    "miles = 1\n",
    "kilometers = 1.609344\n",
    "Km= miles * kilometers \n",
    "\n",
    "print(\"Km:\",Km)"
   ]
  },
  {
   "cell_type": "markdown",
   "id": "fc712334",
   "metadata": {},
   "source": [
    "Write a program that calculates and prints out the result of converting a weight in pounds to kilograms."
   ]
  },
  {
   "cell_type": "code",
   "execution_count": 7,
   "id": "311aa294",
   "metadata": {},
   "outputs": [
    {
     "name": "stdout",
     "output_type": "stream",
     "text": [
      "Kg: 0.45\n"
     ]
    }
   ],
   "source": [
    "pounds = 1\n",
    "kilograms = 0.45\n",
    "Kg = pounds * kilograms\n",
    "\n",
    "print(\"Kg:\",Kg)"
   ]
  },
  {
   "cell_type": "markdown",
   "id": "796a889a",
   "metadata": {},
   "source": [
    "Write a program that calculates and prints out the result of converting a temperature in degrees Celsius to degrees Fahrenheit."
   ]
  },
  {
   "cell_type": "code",
   "execution_count": 3,
   "id": "76ea4320",
   "metadata": {},
   "outputs": [
    {
     "name": "stdout",
     "output_type": "stream",
     "text": [
      "Fahrenheit: 98.6\n"
     ]
    }
   ],
   "source": [
    "#let degrees Celsius is 37\n",
    "Fahrenheit = (37 * 9/5) + 32 \n",
    "\n",
    "print(\"Fahrenheit:\",Fahrenheit)"
   ]
  },
  {
   "cell_type": "markdown",
   "id": "c5c74110",
   "metadata": {},
   "source": [
    "Write a program that calculates and prints out the result of converting a duration in seconds to minutes, hours, and days."
   ]
  },
  {
   "cell_type": "code",
   "execution_count": 7,
   "id": "58952aef",
   "metadata": {},
   "outputs": [
    {
     "name": "stdout",
     "output_type": "stream",
     "text": [
      " 3600\n",
      "One minutes is : 60.0 seconds\n",
      "One hours is : 60.0 minutes\n",
      "One day is : 24.0 hours\n"
     ]
    }
   ],
   "source": [
    "seconds = int(input(\" \"))\n",
    "minutes =seconds/ 60\n",
    "hours = minutes/60\n",
    "days = hours*24\n",
    "print(\"One minutes is :\",minutes,\"seconds\")\n",
    "print(\"One hours is :\",minutes,\"minutes\")\n",
    "print(\"One day is :\",days,\"hours\")"
   ]
  },
  {
   "cell_type": "markdown",
   "id": "a0d8e3e2",
   "metadata": {},
   "source": [
    "Write a program that calculates and prints out the result of applying a simple interest formula to a given principal, interest rate, and time period."
   ]
  },
  {
   "cell_type": "code",
   "execution_count": 10,
   "id": "01e85223",
   "metadata": {},
   "outputs": [
    {
     "name": "stdout",
     "output_type": "stream",
     "text": [
      " 10000\n",
      "6000.0\n"
     ]
    }
   ],
   "source": [
    "principal= int(input(\" \"))\n",
    "r = 6/100\n",
    "time = 10   #10 years\n",
    "interest=( principal*time*r)\n",
    "print(interest)"
   ]
  }
 ],
 "metadata": {
  "kernelspec": {
   "display_name": "Python 3 (ipykernel)",
   "language": "python",
   "name": "python3"
  },
  "language_info": {
   "codemirror_mode": {
    "name": "ipython",
    "version": 3
   },
   "file_extension": ".py",
   "mimetype": "text/x-python",
   "name": "python",
   "nbconvert_exporter": "python",
   "pygments_lexer": "ipython3",
   "version": "3.11.3"
  }
 },
 "nbformat": 4,
 "nbformat_minor": 5
}
