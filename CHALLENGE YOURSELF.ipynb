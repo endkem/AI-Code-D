{
 "cells": [
  {
   "cell_type": "markdown",
   "id": "66e2fe4d",
   "metadata": {},
   "source": [
    "1. Concatenating Strings:"
   ]
  },
  {
   "cell_type": "code",
   "execution_count": 9,
   "id": "88771117",
   "metadata": {},
   "outputs": [
    {
     "name": "stdout",
     "output_type": "stream",
     "text": [
      "output: Addis Ababa Ethiopia\n"
     ]
    }
   ],
   "source": [
    "City = \"Addis Ababa \"\n",
    "Country= \"Ethiopia\"\n",
    "Output = City + Country\n",
    "print(\"output:\",output)"
   ]
  },
  {
   "cell_type": "markdown",
   "id": "1e1d00f6",
   "metadata": {},
   "source": [
    "2. Accessing Characters by Index:"
   ]
  },
  {
   "cell_type": "code",
   "execution_count": 23,
   "id": "47bb0bfe",
   "metadata": {},
   "outputs": [
    {
     "name": "stdout",
     "output_type": "stream",
     "text": [
      "Index: A\n",
      "Index: G\n"
     ]
    }
   ],
   "source": [
    "City = \"Atlanta \"\n",
    "print(\"Index:\",City[0])\n",
    "Country= \"Georgia\"\n",
    "print(\"Index:\",Country[0])"
   ]
  },
  {
   "cell_type": "markdown",
   "id": "04fd0b00",
   "metadata": {},
   "source": [
    "3. String Length:"
   ]
  },
  {
   "cell_type": "code",
   "execution_count": 29,
   "id": "2877d31b",
   "metadata": {},
   "outputs": [
    {
     "name": "stdout",
     "output_type": "stream",
     "text": [
      "7\n",
      "7\n"
     ]
    }
   ],
   "source": [
    "x =\"Atlanta\"\n",
    "print(len(x))\n",
    "\n",
    "y =\"Georgia\"\n",
    "print(len(y))"
   ]
  },
  {
   "cell_type": "markdown",
   "id": "189ae8ec",
   "metadata": {},
   "source": [
    "4. String Slicing:"
   ]
  },
  {
   "cell_type": "code",
   "execution_count": 37,
   "id": "94871286",
   "metadata": {},
   "outputs": [
    {
     "name": "stdout",
     "output_type": "stream",
     "text": [
      "Atl\n",
      "Georg\n"
     ]
    }
   ],
   "source": [
    "x =\"Atlanta\"\n",
    "print(x[0:3])\n",
    "\n",
    "y =\"Georgia\"\n",
    "print(y[0:5])"
   ]
  },
  {
   "cell_type": "markdown",
   "id": "a3d6b0ae",
   "metadata": {},
   "source": [
    "5. String Methods:"
   ]
  },
  {
   "cell_type": "code",
   "execution_count": 47,
   "id": "c90bf067",
   "metadata": {},
   "outputs": [
    {
     "name": "stdout",
     "output_type": "stream",
     "text": [
      "ADDIS ABABA\n",
      "ethiopia\n"
     ]
    }
   ],
   "source": [
    "city = \"addis ababa\"\n",
    "x = city.upper()\n",
    "print(x)\n",
    "\n",
    "Country = \"Ethiopia\" \n",
    "y = Country.lower()\n",
    "print(y)"
   ]
  },
  {
   "cell_type": "markdown",
   "id": "ba5b3ab6",
   "metadata": {},
   "source": [
    "6. String Formatting:"
   ]
  },
  {
   "cell_type": "code",
   "execution_count": 52,
   "id": "d5e539ae",
   "metadata": {},
   "outputs": [
    {
     "name": "stdout",
     "output_type": "stream",
     "text": [
      "This is my 100.00 dollar!\n"
     ]
    }
   ],
   "source": [
    "x = \"This is my {:.2f} dollar!\"\n",
    "print(x.format(100))\n",
    "    "
   ]
  }
 ],
 "metadata": {
  "kernelspec": {
   "display_name": "Python 3 (ipykernel)",
   "language": "python",
   "name": "python3"
  },
  "language_info": {
   "codemirror_mode": {
    "name": "ipython",
    "version": 3
   },
   "file_extension": ".py",
   "mimetype": "text/x-python",
   "name": "python",
   "nbconvert_exporter": "python",
   "pygments_lexer": "ipython3",
   "version": "3.11.3"
  }
 },
 "nbformat": 4,
 "nbformat_minor": 5
}
