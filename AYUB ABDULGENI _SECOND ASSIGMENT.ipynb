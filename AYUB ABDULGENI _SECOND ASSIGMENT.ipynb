{
 "cells": [
  {
   "cell_type": "code",
   "execution_count": 20,
   "id": "328fa791",
   "metadata": {},
   "outputs": [],
   "source": [
    "  A = [\" Atlanta Georgia\", 2024, 3.14, \"Addis Ababa\"]"
   ]
  },
  {
   "cell_type": "markdown",
   "id": "12464281",
   "metadata": {},
   "source": [
    "Add a new element at the end of a-list"
   ]
  },
  {
   "cell_type": "code",
   "execution_count": 21,
   "id": "8b5c1e58",
   "metadata": {},
   "outputs": [
    {
     "data": {
      "text/plain": [
       "[' Atlanta Georgia', 2024, 3.14, 'Addis Ababa', 'Ayub Abdulgeni']"
      ]
     },
     "execution_count": 21,
     "metadata": {},
     "output_type": "execute_result"
    }
   ],
   "source": [
    "A.append('Ayub Abdulgeni')\n",
    "A"
   ]
  },
  {
   "cell_type": "markdown",
   "id": "a57a2296",
   "metadata": {},
   "source": [
    "how can you extend a list by addiing all the elements  from another list to the end of it"
   ]
  },
  {
   "cell_type": "code",
   "execution_count": 37,
   "id": "cc268304",
   "metadata": {},
   "outputs": [
    {
     "data": {
      "text/plain": [
       "[100, 250, 456, 700]"
      ]
     },
     "execution_count": 37,
     "metadata": {},
     "output_type": "execute_result"
    }
   ],
   "source": [
    "Ayub = [100,250,456,700]\n",
    "Ayub"
   ]
  },
  {
   "cell_type": "code",
   "execution_count": 38,
   "id": "34d99286",
   "metadata": {},
   "outputs": [
    {
     "data": {
      "text/plain": [
       "[100, 250, 456, 700, 404, 678, 770]"
      ]
     },
     "execution_count": 38,
     "metadata": {},
     "output_type": "execute_result"
    }
   ],
   "source": [
    "Ayub.extend([404,678,770])\n",
    "Ayub"
   ]
  },
  {
   "cell_type": "markdown",
   "id": "a0814194",
   "metadata": {},
   "source": [
    "How can you access the element index 2 in a _list"
   ]
  },
  {
   "cell_type": "code",
   "execution_count": 26,
   "id": "becfd468",
   "metadata": {},
   "outputs": [
    {
     "data": {
      "text/plain": [
       "[' Down Town', 92.9, 103, 150]"
      ]
     },
     "execution_count": 26,
     "metadata": {},
     "output_type": "execute_result"
    }
   ],
   "source": [
    "ATL  = [\" Down Town\", 92.9, 103,150]\n",
    "ATL"
   ]
  },
  {
   "cell_type": "code",
   "execution_count": 28,
   "id": "d147818c",
   "metadata": {},
   "outputs": [
    {
     "name": "stdout",
     "output_type": "stream",
     "text": [
      "103\n"
     ]
    }
   ],
   "source": [
    "# How can you access the element index 2 in a _list\n",
    "print(ATL[2])"
   ]
  },
  {
   "cell_type": "markdown",
   "id": "e19d1140",
   "metadata": {},
   "source": [
    "how can you remove specific element from a-list"
   ]
  },
  {
   "cell_type": "code",
   "execution_count": 16,
   "id": "79a10771",
   "metadata": {},
   "outputs": [
    {
     "data": {
      "text/plain": [
       "['Rum', 'chevy', 'ford', 150, 2500]"
      ]
     },
     "execution_count": 16,
     "metadata": {},
     "output_type": "execute_result"
    }
   ],
   "source": [
    "Truck =['Rum', 'chevy', 'ford', 150, 2500]\n",
    "Truck"
   ]
  },
  {
   "cell_type": "code",
   "execution_count": 18,
   "id": "47004c5c",
   "metadata": {},
   "outputs": [
    {
     "name": "stdout",
     "output_type": "stream",
     "text": [
      "before change: ['Rum', 'chevy', 'ford', 150, 2500]\n",
      "after change: ['Rum', 'chevy', 150, 2500]\n"
     ]
    }
   ],
   "source": [
    "print('before change:', Truck)\n",
    "del(Truck[2])\n",
    "print('after change:', Truck)"
   ]
  },
  {
   "cell_type": "markdown",
   "id": "9f032947",
   "metadata": {},
   "source": [
    "6 how can you find the index of specific element in a_ list "
   ]
  },
  {
   "cell_type": "code",
   "execution_count": 19,
   "id": "09c4205b",
   "metadata": {},
   "outputs": [],
   "source": [
    "Fruit = ['Apple', \"Orange\",'Grabes','Banana']"
   ]
  },
  {
   "cell_type": "code",
   "execution_count": 21,
   "id": "b986eabe",
   "metadata": {},
   "outputs": [
    {
     "name": "stdout",
     "output_type": "stream",
     "text": [
      "a\n"
     ]
    }
   ],
   "source": [
    "print(Fruit[3][3])"
   ]
  },
  {
   "cell_type": "markdown",
   "id": "d9ee0b71",
   "metadata": {},
   "source": [
    "7 how can you count number of occurrences of a specific element in a slist "
   ]
  },
  {
   "cell_type": "code",
   "execution_count": null,
   "id": "f3f57e12",
   "metadata": {},
   "outputs": [],
   "source": []
  },
  {
   "cell_type": "code",
   "execution_count": null,
   "id": "6d56fdca",
   "metadata": {},
   "outputs": [],
   "source": []
  },
  {
   "cell_type": "markdown",
   "id": "3df122a0",
   "metadata": {},
   "source": [
    "8 how can you sort the element in a list ascending order"
   ]
  },
  {
   "cell_type": "code",
   "execution_count": 2,
   "id": "8a49c2d3",
   "metadata": {},
   "outputs": [],
   "source": [
    "My_Digits = [99, 56, 45, 67, 89, 99, 0, 1, 5, 88, 22, 2, 53]"
   ]
  },
  {
   "cell_type": "code",
   "execution_count": 3,
   "id": "cd8c1b7c",
   "metadata": {},
   "outputs": [
    {
     "data": {
      "text/plain": [
       "[99, 56, 45, 67, 89, 99, 0, 1, 5, 88, 22, 2, 53]"
      ]
     },
     "execution_count": 3,
     "metadata": {},
     "output_type": "execute_result"
    }
   ],
   "source": [
    "My_Digits"
   ]
  },
  {
   "cell_type": "code",
   "execution_count": 5,
   "id": "3dc58fbc",
   "metadata": {},
   "outputs": [
    {
     "name": "stdout",
     "output_type": "stream",
     "text": [
      "[0, 1, 2, 5, 22, 45, 53, 56, 67, 88, 89, 99, 99]\n"
     ]
    }
   ],
   "source": [
    "My_Digits.sort()\n",
    "print(My_Digits)"
   ]
  },
  {
   "cell_type": "markdown",
   "id": "4512942d",
   "metadata": {},
   "source": [
    " 9 how can you reverse the order of the element"
   ]
  },
  {
   "cell_type": "code",
   "execution_count": 8,
   "id": "bf83c594",
   "metadata": {},
   "outputs": [
    {
     "name": "stdout",
     "output_type": "stream",
     "text": [
      "[99, 89, 88, 67, 56, 53, 45, 22, 5, 2, 1, 0]\n"
     ]
    }
   ],
   "source": [
    "My_Digits = [99, 56, 45, 67, 89, 0, 1, 5, 88, 22, 2, 53]\n",
    "My_Digits.sort(reverse=True)\n",
    "print(My_Digits)"
   ]
  }
 ],
 "metadata": {
  "kernelspec": {
   "display_name": "Python 3 (ipykernel)",
   "language": "python",
   "name": "python3"
  },
  "language_info": {
   "codemirror_mode": {
    "name": "ipython",
    "version": 3
   },
   "file_extension": ".py",
   "mimetype": "text/x-python",
   "name": "python",
   "nbconvert_exporter": "python",
   "pygments_lexer": "ipython3",
   "version": "3.11.3"
  }
 },
 "nbformat": 4,
 "nbformat_minor": 5
}
