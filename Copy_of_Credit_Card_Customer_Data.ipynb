{
  "nbformat": 4,
  "nbformat_minor": 0,
  "metadata": {
    "colab": {
      "name": "Copy of Credit Card Customer Data.ipynb",
      "provenance": [],
      "authorship_tag": "ABX9TyOKMIC2zsVFAdpAPxX6CTIO",
      "include_colab_link": true
    },
    "kernelspec": {
      "name": "python3",
      "display_name": "Python 3"
    },
    "language_info": {
      "name": "python"
    }
  },
  "cells": [
    {
      "cell_type": "markdown",
      "metadata": {
        "id": "view-in-github",
        "colab_type": "text"
      },
      "source": [
        "<a href=\"https://colab.research.google.com/github/endkem/AI-Code-D/blob/main/Copy_of_Credit_Card_Customer_Data.ipynb\" target=\"_parent\"><img src=\"https://colab.research.google.com/assets/colab-badge.svg\" alt=\"Open In Colab\"/></a>"
      ]
    },
    {
      "cell_type": "code",
      "metadata": {
        "id": "sDqGcjGJ9Yya"
      },
      "source": [
        "try:\n",
        "  import google.colab\n",
        "\n",
        "  IN_COLAB = True\n",
        "  \n",
        "except:\n",
        "  IN_COLAB = False\n"
      ],
      "execution_count": null,
      "outputs": []
    },
    {
      "cell_type": "code",
      "metadata": {
        "colab": {
          "base_uri": "https://localhost:8080/"
        },
        "id": "tvqq8L-99bWD",
        "outputId": "5bc3b7b3-0d7f-4bbe-a812-fe894f7bba95"
      },
      "source": [
        "if IN_COLAB:\n",
        "    \n",
        "    from google.colab import auth\n",
        "    from oauth2client.client import GoogleCredentials\n",
        "    from google.colab import drive\n",
        "\n",
        "    auth.authenticate_user()\n",
        "    drive.mount('/content/gdrive')\n",
        "\n",
        "    DATA_DIR = '/content/gdrive/MyDrive/Colab Notebooks/'\n",
        "else:\n",
        "    DATA_DIR = './'"
      ],
      "execution_count": null,
      "outputs": [
        {
          "output_type": "stream",
          "text": [
            "Mounted at /content/gdrive\n"
          ],
          "name": "stdout"
        }
      ]
    },
    {
      "cell_type": "code",
      "metadata": {
        "id": "aavEsLJm9drE"
      },
      "source": [
        "import warnings\n",
        "warnings.filterwarnings('ignore')\n",
        "import pandas as pd\n",
        "#let us start by importing the relevant libraries\n",
        "%matplotlib inline\n",
        "import numpy as np\n",
        "import pandas as pd\n",
        "import matplotlib.pyplot as plt\n",
        "import seaborn as sns\n",
        "from sklearn.preprocessing import StandardScaler\n",
        "from scipy.spatial.distance import cdist\n",
        "from scipy.spatial.distance import pdist\n",
        "from sklearn.cluster import KMeans\n",
        "from sklearn.metrics import silhouette_score\n",
        "from yellowbrick.cluster import KElbowVisualizer, SilhouetteVisualizer\n",
        "# to suppress scientifiv notations\n",
        "pd.set_option('display.float_format', lambda x: '%.2f' % x)"
      ],
      "execution_count": null,
      "outputs": []
    },
    {
      "cell_type": "code",
      "metadata": {
        "id": "lttIAGvf9uX0"
      },
      "source": [
        "DATA_FILE = 'Credit Card Customer Data.xlsx'\n",
        "FULL_DATA_FILE_PATH = DATA_DIR + DATA_FILE"
      ],
      "execution_count": null,
      "outputs": []
    },
    {
      "cell_type": "code",
      "metadata": {
        "id": "duG3ik_b-XzD"
      },
      "source": [
        "data = pd.read_excel(FULL_DATA_FILE_PATH)"
      ],
      "execution_count": null,
      "outputs": []
    },
    {
      "cell_type": "markdown",
      "metadata": {
        "id": "lGXnFb6b-qU3"
      },
      "source": [
        "View the first and last 5 rows of the dataset"
      ]
    },
    {
      "cell_type": "code",
      "metadata": {
        "colab": {
          "base_uri": "https://localhost:8080/",
          "height": 241
        },
        "id": "3H2igPNb-dFG",
        "outputId": "32480e84-d3e1-4325-a255-d776d13754ed"
      },
      "source": [
        "data.head()"
      ],
      "execution_count": null,
      "outputs": [
        {
          "output_type": "execute_result",
          "data": {
            "text/html": [
              "<div>\n",
              "<style scoped>\n",
              "    .dataframe tbody tr th:only-of-type {\n",
              "        vertical-align: middle;\n",
              "    }\n",
              "\n",
              "    .dataframe tbody tr th {\n",
              "        vertical-align: top;\n",
              "    }\n",
              "\n",
              "    .dataframe thead th {\n",
              "        text-align: right;\n",
              "    }\n",
              "</style>\n",
              "<table border=\"1\" class=\"dataframe\">\n",
              "  <thead>\n",
              "    <tr style=\"text-align: right;\">\n",
              "      <th></th>\n",
              "      <th>Sl_No</th>\n",
              "      <th>Customer Key</th>\n",
              "      <th>Avg_Credit_Limit</th>\n",
              "      <th>Total_Credit_Cards</th>\n",
              "      <th>Total_visits_bank</th>\n",
              "      <th>Total_visits_online</th>\n",
              "      <th>Total_calls_made</th>\n",
              "    </tr>\n",
              "  </thead>\n",
              "  <tbody>\n",
              "    <tr>\n",
              "      <th>0</th>\n",
              "      <td>1</td>\n",
              "      <td>87073</td>\n",
              "      <td>100000</td>\n",
              "      <td>2</td>\n",
              "      <td>1</td>\n",
              "      <td>1</td>\n",
              "      <td>0</td>\n",
              "    </tr>\n",
              "    <tr>\n",
              "      <th>1</th>\n",
              "      <td>2</td>\n",
              "      <td>38414</td>\n",
              "      <td>50000</td>\n",
              "      <td>3</td>\n",
              "      <td>0</td>\n",
              "      <td>10</td>\n",
              "      <td>9</td>\n",
              "    </tr>\n",
              "    <tr>\n",
              "      <th>2</th>\n",
              "      <td>3</td>\n",
              "      <td>17341</td>\n",
              "      <td>50000</td>\n",
              "      <td>7</td>\n",
              "      <td>1</td>\n",
              "      <td>3</td>\n",
              "      <td>4</td>\n",
              "    </tr>\n",
              "    <tr>\n",
              "      <th>3</th>\n",
              "      <td>4</td>\n",
              "      <td>40496</td>\n",
              "      <td>30000</td>\n",
              "      <td>5</td>\n",
              "      <td>1</td>\n",
              "      <td>1</td>\n",
              "      <td>4</td>\n",
              "    </tr>\n",
              "    <tr>\n",
              "      <th>4</th>\n",
              "      <td>5</td>\n",
              "      <td>47437</td>\n",
              "      <td>100000</td>\n",
              "      <td>6</td>\n",
              "      <td>0</td>\n",
              "      <td>12</td>\n",
              "      <td>3</td>\n",
              "    </tr>\n",
              "  </tbody>\n",
              "</table>\n",
              "</div>"
            ],
            "text/plain": [
              "   Sl_No  Customer Key  ...  Total_visits_online  Total_calls_made\n",
              "0      1         87073  ...                    1                 0\n",
              "1      2         38414  ...                   10                 9\n",
              "2      3         17341  ...                    3                 4\n",
              "3      4         40496  ...                    1                 4\n",
              "4      5         47437  ...                   12                 3\n",
              "\n",
              "[5 rows x 7 columns]"
            ]
          },
          "metadata": {
            "tags": []
          },
          "execution_count": 396
        }
      ]
    },
    {
      "cell_type": "markdown",
      "metadata": {
        "id": "PKpTpcoi-odV"
      },
      "source": [
        ""
      ]
    },
    {
      "cell_type": "code",
      "metadata": {
        "colab": {
          "base_uri": "https://localhost:8080/"
        },
        "id": "ZcslQpEW-fEu",
        "outputId": "04c10b6e-f526-4180-c7d0-f572a8275a2d"
      },
      "source": [
        "data.shape"
      ],
      "execution_count": null,
      "outputs": [
        {
          "output_type": "execute_result",
          "data": {
            "text/plain": [
              "(660, 7)"
            ]
          },
          "metadata": {
            "tags": []
          },
          "execution_count": 397
        }
      ]
    },
    {
      "cell_type": "markdown",
      "metadata": {
        "id": "h-RNVx_2-vgD"
      },
      "source": [
        "The data set has 660 rows and 7 columns"
      ]
    },
    {
      "cell_type": "markdown",
      "metadata": {
        "id": "zgECPo_8-yj9"
      },
      "source": [
        "Check the data types of the columns for the dataset"
      ]
    },
    {
      "cell_type": "code",
      "metadata": {
        "colab": {
          "base_uri": "https://localhost:8080/"
        },
        "id": "xGr1UVSP-uxl",
        "outputId": "91d160f6-a279-4ac8-8e24-9a52be34f240"
      },
      "source": [
        "data.info()"
      ],
      "execution_count": null,
      "outputs": [
        {
          "output_type": "stream",
          "text": [
            "<class 'pandas.core.frame.DataFrame'>\n",
            "RangeIndex: 660 entries, 0 to 659\n",
            "Data columns (total 7 columns):\n",
            " #   Column               Non-Null Count  Dtype\n",
            "---  ------               --------------  -----\n",
            " 0   Sl_No                660 non-null    int64\n",
            " 1   Customer Key         660 non-null    int64\n",
            " 2   Avg_Credit_Limit     660 non-null    int64\n",
            " 3   Total_Credit_Cards   660 non-null    int64\n",
            " 4   Total_visits_bank    660 non-null    int64\n",
            " 5   Total_visits_online  660 non-null    int64\n",
            " 6   Total_calls_made     660 non-null    int64\n",
            "dtypes: int64(7)\n",
            "memory usage: 36.2 KB\n"
          ],
          "name": "stdout"
        }
      ]
    },
    {
      "cell_type": "markdown",
      "metadata": {
        "id": "CO9zUOgP-2iS"
      },
      "source": [
        "There are no null values in the data. All columns are numerical."
      ]
    },
    {
      "cell_type": "markdown",
      "metadata": {
        "id": "VYdZIpmL-47w"
      },
      "source": [
        "Summary of the dataset.¶"
      ]
    },
    {
      "cell_type": "code",
      "metadata": {
        "colab": {
          "base_uri": "https://localhost:8080/",
          "height": 266
        },
        "id": "wSJztf9U-1SY",
        "outputId": "bf6c61b7-5fb9-4461-aa39-bdbb2998c4be"
      },
      "source": [
        "data.describe().T"
      ],
      "execution_count": null,
      "outputs": [
        {
          "output_type": "execute_result",
          "data": {
            "text/html": [
              "<div>\n",
              "<style scoped>\n",
              "    .dataframe tbody tr th:only-of-type {\n",
              "        vertical-align: middle;\n",
              "    }\n",
              "\n",
              "    .dataframe tbody tr th {\n",
              "        vertical-align: top;\n",
              "    }\n",
              "\n",
              "    .dataframe thead th {\n",
              "        text-align: right;\n",
              "    }\n",
              "</style>\n",
              "<table border=\"1\" class=\"dataframe\">\n",
              "  <thead>\n",
              "    <tr style=\"text-align: right;\">\n",
              "      <th></th>\n",
              "      <th>count</th>\n",
              "      <th>mean</th>\n",
              "      <th>std</th>\n",
              "      <th>min</th>\n",
              "      <th>25%</th>\n",
              "      <th>50%</th>\n",
              "      <th>75%</th>\n",
              "      <th>max</th>\n",
              "    </tr>\n",
              "  </thead>\n",
              "  <tbody>\n",
              "    <tr>\n",
              "      <th>Sl_No</th>\n",
              "      <td>660.00</td>\n",
              "      <td>330.50</td>\n",
              "      <td>190.67</td>\n",
              "      <td>1.00</td>\n",
              "      <td>165.75</td>\n",
              "      <td>330.50</td>\n",
              "      <td>495.25</td>\n",
              "      <td>660.00</td>\n",
              "    </tr>\n",
              "    <tr>\n",
              "      <th>Customer Key</th>\n",
              "      <td>660.00</td>\n",
              "      <td>55141.44</td>\n",
              "      <td>25627.77</td>\n",
              "      <td>11265.00</td>\n",
              "      <td>33825.25</td>\n",
              "      <td>53874.50</td>\n",
              "      <td>77202.50</td>\n",
              "      <td>99843.00</td>\n",
              "    </tr>\n",
              "    <tr>\n",
              "      <th>Avg_Credit_Limit</th>\n",
              "      <td>660.00</td>\n",
              "      <td>34574.24</td>\n",
              "      <td>37625.49</td>\n",
              "      <td>3000.00</td>\n",
              "      <td>10000.00</td>\n",
              "      <td>18000.00</td>\n",
              "      <td>48000.00</td>\n",
              "      <td>200000.00</td>\n",
              "    </tr>\n",
              "    <tr>\n",
              "      <th>Total_Credit_Cards</th>\n",
              "      <td>660.00</td>\n",
              "      <td>4.71</td>\n",
              "      <td>2.17</td>\n",
              "      <td>1.00</td>\n",
              "      <td>3.00</td>\n",
              "      <td>5.00</td>\n",
              "      <td>6.00</td>\n",
              "      <td>10.00</td>\n",
              "    </tr>\n",
              "    <tr>\n",
              "      <th>Total_visits_bank</th>\n",
              "      <td>660.00</td>\n",
              "      <td>2.40</td>\n",
              "      <td>1.63</td>\n",
              "      <td>0.00</td>\n",
              "      <td>1.00</td>\n",
              "      <td>2.00</td>\n",
              "      <td>4.00</td>\n",
              "      <td>5.00</td>\n",
              "    </tr>\n",
              "    <tr>\n",
              "      <th>Total_visits_online</th>\n",
              "      <td>660.00</td>\n",
              "      <td>2.61</td>\n",
              "      <td>2.94</td>\n",
              "      <td>0.00</td>\n",
              "      <td>1.00</td>\n",
              "      <td>2.00</td>\n",
              "      <td>4.00</td>\n",
              "      <td>15.00</td>\n",
              "    </tr>\n",
              "    <tr>\n",
              "      <th>Total_calls_made</th>\n",
              "      <td>660.00</td>\n",
              "      <td>3.58</td>\n",
              "      <td>2.87</td>\n",
              "      <td>0.00</td>\n",
              "      <td>1.00</td>\n",
              "      <td>3.00</td>\n",
              "      <td>5.00</td>\n",
              "      <td>10.00</td>\n",
              "    </tr>\n",
              "  </tbody>\n",
              "</table>\n",
              "</div>"
            ],
            "text/plain": [
              "                     count     mean      std  ...      50%      75%       max\n",
              "Sl_No               660.00   330.50   190.67  ...   330.50   495.25    660.00\n",
              "Customer Key        660.00 55141.44 25627.77  ... 53874.50 77202.50  99843.00\n",
              "Avg_Credit_Limit    660.00 34574.24 37625.49  ... 18000.00 48000.00 200000.00\n",
              "Total_Credit_Cards  660.00     4.71     2.17  ...     5.00     6.00     10.00\n",
              "Total_visits_bank   660.00     2.40     1.63  ...     2.00     4.00      5.00\n",
              "Total_visits_online 660.00     2.61     2.94  ...     2.00     4.00     15.00\n",
              "Total_calls_made    660.00     3.58     2.87  ...     3.00     5.00     10.00\n",
              "\n",
              "[7 rows x 8 columns]"
            ]
          },
          "metadata": {
            "tags": []
          },
          "execution_count": 399
        }
      ]
    },
    {
      "cell_type": "markdown",
      "metadata": {
        "id": "HbV85Fle-9FS"
      },
      "source": [
        "* Sl_No : This key looks a duplicate record but it is okay as this kind of key is generated when a databse added a serial number like SQL. Hence, it is under my observation it is not the same as Customer_Key.\n",
        "\n",
        "* Customer_Key has a mean value of 55141\n",
        "\n",
        "* The mean credit cards is 4.7 with a minimum value of 1 and maximum value of 10.\n",
        "* Total Visits_bank shows a maximum visit of 5\n",
        "* Tocal visits online shows a maximum visit of 15 which shows more customers are visting online not in Bank.\n",
        "* Total calls made is maximum of 10 and minum of 0 customers makes call."
      ]
    },
    {
      "cell_type": "code",
      "metadata": {
        "id": "RwcMuuGt-70m"
      },
      "source": [
        "data.drop(['Sl_No'], axis=1, inplace=True)\n"
      ],
      "execution_count": null,
      "outputs": []
    },
    {
      "cell_type": "markdown",
      "metadata": {
        "id": "P--0XGx4_Oib"
      },
      "source": [
        "check if there is any missing value"
      ]
    },
    {
      "cell_type": "code",
      "metadata": {
        "colab": {
          "base_uri": "https://localhost:8080/"
        },
        "id": "Iziphvn0_M6x",
        "outputId": "3fe90cbc-a479-4b03-e49f-4c011e1836e1"
      },
      "source": [
        "data.isna().sum()"
      ],
      "execution_count": null,
      "outputs": [
        {
          "output_type": "execute_result",
          "data": {
            "text/plain": [
              "Customer Key           0\n",
              "Avg_Credit_Limit       0\n",
              "Total_Credit_Cards     0\n",
              "Total_visits_bank      0\n",
              "Total_visits_online    0\n",
              "Total_calls_made       0\n",
              "dtype: int64"
            ]
          },
          "metadata": {
            "tags": []
          },
          "execution_count": 401
        }
      ]
    },
    {
      "cell_type": "markdown",
      "metadata": {
        "id": "iDMKJ_8j_V0P"
      },
      "source": [
        "Check duplicate records in the Customer_Key column"
      ]
    },
    {
      "cell_type": "markdown",
      "metadata": {
        "id": "aTy7V7m2_cGr"
      },
      "source": [
        "Observations : \n",
        "Customer_key shows five duplicates of key 3752,4737,5076,96929,97935\n",
        "\n",
        "However, from the total of 660 rows, there are less than 1% of the data that is duplicated, then i will leave it as is."
      ]
    },
    {
      "cell_type": "code",
      "metadata": {
        "colab": {
          "base_uri": "https://localhost:8080/",
          "height": 66
        },
        "id": "aQuzT6TLNHJV",
        "outputId": "e390bac2-80cb-41c4-8368-30ba34f97984"
      },
      "source": [
        "# finding duplicatred rows\n",
        "duplicate_rows = data[data.duplicated()]\n",
        "duplicate_rows"
      ],
      "execution_count": null,
      "outputs": [
        {
          "output_type": "execute_result",
          "data": {
            "text/html": [
              "<div>\n",
              "<style scoped>\n",
              "    .dataframe tbody tr th:only-of-type {\n",
              "        vertical-align: middle;\n",
              "    }\n",
              "\n",
              "    .dataframe tbody tr th {\n",
              "        vertical-align: top;\n",
              "    }\n",
              "\n",
              "    .dataframe thead th {\n",
              "        text-align: right;\n",
              "    }\n",
              "</style>\n",
              "<table border=\"1\" class=\"dataframe\">\n",
              "  <thead>\n",
              "    <tr style=\"text-align: right;\">\n",
              "      <th></th>\n",
              "      <th>Customer Key</th>\n",
              "      <th>Avg_Credit_Limit</th>\n",
              "      <th>Total_Credit_Cards</th>\n",
              "      <th>Total_visits_bank</th>\n",
              "      <th>Total_visits_online</th>\n",
              "      <th>Total_calls_made</th>\n",
              "    </tr>\n",
              "  </thead>\n",
              "  <tbody>\n",
              "  </tbody>\n",
              "</table>\n",
              "</div>"
            ],
            "text/plain": [
              "Empty DataFrame\n",
              "Columns: [Customer Key, Avg_Credit_Limit, Total_Credit_Cards, Total_visits_bank, Total_visits_online, Total_calls_made]\n",
              "Index: []"
            ]
          },
          "metadata": {
            "tags": []
          },
          "execution_count": 402
        }
      ]
    },
    {
      "cell_type": "code",
      "metadata": {
        "colab": {
          "base_uri": "https://localhost:8080/",
          "height": 609
        },
        "id": "5qQQBWNaOkOg",
        "outputId": "66e5705d-93ea-4211-c459-07ad42a5b09a"
      },
      "source": [
        "# even if the duplicated() funcation does not show any duplicates below query finds duplicates \n",
        "\n",
        "gb_cccd = data.groupby('Customer Key').count()\n",
        "print('There are',gb_cccd.loc[gb_cccd.Total_calls_made >=2].shape[1], 'duplicate entries for Customer Key')\n",
        "\n",
        "for k in list(gb_cccd.loc[gb_cccd.Total_calls_made >=2].index):\n",
        "    display(data.loc[data['Customer Key'] == k])"
      ],
      "execution_count": null,
      "outputs": [
        {
          "output_type": "stream",
          "text": [
            "There are 5 duplicate entries for Customer Key\n"
          ],
          "name": "stdout"
        },
        {
          "output_type": "display_data",
          "data": {
            "text/html": [
              "<div>\n",
              "<style scoped>\n",
              "    .dataframe tbody tr th:only-of-type {\n",
              "        vertical-align: middle;\n",
              "    }\n",
              "\n",
              "    .dataframe tbody tr th {\n",
              "        vertical-align: top;\n",
              "    }\n",
              "\n",
              "    .dataframe thead th {\n",
              "        text-align: right;\n",
              "    }\n",
              "</style>\n",
              "<table border=\"1\" class=\"dataframe\">\n",
              "  <thead>\n",
              "    <tr style=\"text-align: right;\">\n",
              "      <th></th>\n",
              "      <th>Customer Key</th>\n",
              "      <th>Avg_Credit_Limit</th>\n",
              "      <th>Total_Credit_Cards</th>\n",
              "      <th>Total_visits_bank</th>\n",
              "      <th>Total_visits_online</th>\n",
              "      <th>Total_calls_made</th>\n",
              "    </tr>\n",
              "  </thead>\n",
              "  <tbody>\n",
              "    <tr>\n",
              "      <th>48</th>\n",
              "      <td>37252</td>\n",
              "      <td>6000</td>\n",
              "      <td>4</td>\n",
              "      <td>0</td>\n",
              "      <td>2</td>\n",
              "      <td>8</td>\n",
              "    </tr>\n",
              "    <tr>\n",
              "      <th>432</th>\n",
              "      <td>37252</td>\n",
              "      <td>59000</td>\n",
              "      <td>6</td>\n",
              "      <td>2</td>\n",
              "      <td>1</td>\n",
              "      <td>2</td>\n",
              "    </tr>\n",
              "  </tbody>\n",
              "</table>\n",
              "</div>"
            ],
            "text/plain": [
              "     Customer Key  Avg_Credit_Limit  ...  Total_visits_online  Total_calls_made\n",
              "48          37252              6000  ...                    2                 8\n",
              "432         37252             59000  ...                    1                 2\n",
              "\n",
              "[2 rows x 6 columns]"
            ]
          },
          "metadata": {
            "tags": []
          }
        },
        {
          "output_type": "display_data",
          "data": {
            "text/html": [
              "<div>\n",
              "<style scoped>\n",
              "    .dataframe tbody tr th:only-of-type {\n",
              "        vertical-align: middle;\n",
              "    }\n",
              "\n",
              "    .dataframe tbody tr th {\n",
              "        vertical-align: top;\n",
              "    }\n",
              "\n",
              "    .dataframe thead th {\n",
              "        text-align: right;\n",
              "    }\n",
              "</style>\n",
              "<table border=\"1\" class=\"dataframe\">\n",
              "  <thead>\n",
              "    <tr style=\"text-align: right;\">\n",
              "      <th></th>\n",
              "      <th>Customer Key</th>\n",
              "      <th>Avg_Credit_Limit</th>\n",
              "      <th>Total_Credit_Cards</th>\n",
              "      <th>Total_visits_bank</th>\n",
              "      <th>Total_visits_online</th>\n",
              "      <th>Total_calls_made</th>\n",
              "    </tr>\n",
              "  </thead>\n",
              "  <tbody>\n",
              "    <tr>\n",
              "      <th>4</th>\n",
              "      <td>47437</td>\n",
              "      <td>100000</td>\n",
              "      <td>6</td>\n",
              "      <td>0</td>\n",
              "      <td>12</td>\n",
              "      <td>3</td>\n",
              "    </tr>\n",
              "    <tr>\n",
              "      <th>332</th>\n",
              "      <td>47437</td>\n",
              "      <td>17000</td>\n",
              "      <td>7</td>\n",
              "      <td>3</td>\n",
              "      <td>1</td>\n",
              "      <td>0</td>\n",
              "    </tr>\n",
              "  </tbody>\n",
              "</table>\n",
              "</div>"
            ],
            "text/plain": [
              "     Customer Key  Avg_Credit_Limit  ...  Total_visits_online  Total_calls_made\n",
              "4           47437            100000  ...                   12                 3\n",
              "332         47437             17000  ...                    1                 0\n",
              "\n",
              "[2 rows x 6 columns]"
            ]
          },
          "metadata": {
            "tags": []
          }
        },
        {
          "output_type": "display_data",
          "data": {
            "text/html": [
              "<div>\n",
              "<style scoped>\n",
              "    .dataframe tbody tr th:only-of-type {\n",
              "        vertical-align: middle;\n",
              "    }\n",
              "\n",
              "    .dataframe tbody tr th {\n",
              "        vertical-align: top;\n",
              "    }\n",
              "\n",
              "    .dataframe thead th {\n",
              "        text-align: right;\n",
              "    }\n",
              "</style>\n",
              "<table border=\"1\" class=\"dataframe\">\n",
              "  <thead>\n",
              "    <tr style=\"text-align: right;\">\n",
              "      <th></th>\n",
              "      <th>Customer Key</th>\n",
              "      <th>Avg_Credit_Limit</th>\n",
              "      <th>Total_Credit_Cards</th>\n",
              "      <th>Total_visits_bank</th>\n",
              "      <th>Total_visits_online</th>\n",
              "      <th>Total_calls_made</th>\n",
              "    </tr>\n",
              "  </thead>\n",
              "  <tbody>\n",
              "    <tr>\n",
              "      <th>411</th>\n",
              "      <td>50706</td>\n",
              "      <td>44000</td>\n",
              "      <td>4</td>\n",
              "      <td>5</td>\n",
              "      <td>0</td>\n",
              "      <td>2</td>\n",
              "    </tr>\n",
              "    <tr>\n",
              "      <th>541</th>\n",
              "      <td>50706</td>\n",
              "      <td>60000</td>\n",
              "      <td>7</td>\n",
              "      <td>5</td>\n",
              "      <td>2</td>\n",
              "      <td>2</td>\n",
              "    </tr>\n",
              "  </tbody>\n",
              "</table>\n",
              "</div>"
            ],
            "text/plain": [
              "     Customer Key  Avg_Credit_Limit  ...  Total_visits_online  Total_calls_made\n",
              "411         50706             44000  ...                    0                 2\n",
              "541         50706             60000  ...                    2                 2\n",
              "\n",
              "[2 rows x 6 columns]"
            ]
          },
          "metadata": {
            "tags": []
          }
        },
        {
          "output_type": "display_data",
          "data": {
            "text/html": [
              "<div>\n",
              "<style scoped>\n",
              "    .dataframe tbody tr th:only-of-type {\n",
              "        vertical-align: middle;\n",
              "    }\n",
              "\n",
              "    .dataframe tbody tr th {\n",
              "        vertical-align: top;\n",
              "    }\n",
              "\n",
              "    .dataframe thead th {\n",
              "        text-align: right;\n",
              "    }\n",
              "</style>\n",
              "<table border=\"1\" class=\"dataframe\">\n",
              "  <thead>\n",
              "    <tr style=\"text-align: right;\">\n",
              "      <th></th>\n",
              "      <th>Customer Key</th>\n",
              "      <th>Avg_Credit_Limit</th>\n",
              "      <th>Total_Credit_Cards</th>\n",
              "      <th>Total_visits_bank</th>\n",
              "      <th>Total_visits_online</th>\n",
              "      <th>Total_calls_made</th>\n",
              "    </tr>\n",
              "  </thead>\n",
              "  <tbody>\n",
              "    <tr>\n",
              "      <th>391</th>\n",
              "      <td>96929</td>\n",
              "      <td>13000</td>\n",
              "      <td>4</td>\n",
              "      <td>5</td>\n",
              "      <td>0</td>\n",
              "      <td>0</td>\n",
              "    </tr>\n",
              "    <tr>\n",
              "      <th>398</th>\n",
              "      <td>96929</td>\n",
              "      <td>67000</td>\n",
              "      <td>6</td>\n",
              "      <td>2</td>\n",
              "      <td>2</td>\n",
              "      <td>2</td>\n",
              "    </tr>\n",
              "  </tbody>\n",
              "</table>\n",
              "</div>"
            ],
            "text/plain": [
              "     Customer Key  Avg_Credit_Limit  ...  Total_visits_online  Total_calls_made\n",
              "391         96929             13000  ...                    0                 0\n",
              "398         96929             67000  ...                    2                 2\n",
              "\n",
              "[2 rows x 6 columns]"
            ]
          },
          "metadata": {
            "tags": []
          }
        },
        {
          "output_type": "display_data",
          "data": {
            "text/html": [
              "<div>\n",
              "<style scoped>\n",
              "    .dataframe tbody tr th:only-of-type {\n",
              "        vertical-align: middle;\n",
              "    }\n",
              "\n",
              "    .dataframe tbody tr th {\n",
              "        vertical-align: top;\n",
              "    }\n",
              "\n",
              "    .dataframe thead th {\n",
              "        text-align: right;\n",
              "    }\n",
              "</style>\n",
              "<table border=\"1\" class=\"dataframe\">\n",
              "  <thead>\n",
              "    <tr style=\"text-align: right;\">\n",
              "      <th></th>\n",
              "      <th>Customer Key</th>\n",
              "      <th>Avg_Credit_Limit</th>\n",
              "      <th>Total_Credit_Cards</th>\n",
              "      <th>Total_visits_bank</th>\n",
              "      <th>Total_visits_online</th>\n",
              "      <th>Total_calls_made</th>\n",
              "    </tr>\n",
              "  </thead>\n",
              "  <tbody>\n",
              "    <tr>\n",
              "      <th>104</th>\n",
              "      <td>97935</td>\n",
              "      <td>17000</td>\n",
              "      <td>2</td>\n",
              "      <td>1</td>\n",
              "      <td>2</td>\n",
              "      <td>10</td>\n",
              "    </tr>\n",
              "    <tr>\n",
              "      <th>632</th>\n",
              "      <td>97935</td>\n",
              "      <td>187000</td>\n",
              "      <td>7</td>\n",
              "      <td>1</td>\n",
              "      <td>7</td>\n",
              "      <td>0</td>\n",
              "    </tr>\n",
              "  </tbody>\n",
              "</table>\n",
              "</div>"
            ],
            "text/plain": [
              "     Customer Key  Avg_Credit_Limit  ...  Total_visits_online  Total_calls_made\n",
              "104         97935             17000  ...                    2                10\n",
              "632         97935            187000  ...                    7                 0\n",
              "\n",
              "[2 rows x 6 columns]"
            ]
          },
          "metadata": {
            "tags": []
          }
        }
      ]
    },
    {
      "cell_type": "markdown",
      "metadata": {
        "id": "vpfV2gTIOzdF"
      },
      "source": [
        "There are 5 duplicate keys in Customer_Key but the result is less than 1 % of the population.**bold text**"
      ]
    },
    {
      "cell_type": "markdown",
      "metadata": {
        "id": "o18WR1sHTXp8"
      },
      "source": [
        "'Customer Key' is irrelevant for this analysis due to the duplicate."
      ]
    },
    {
      "cell_type": "code",
      "metadata": {
        "id": "BcZiMJVDTgi8"
      },
      "source": [
        "data.drop(['Customer Key'], axis=1, inplace=True)"
      ],
      "execution_count": null,
      "outputs": []
    },
    {
      "cell_type": "markdown",
      "metadata": {
        "id": "0JTSBo-CPNQg"
      },
      "source": [
        "Calculate outliers using IQR"
      ]
    },
    {
      "cell_type": "code",
      "metadata": {
        "id": "-RrFerIpOkdQ"
      },
      "source": [
        "# function to calculate the IQR and upper and lower bound range\n",
        "\n",
        "def calculateIQR(col) :\n",
        "  Q1 = np.percentile(col, 25, interpolation='midpoint')\n",
        "  Q3 = np.percentile(col, 75, interpolation='midpoint')\n",
        "  IQR = Q3-Q1\n",
        "  lower_bound = Q1 -(1.5 * IQR)\n",
        "  upper_bound = Q3 + (1.5 * IQR)\n",
        "  return lower_bound, upper_bound"
      ],
      "execution_count": null,
      "outputs": []
    },
    {
      "cell_type": "code",
      "metadata": {
        "colab": {
          "base_uri": "https://localhost:8080/"
        },
        "id": "Y1WQeaGBOksy",
        "outputId": "4ed4aa76-bb24-4bd0-f6c8-8a8abac3dcb2"
      },
      "source": [
        "for col in data.columns :\n",
        "  if data[col].dtypes in ('int64', \"float64\") :\n",
        "    lower_range, upper_range = calculateIQR(data[col])\n",
        "    print(\"---------------- \" + col +  \"--------------------------------------------\")\n",
        "    print(\"upper-range outliers - \", data[data[col] > upper_range].shape[0])\n",
        "    print(\"% upper-range outliers - \", (data[data[col] > upper_range].shape[0] / data.shape[0])* 100)\n",
        "    print(\"lower-range outliers - \", data[data[col] < lower_range].shape[0])\n",
        "    print(\"% lower-range outliers - \", (data[data[col] < lower_range].shape[0] / data.shape[0]) * 100)\n",
        "    "
      ],
      "execution_count": null,
      "outputs": [
        {
          "output_type": "stream",
          "text": [
            "---------------- Avg_Credit_Limit--------------------------------------------\n",
            "upper-range outliers -  39\n",
            "% upper-range outliers -  5.909090909090909\n",
            "lower-range outliers -  0\n",
            "% lower-range outliers -  0.0\n",
            "---------------- Total_Credit_Cards--------------------------------------------\n",
            "upper-range outliers -  0\n",
            "% upper-range outliers -  0.0\n",
            "lower-range outliers -  0\n",
            "% lower-range outliers -  0.0\n",
            "---------------- Total_visits_bank--------------------------------------------\n",
            "upper-range outliers -  0\n",
            "% upper-range outliers -  0.0\n",
            "lower-range outliers -  0\n",
            "% lower-range outliers -  0.0\n",
            "---------------- Total_visits_online--------------------------------------------\n",
            "upper-range outliers -  37\n",
            "% upper-range outliers -  5.606060606060606\n",
            "lower-range outliers -  0\n",
            "% lower-range outliers -  0.0\n",
            "---------------- Total_calls_made--------------------------------------------\n",
            "upper-range outliers -  0\n",
            "% upper-range outliers -  0.0\n",
            "lower-range outliers -  0\n",
            "% lower-range outliers -  0.0\n"
          ],
          "name": "stdout"
        }
      ]
    },
    {
      "cell_type": "markdown",
      "metadata": {
        "id": "gqVkicBNP058"
      },
      "source": [
        ""
      ]
    },
    {
      "cell_type": "markdown",
      "metadata": {
        "id": "XeOUk2ADPlVk"
      },
      "source": [
        "Outliers detection shows a total of online visitors of 5.6 % and average credit limit of 5.9%."
      ]
    },
    {
      "cell_type": "markdown",
      "metadata": {
        "id": "9GUypCpT_eKh"
      },
      "source": [
        "Illustrate the insights based on EDA"
      ]
    },
    {
      "cell_type": "markdown",
      "metadata": {
        "id": "DMkcxIquQP21"
      },
      "source": [
        "**Univariate Analysis**"
      ]
    },
    {
      "cell_type": "code",
      "metadata": {
        "id": "lydKy6wSP4bm"
      },
      "source": [
        "# Function to display the displot for the columns.\n",
        "\n",
        "def univariatePlots(data) :\n",
        "  for col in data.columns :\n",
        "    if (data[col].dtypes in (\"int64\", \"float64\")) :\n",
        "      print(\"Distplot for numeric column : \" , col);\n",
        "      sns.displot(data[col], kde=True);\n",
        "    plt.show()"
      ],
      "execution_count": null,
      "outputs": []
    },
    {
      "cell_type": "code",
      "metadata": {
        "colab": {
          "base_uri": "https://localhost:8080/",
          "height": 1000
        },
        "id": "-SnOQnsdP6XB",
        "outputId": "d2f74fca-bb3c-45b0-9ea4-8c522d422ee6"
      },
      "source": [
        "univariatePlots(data)"
      ],
      "execution_count": null,
      "outputs": [
        {
          "output_type": "stream",
          "text": [
            "Distplot for numeric column :  Avg_Credit_Limit\n"
          ],
          "name": "stdout"
        },
        {
          "output_type": "display_data",
          "data": {
            "image/png": "[encoded data removed]",
            "text/plain": [
              "<Figure size 360x360 with 1 Axes>"
            ]
          },
          "metadata": {
            "tags": [],
            "needs_background": "light"
          }
        },
        {
          "output_type": "stream",
          "text": [
            "Distplot for numeric column :  Total_Credit_Cards\n"
          ],
          "name": "stdout"
        },
        {
          "output_type": "display_data",
          "data": {
            "image/png": "[encoded data removed]",
            "text/plain": [
              "<Figure size 360x360 with 1 Axes>"
            ]
          },
          "metadata": {
            "tags": [],
            "needs_background": "light"
          }
        },
        {
          "output_type": "stream",
          "text": [
            "Distplot for numeric column :  Total_visits_bank\n"
          ],
          "name": "stdout"
        },
        {
          "output_type": "display_data",
          "data": {
            "image/png": "[encoded data removed]",
            "text/plain": [
              "<Figure size 360x360 with 1 Axes>"
            ]
          },
          "metadata": {
            "tags": [],
            "needs_background": "light"
          }
        },
        {
          "output_type": "stream",
          "text": [
            "Distplot for numeric column :  Total_visits_online\n"
          ],
          "name": "stdout"
        },
        {
          "output_type": "display_data",
          "data": {
            "image/png": "[encoded data removed]",
            "text/plain": [
              "<Figure size 360x360 with 1 Axes>"
            ]
          },
          "metadata": {
            "tags": [],
            "needs_background": "light"
          }
        },
        {
          "output_type": "stream",
          "text": [
            "Distplot for numeric column :  Total_calls_made\n"
          ],
          "name": "stdout"
        },
        {
          "output_type": "display_data",
          "data": {
            "image/png": "[encoded data removed]",
            "text/plain": [
              "<Figure size 360x360 with 1 Axes>"
            ]
          },
          "metadata": {
            "tags": [],
            "needs_background": "light"
          }
        }
      ]
    },
    {
      "cell_type": "markdown",
      "metadata": {
        "id": "t6w8PJmHQnhr"
      },
      "source": [
        "Observations : \n",
        "- Total_credit_cards shows signs dual distribution , having two set of peaks. \n",
        "- Total_visits_bank is uniformly distributed.\n",
        "- Total_visits_online is left skewed"
      ]
    },
    {
      "cell_type": "markdown",
      "metadata": {
        "id": "CrFflHH4Qz8q"
      },
      "source": [
        "Bivariate analysis"
      ]
    },
    {
      "cell_type": "code",
      "metadata": {
        "colab": {
          "base_uri": "https://localhost:8080/",
          "height": 870
        },
        "id": "o1t1dzirQlWq",
        "outputId": "07d7b3a3-0631-48b7-cf63-0b1c49d5c3cd"
      },
      "source": [
        "#  pairplot for the dataset , with  as kde\n",
        "\n",
        "sns.pairplot(data, diag_kind='kde')"
      ],
      "execution_count": null,
      "outputs": [
        {
          "output_type": "execute_result",
          "data": {
            "text/plain": [
              "<seaborn.axisgrid.PairGrid at 0x7f76efa4e8d0>"
            ]
          },
          "metadata": {
            "tags": []
          },
          "execution_count": 409
        },
        {
          "output_type": "display_data",
          "data": {
            "image/png": "[encoded data removed]",
            "text/plain": [
              "<Figure size 900x900 with 30 Axes>"
            ]
          },
          "metadata": {
            "tags": [],
            "needs_background": "light"
          }
        }
      ]
    },
    {
      "cell_type": "code",
      "metadata": {
        "colab": {
          "base_uri": "https://localhost:8080/",
          "height": 362
        },
        "id": "kT1Tp4taQ8eb",
        "outputId": "3e22b84c-9cea-4f2b-e1c4-46d357049178"
      },
      "source": [
        " # heatmap\n",
        "\n",
        "corr = data.corr()\n",
        "sns.heatmap(corr, annot=True)"
      ],
      "execution_count": null,
      "outputs": [
        {
          "output_type": "execute_result",
          "data": {
            "text/plain": [
              "<matplotlib.axes._subplots.AxesSubplot at 0x7f76ef446e90>"
            ]
          },
          "metadata": {
            "tags": []
          },
          "execution_count": 410
        },
        {
          "output_type": "display_data",
          "data": {
            "image/png": "[encoded data removed]",
            "text/plain": [
              "<Figure size 432x288 with 2 Axes>"
            ]
          },
          "metadata": {
            "tags": [],
            "needs_background": "light"
          }
        }
      ]
    },
    {
      "cell_type": "code",
      "metadata": {
        "colab": {
          "base_uri": "https://localhost:8080/",
          "height": 296
        },
        "id": "JKZ9r_ulRBNy",
        "outputId": "e2edba92-6321-4a0d-cbac-7b63e2e37828"
      },
      "source": [
        "sns.regplot(data['Total_Credit_Cards'], data['Total_calls_made'])"
      ],
      "execution_count": null,
      "outputs": [
        {
          "output_type": "execute_result",
          "data": {
            "text/plain": [
              "<matplotlib.axes._subplots.AxesSubplot at 0x7f76eef08c90>"
            ]
          },
          "metadata": {
            "tags": []
          },
          "execution_count": 411
        },
        {
          "output_type": "display_data",
          "data": {
            "image/png": "[encoded data removed]",
            "text/plain": [
              "<Figure size 432x288 with 1 Axes>"
            ]
          },
          "metadata": {
            "tags": [],
            "needs_background": "light"
          }
        }
      ]
    },
    {
      "cell_type": "code",
      "metadata": {
        "colab": {
          "base_uri": "https://localhost:8080/",
          "height": 296
        },
        "id": "6xb-RDVKRbS1",
        "outputId": "17131b30-7e12-483c-9474-a6f99df9d073"
      },
      "source": [
        "sns.regplot(data['Avg_Credit_Limit'], data['Total_Credit_Cards'])"
      ],
      "execution_count": null,
      "outputs": [
        {
          "output_type": "execute_result",
          "data": {
            "text/plain": [
              "<matplotlib.axes._subplots.AxesSubplot at 0x7f76eee83b90>"
            ]
          },
          "metadata": {
            "tags": []
          },
          "execution_count": 412
        },
        {
          "output_type": "display_data",
          "data": {
            "image/png": "[encoded data removed]",
            "text/plain": [
              "<Figure size 432x288 with 1 Axes>"
            ]
          },
          "metadata": {
            "tags": [],
            "needs_background": "light"
          }
        }
      ]
    },
    {
      "cell_type": "markdown",
      "metadata": {
        "id": "w37RWbLYRkP-"
      },
      "source": [
        "Insights : \n",
        " - Total_Credit_Cards and Total_calls_made have negative correlation\n",
        " - Avg_Credit_Limit and Total_Credit_Cards have positive correlation"
      ]
    },
    {
      "cell_type": "code",
      "metadata": {
        "id": "YPDFkL4HRd5Q"
      },
      "source": [
        "# the avg_credit_limit has no value for clustering.\n",
        "\n",
        "data.drop(['Avg_Credit_Limit'], axis=1, inplace=True)"
      ],
      "execution_count": null,
      "outputs": []
    },
    {
      "cell_type": "markdown",
      "metadata": {
        "id": "u63_2POJR5yz"
      },
      "source": [
        "K-means clustering"
      ]
    },
    {
      "cell_type": "code",
      "metadata": {
        "id": "QZ5wOnV4R1vE"
      },
      "source": [
        "# Importing the standard scaller \n",
        "from sklearn.preprocessing import StandardScaler\n",
        "\n",
        "std_scaller = StandardScaler()\n",
        "scaller = std_scaller.fit(data)"
      ],
      "execution_count": null,
      "outputs": []
    },
    {
      "cell_type": "code",
      "metadata": {
        "colab": {
          "base_uri": "https://localhost:8080/"
        },
        "id": "YW5bWmufSAit",
        "outputId": "3e2574dc-4758-4426-c758-59ef26e08408"
      },
      "source": [
        "scaller.mean_"
      ],
      "execution_count": null,
      "outputs": [
        {
          "output_type": "execute_result",
          "data": {
            "text/plain": [
              "array([4.70606061, 2.4030303 , 2.60606061, 3.58333333])"
            ]
          },
          "metadata": {
            "tags": []
          },
          "execution_count": 415
        }
      ]
    },
    {
      "cell_type": "code",
      "metadata": {
        "colab": {
          "base_uri": "https://localhost:8080/",
          "height": 204
        },
        "id": "FPCQ8K_0SCtJ",
        "outputId": "586baed2-efd7-4d13-f96a-ea46191a9347"
      },
      "source": [
        "scalled = scaller.transform(data)\n",
        "data_s = pd.DataFrame(scalled, columns=data.columns)\n",
        "data_s.head()"
      ],
      "execution_count": null,
      "outputs": [
        {
          "output_type": "execute_result",
          "data": {
            "text/html": [
              "<div>\n",
              "<style scoped>\n",
              "    .dataframe tbody tr th:only-of-type {\n",
              "        vertical-align: middle;\n",
              "    }\n",
              "\n",
              "    .dataframe tbody tr th {\n",
              "        vertical-align: top;\n",
              "    }\n",
              "\n",
              "    .dataframe thead th {\n",
              "        text-align: right;\n",
              "    }\n",
              "</style>\n",
              "<table border=\"1\" class=\"dataframe\">\n",
              "  <thead>\n",
              "    <tr style=\"text-align: right;\">\n",
              "      <th></th>\n",
              "      <th>Total_Credit_Cards</th>\n",
              "      <th>Total_visits_bank</th>\n",
              "      <th>Total_visits_online</th>\n",
              "      <th>Total_calls_made</th>\n",
              "    </tr>\n",
              "  </thead>\n",
              "  <tbody>\n",
              "    <tr>\n",
              "      <th>0</th>\n",
              "      <td>-1.25</td>\n",
              "      <td>-0.86</td>\n",
              "      <td>-0.55</td>\n",
              "      <td>-1.25</td>\n",
              "    </tr>\n",
              "    <tr>\n",
              "      <th>1</th>\n",
              "      <td>-0.79</td>\n",
              "      <td>-1.47</td>\n",
              "      <td>2.52</td>\n",
              "      <td>1.89</td>\n",
              "    </tr>\n",
              "    <tr>\n",
              "      <th>2</th>\n",
              "      <td>1.06</td>\n",
              "      <td>-0.86</td>\n",
              "      <td>0.13</td>\n",
              "      <td>0.15</td>\n",
              "    </tr>\n",
              "    <tr>\n",
              "      <th>3</th>\n",
              "      <td>0.14</td>\n",
              "      <td>-0.86</td>\n",
              "      <td>-0.55</td>\n",
              "      <td>0.15</td>\n",
              "    </tr>\n",
              "    <tr>\n",
              "      <th>4</th>\n",
              "      <td>0.60</td>\n",
              "      <td>-1.47</td>\n",
              "      <td>3.20</td>\n",
              "      <td>-0.20</td>\n",
              "    </tr>\n",
              "  </tbody>\n",
              "</table>\n",
              "</div>"
            ],
            "text/plain": [
              "   Total_Credit_Cards  Total_visits_bank  Total_visits_online  Total_calls_made\n",
              "0               -1.25              -0.86                -0.55             -1.25\n",
              "1               -0.79              -1.47                 2.52              1.89\n",
              "2                1.06              -0.86                 0.13              0.15\n",
              "3                0.14              -0.86                -0.55              0.15\n",
              "4                0.60              -1.47                 3.20             -0.20"
            ]
          },
          "metadata": {
            "tags": []
          },
          "execution_count": 416
        }
      ]
    },
    {
      "cell_type": "code",
      "metadata": {
        "colab": {
          "base_uri": "https://localhost:8080/"
        },
        "id": "FdOEhIB5SEeJ",
        "outputId": "5773f81a-600d-4039-b8e8-f198d4ef0457"
      },
      "source": [
        "data_s.shape"
      ],
      "execution_count": null,
      "outputs": [
        {
          "output_type": "execute_result",
          "data": {
            "text/plain": [
              "(660, 4)"
            ]
          },
          "metadata": {
            "tags": []
          },
          "execution_count": 417
        }
      ]
    },
    {
      "cell_type": "code",
      "metadata": {
        "id": "uDxL6uo1SMDH"
      },
      "source": [
        "#Finding optimal no. of k mean clusters\n",
        "\n",
        "from scipy.spatial.distance import cdist\n",
        "clusters=range(1, 15)\n",
        "meanDistortions=[]\n",
        "\n",
        "for k in clusters:\n",
        "    kmean_model = KMeans(n_clusters=k)\n",
        "    kmean_model.fit(data_s)\n",
        "    kmean_pred = kmean_model.predict(data_s)\n",
        "    meanDistortions.append(sum(np.min(cdist(data_s, kmean_model.cluster_centers_, 'euclidean'), axis=1))/data_s.shape[0])"
      ],
      "execution_count": null,
      "outputs": []
    },
    {
      "cell_type": "code",
      "metadata": {
        "colab": {
          "base_uri": "https://localhost:8080/",
          "height": 311
        },
        "id": "wgcgjNMCSfG6",
        "outputId": "e6056ce1-ed68-4e7e-baa1-ee69181cfa84"
      },
      "source": [
        "# Plotting the mean distortion to show the elbow plot.\n",
        "\n",
        "plt.plot(clusters, meanDistortions, 'bx-')\n",
        "plt.xlabel('k')\n",
        "plt.ylabel('Average distortion')\n",
        "plt.title('Selecting k with the Elbow Method')"
      ],
      "execution_count": null,
      "outputs": [
        {
          "output_type": "execute_result",
          "data": {
            "text/plain": [
              "Text(0.5, 1.0, 'Selecting k with the Elbow Method')"
            ]
          },
          "metadata": {
            "tags": []
          },
          "execution_count": 419
        },
        {
          "output_type": "display_data",
          "data": {
            "image/png": "[encoded data removed]",
            "text/plain": [
              "<Figure size 432x288 with 1 Axes>"
            ]
          },
          "metadata": {
            "tags": [],
            "needs_background": "light"
          }
        }
      ]
    },
    {
      "cell_type": "markdown",
      "metadata": {
        "id": "IT7m36ePSmnR"
      },
      "source": [
        "4 is appropraite K mean value."
      ]
    },
    {
      "cell_type": "code",
      "metadata": {
        "id": "dUZ6Zb-5Si-5"
      },
      "source": [
        "kmeans = KMeans(n_clusters=4, n_init=15, random_state=7)\n",
        "kmeans.fit(data_s)\n",
        "kmeans_pred = kmeans.predict(data_s)"
      ],
      "execution_count": null,
      "outputs": []
    },
    {
      "cell_type": "code",
      "metadata": {
        "colab": {
          "base_uri": "https://localhost:8080/"
        },
        "id": "aMb8zIKLSv7z",
        "outputId": "435db30b-9e9e-4191-c0b6-ef8002351cb8"
      },
      "source": [
        "kmeans_pred"
      ],
      "execution_count": null,
      "outputs": [
        {
          "output_type": "execute_result",
          "data": {
            "text/plain": [
              "array([3, 0, 3, 3, 2, 0, 2, 3, 0, 0, 0, 0, 0, 0, 0, 0, 0, 0, 0, 0, 0, 0,\n",
              "       0, 0, 0, 0, 0, 0, 0, 0, 0, 0, 0, 0, 0, 0, 0, 0, 0, 0, 0, 0, 3, 0,\n",
              "       0, 0, 0, 0, 0, 0, 0, 0, 0, 0, 0, 0, 0, 0, 0, 0, 0, 0, 0, 0, 0, 0,\n",
              "       0, 0, 0, 0, 0, 0, 0, 0, 0, 0, 0, 0, 0, 0, 0, 0, 0, 0, 0, 0, 0, 0,\n",
              "       0, 0, 0, 0, 0, 0, 0, 0, 0, 0, 0, 0, 0, 0, 0, 0, 0, 0, 0, 0, 0, 0,\n",
              "       0, 0, 0, 3, 0, 0, 0, 0, 0, 0, 0, 0, 0, 0, 0, 0, 0, 0, 0, 0, 0, 0,\n",
              "       0, 0, 0, 0, 0, 0, 0, 0, 0, 0, 0, 0, 0, 0, 0, 0, 0, 0, 0, 0, 0, 0,\n",
              "       0, 0, 0, 0, 0, 0, 0, 0, 0, 0, 0, 0, 0, 0, 0, 0, 0, 0, 0, 0, 0, 0,\n",
              "       0, 0, 0, 0, 0, 0, 0, 0, 0, 0, 0, 0, 0, 0, 0, 0, 0, 0, 0, 0, 0, 0,\n",
              "       0, 0, 0, 0, 0, 0, 0, 0, 0, 0, 0, 0, 0, 0, 0, 0, 0, 0, 0, 0, 0, 0,\n",
              "       0, 0, 0, 0, 0, 0, 0, 0, 3, 3, 1, 3, 1, 3, 1, 1, 1, 1, 3, 3, 3, 1,\n",
              "       3, 1, 3, 3, 1, 3, 1, 1, 3, 3, 1, 3, 3, 1, 3, 1, 3, 1, 1, 3, 1, 3,\n",
              "       1, 1, 1, 1, 1, 1, 1, 3, 3, 1, 1, 3, 1, 1, 1, 1, 1, 3, 3, 3, 3, 1,\n",
              "       1, 3, 3, 1, 3, 3, 3, 3, 1, 1, 1, 1, 1, 1, 1, 1, 3, 1, 1, 1, 3, 3,\n",
              "       1, 1, 1, 3, 3, 3, 3, 3, 1, 1, 1, 3, 1, 1, 3, 3, 1, 1, 1, 1, 1, 1,\n",
              "       3, 1, 3, 1, 1, 1, 1, 3, 3, 3, 3, 3, 1, 3, 3, 1, 3, 3, 1, 3, 3, 3,\n",
              "       3, 1, 1, 1, 1, 1, 3, 3, 3, 3, 1, 3, 1, 1, 1, 3, 3, 1, 3, 3, 1, 1,\n",
              "       1, 3, 1, 3, 1, 3, 3, 3, 3, 3, 1, 1, 3, 3, 1, 1, 3, 1, 1, 3, 1, 1,\n",
              "       1, 3, 3, 3, 3, 1, 3, 3, 3, 3, 3, 1, 3, 3, 3, 1, 1, 1, 3, 3, 3, 1,\n",
              "       3, 1, 3, 1, 3, 3, 1, 3, 3, 1, 1, 1, 1, 1, 3, 3, 3, 1, 3, 3, 3, 1,\n",
              "       3, 3, 3, 1, 1, 1, 1, 3, 1, 3, 3, 1, 1, 1, 3, 3, 1, 3, 3, 1, 1, 1,\n",
              "       1, 1, 3, 1, 3, 1, 1, 3, 1, 3, 3, 3, 3, 1, 1, 1, 3, 3, 3, 3, 3, 1,\n",
              "       1, 3, 3, 1, 1, 1, 3, 1, 1, 3, 3, 3, 3, 3, 1, 1, 1, 3, 3, 3, 1, 3,\n",
              "       1, 3, 3, 1, 3, 3, 3, 3, 3, 1, 1, 3, 1, 3, 1, 3, 1, 3, 3, 1, 3, 3,\n",
              "       3, 3, 3, 3, 3, 3, 1, 1, 1, 3, 1, 1, 3, 1, 1, 3, 3, 1, 3, 1, 3, 1,\n",
              "       1, 3, 3, 1, 3, 1, 1, 1, 1, 1, 3, 1, 3, 1, 1, 1, 1, 3, 1, 1, 3, 3,\n",
              "       1, 3, 3, 3, 3, 3, 1, 3, 1, 1, 1, 3, 1, 1, 3, 3, 3, 1, 3, 3, 1, 1,\n",
              "       3, 1, 1, 1, 1, 3, 1, 1, 1, 3, 3, 3, 3, 3, 1, 3, 3, 1, 2, 2, 2, 2,\n",
              "       2, 2, 2, 2, 2, 2, 2, 2, 2, 2, 2, 2, 2, 2, 2, 2, 2, 2, 2, 2, 2, 2,\n",
              "       2, 2, 2, 2, 2, 2, 2, 2, 2, 2, 2, 2, 2, 2, 2, 2, 2, 2, 2, 2, 2, 2],\n",
              "      dtype=int32)"
            ]
          },
          "metadata": {
            "tags": []
          },
          "execution_count": 421
        }
      ]
    },
    {
      "cell_type": "code",
      "metadata": {
        "colab": {
          "base_uri": "https://localhost:8080/"
        },
        "id": "7XWD3CiySxuM",
        "outputId": "d391a2fc-2a31-4bf5-b683-6b490bb454ba"
      },
      "source": [
        "centroids = kmeans.cluster_centers_\n",
        "centroids"
      ],
      "execution_count": null,
      "outputs": [
        {
          "output_type": "execute_result",
          "data": {
            "text/plain": [
              "array([[-1.070864  , -0.90505282,  0.33262581,  1.17110029],\n",
              "       [ 0.35679514,  1.29571325, -0.54390138, -0.5750638 ],\n",
              "       [ 1.86222621, -1.10576269,  2.82731942, -0.87432983],\n",
              "       [ 0.37343847,  0.04107119, -0.55601194, -0.52331725]])"
            ]
          },
          "metadata": {
            "tags": []
          },
          "execution_count": 422
        }
      ]
    },
    {
      "cell_type": "code",
      "metadata": {
        "id": "HlmoamnSS2IZ"
      },
      "source": [
        "# getting the columns into the centroids"
      ],
      "execution_count": null,
      "outputs": []
    },
    {
      "cell_type": "code",
      "metadata": {
        "colab": {
          "base_uri": "https://localhost:8080/",
          "height": 173
        },
        "id": "xyt8G3WrS7Xz",
        "outputId": "c99faef8-8601-4d49-ac46-4672c098a484"
      },
      "source": [
        "centroid_kmeans = pd.DataFrame(centroids, columns = list(data) )\n",
        "centroid_kmeans"
      ],
      "execution_count": null,
      "outputs": [
        {
          "output_type": "execute_result",
          "data": {
            "text/html": [
              "<div>\n",
              "<style scoped>\n",
              "    .dataframe tbody tr th:only-of-type {\n",
              "        vertical-align: middle;\n",
              "    }\n",
              "\n",
              "    .dataframe tbody tr th {\n",
              "        vertical-align: top;\n",
              "    }\n",
              "\n",
              "    .dataframe thead th {\n",
              "        text-align: right;\n",
              "    }\n",
              "</style>\n",
              "<table border=\"1\" class=\"dataframe\">\n",
              "  <thead>\n",
              "    <tr style=\"text-align: right;\">\n",
              "      <th></th>\n",
              "      <th>Total_Credit_Cards</th>\n",
              "      <th>Total_visits_bank</th>\n",
              "      <th>Total_visits_online</th>\n",
              "      <th>Total_calls_made</th>\n",
              "    </tr>\n",
              "  </thead>\n",
              "  <tbody>\n",
              "    <tr>\n",
              "      <th>0</th>\n",
              "      <td>-1.07</td>\n",
              "      <td>-0.91</td>\n",
              "      <td>0.33</td>\n",
              "      <td>1.17</td>\n",
              "    </tr>\n",
              "    <tr>\n",
              "      <th>1</th>\n",
              "      <td>0.36</td>\n",
              "      <td>1.30</td>\n",
              "      <td>-0.54</td>\n",
              "      <td>-0.58</td>\n",
              "    </tr>\n",
              "    <tr>\n",
              "      <th>2</th>\n",
              "      <td>1.86</td>\n",
              "      <td>-1.11</td>\n",
              "      <td>2.83</td>\n",
              "      <td>-0.87</td>\n",
              "    </tr>\n",
              "    <tr>\n",
              "      <th>3</th>\n",
              "      <td>0.37</td>\n",
              "      <td>0.04</td>\n",
              "      <td>-0.56</td>\n",
              "      <td>-0.52</td>\n",
              "    </tr>\n",
              "  </tbody>\n",
              "</table>\n",
              "</div>"
            ],
            "text/plain": [
              "   Total_Credit_Cards  Total_visits_bank  Total_visits_online  Total_calls_made\n",
              "0               -1.07              -0.91                 0.33              1.17\n",
              "1                0.36               1.30                -0.54             -0.58\n",
              "2                1.86              -1.11                 2.83             -0.87\n",
              "3                0.37               0.04                -0.56             -0.52"
            ]
          },
          "metadata": {
            "tags": []
          },
          "execution_count": 424
        }
      ]
    },
    {
      "cell_type": "code",
      "metadata": {
        "colab": {
          "base_uri": "https://localhost:8080/",
          "height": 204
        },
        "id": "O-K2XCWPS9_5",
        "outputId": "4360db9d-b3b9-43f9-c559-a6ea88b10815"
      },
      "source": [
        "# Labelling the final column and converting as a categorical attribute\n",
        "\n",
        "kmeans_label = pd.DataFrame(kmeans_pred, columns= list(['labels']))\n",
        "kmeans_label['labels'] = kmeans_label['labels'].astype('category')\n",
        "kmeans_label.head()"
      ],
      "execution_count": null,
      "outputs": [
        {
          "output_type": "execute_result",
          "data": {
            "text/html": [
              "<div>\n",
              "<style scoped>\n",
              "    .dataframe tbody tr th:only-of-type {\n",
              "        vertical-align: middle;\n",
              "    }\n",
              "\n",
              "    .dataframe tbody tr th {\n",
              "        vertical-align: top;\n",
              "    }\n",
              "\n",
              "    .dataframe thead th {\n",
              "        text-align: right;\n",
              "    }\n",
              "</style>\n",
              "<table border=\"1\" class=\"dataframe\">\n",
              "  <thead>\n",
              "    <tr style=\"text-align: right;\">\n",
              "      <th></th>\n",
              "      <th>labels</th>\n",
              "    </tr>\n",
              "  </thead>\n",
              "  <tbody>\n",
              "    <tr>\n",
              "      <th>0</th>\n",
              "      <td>3</td>\n",
              "    </tr>\n",
              "    <tr>\n",
              "      <th>1</th>\n",
              "      <td>0</td>\n",
              "    </tr>\n",
              "    <tr>\n",
              "      <th>2</th>\n",
              "      <td>3</td>\n",
              "    </tr>\n",
              "    <tr>\n",
              "      <th>3</th>\n",
              "      <td>3</td>\n",
              "    </tr>\n",
              "    <tr>\n",
              "      <th>4</th>\n",
              "      <td>2</td>\n",
              "    </tr>\n",
              "  </tbody>\n",
              "</table>\n",
              "</div>"
            ],
            "text/plain": [
              "  labels\n",
              "0      3\n",
              "1      0\n",
              "2      3\n",
              "3      3\n",
              "4      2"
            ]
          },
          "metadata": {
            "tags": []
          },
          "execution_count": 425
        }
      ]
    },
    {
      "cell_type": "code",
      "metadata": {
        "id": "uMyc1nAkVDAa",
        "colab": {
          "base_uri": "https://localhost:8080/",
          "height": 204
        },
        "outputId": "d80e942c-5084-4425-9653-4b6903fa80ca"
      },
      "source": [
        "# Joining the label dataframe with the data frame.\n",
        "\n",
        "data_labeled = data.join(kmeans_label)\n",
        "data_labeled.head()"
      ],
      "execution_count": null,
      "outputs": [
        {
          "output_type": "execute_result",
          "data": {
            "text/html": [
              "<div>\n",
              "<style scoped>\n",
              "    .dataframe tbody tr th:only-of-type {\n",
              "        vertical-align: middle;\n",
              "    }\n",
              "\n",
              "    .dataframe tbody tr th {\n",
              "        vertical-align: top;\n",
              "    }\n",
              "\n",
              "    .dataframe thead th {\n",
              "        text-align: right;\n",
              "    }\n",
              "</style>\n",
              "<table border=\"1\" class=\"dataframe\">\n",
              "  <thead>\n",
              "    <tr style=\"text-align: right;\">\n",
              "      <th></th>\n",
              "      <th>Total_Credit_Cards</th>\n",
              "      <th>Total_visits_bank</th>\n",
              "      <th>Total_visits_online</th>\n",
              "      <th>Total_calls_made</th>\n",
              "      <th>labels</th>\n",
              "    </tr>\n",
              "  </thead>\n",
              "  <tbody>\n",
              "    <tr>\n",
              "      <th>0</th>\n",
              "      <td>2</td>\n",
              "      <td>1</td>\n",
              "      <td>1</td>\n",
              "      <td>0</td>\n",
              "      <td>3</td>\n",
              "    </tr>\n",
              "    <tr>\n",
              "      <th>1</th>\n",
              "      <td>3</td>\n",
              "      <td>0</td>\n",
              "      <td>10</td>\n",
              "      <td>9</td>\n",
              "      <td>0</td>\n",
              "    </tr>\n",
              "    <tr>\n",
              "      <th>2</th>\n",
              "      <td>7</td>\n",
              "      <td>1</td>\n",
              "      <td>3</td>\n",
              "      <td>4</td>\n",
              "      <td>3</td>\n",
              "    </tr>\n",
              "    <tr>\n",
              "      <th>3</th>\n",
              "      <td>5</td>\n",
              "      <td>1</td>\n",
              "      <td>1</td>\n",
              "      <td>4</td>\n",
              "      <td>3</td>\n",
              "    </tr>\n",
              "    <tr>\n",
              "      <th>4</th>\n",
              "      <td>6</td>\n",
              "      <td>0</td>\n",
              "      <td>12</td>\n",
              "      <td>3</td>\n",
              "      <td>2</td>\n",
              "    </tr>\n",
              "  </tbody>\n",
              "</table>\n",
              "</div>"
            ],
            "text/plain": [
              "   Total_Credit_Cards  Total_visits_bank  ...  Total_calls_made  labels\n",
              "0                   2                  1  ...                 0       3\n",
              "1                   3                  0  ...                 9       0\n",
              "2                   7                  1  ...                 4       3\n",
              "3                   5                  1  ...                 4       3\n",
              "4                   6                  0  ...                 3       2\n",
              "\n",
              "[5 rows x 5 columns]"
            ]
          },
          "metadata": {
            "tags": []
          },
          "execution_count": 426
        }
      ]
    },
    {
      "cell_type": "code",
      "metadata": {
        "id": "pSEW28vyVIjt",
        "colab": {
          "base_uri": "https://localhost:8080/"
        },
        "outputId": "f9eaf6b4-56e5-476a-daf8-d8fd318d5c3e"
      },
      "source": [
        "# Getting the unique distribution among the labelled data\n",
        "data_labeled['labels'].value_counts()"
      ],
      "execution_count": null,
      "outputs": [
        {
          "output_type": "execute_result",
          "data": {
            "text/plain": [
              "0    220\n",
              "3    200\n",
              "1    190\n",
              "2     50\n",
              "Name: labels, dtype: int64"
            ]
          },
          "metadata": {
            "tags": []
          },
          "execution_count": 427
        }
      ]
    },
    {
      "cell_type": "code",
      "metadata": {
        "id": "x8VgJ2THVOyD",
        "colab": {
          "base_uri": "https://localhost:8080/",
          "height": 538
        },
        "outputId": "08b2fcbf-de7b-4804-8185-97a9e24e1adc"
      },
      "source": [
        "# Displaying the category of the labelled data grouping  using box plots \n",
        "\n",
        "data_labeled.boxplot(by = 'labels',  layout=(2,4), figsize=(15, 10))"
      ],
      "execution_count": null,
      "outputs": [
        {
          "output_type": "execute_result",
          "data": {
            "text/plain": [
              "array([[<matplotlib.axes._subplots.AxesSubplot object at 0x7f76eedc0450>,\n",
              "        <matplotlib.axes._subplots.AxesSubplot object at 0x7f76eed12650>,\n",
              "        <matplotlib.axes._subplots.AxesSubplot object at 0x7f76eed48850>,\n",
              "        <matplotlib.axes._subplots.AxesSubplot object at 0x7f76eecfda50>],\n",
              "       [<matplotlib.axes._subplots.AxesSubplot object at 0x7f76eecb4c50>,\n",
              "        <matplotlib.axes._subplots.AxesSubplot object at 0x7f76eec77210>,\n",
              "        <matplotlib.axes._subplots.AxesSubplot object at 0x7f76eec2c810>,\n",
              "        <matplotlib.axes._subplots.AxesSubplot object at 0x7f76eebe1cd0>]],\n",
              "      dtype=object)"
            ]
          },
          "metadata": {
            "tags": []
          },
          "execution_count": 428
        },
        {
          "output_type": "display_data",
          "data": {
            "image/png": "[encoded data removed]",
            "text/plain": [
              "<Figure size 1080x720 with 8 Axes>"
            ]
          },
          "metadata": {
            "tags": [],
            "needs_background": "light"
          }
        }
      ]
    },
    {
      "cell_type": "markdown",
      "metadata": {
        "id": "3NnH1adbVaMO"
      },
      "source": [
        "Hierarchical Clustering"
      ]
    },
    {
      "cell_type": "code",
      "metadata": {
        "id": "GtLHDgPBVSKz",
        "colab": {
          "base_uri": "https://localhost:8080/"
        },
        "outputId": "2d83ddce-a058-415e-abc4-89225ba1f4c3"
      },
      "source": [
        "#hierarchical clustering using ward linkage\n",
        "\n",
        "from sklearn.cluster import AgglomerativeClustering\n",
        "from sklearn.metrics import silhouette_score\n",
        "\n",
        "ward_model = AgglomerativeClustering(n_clusters=4, affinity='euclidean', linkage='ward')\n",
        "ward_model.fit(data_s)\n",
        "\n",
        "print(\"silhouette_score with ward linkage : \" , silhouette_score(data_s, ward_model.labels_))"
      ],
      "execution_count": null,
      "outputs": [
        {
          "output_type": "stream",
          "text": [
            "silhouette_score with ward linkage :  0.3729699784919786\n"
          ],
          "name": "stdout"
        }
      ]
    },
    {
      "cell_type": "code",
      "metadata": {
        "id": "6XWSVxblVfF0",
        "colab": {
          "base_uri": "https://localhost:8080/",
          "height": 204
        },
        "outputId": "e3eef190-4aea-4377-a42f-f71c7816437f"
      },
      "source": [
        "# Creating a datafrane joining the original data and labels generated from ward linkage clustering\n",
        "\n",
        "ward_label = pd.DataFrame(ward_model.labels_, columns=list(['label_ward']))\n",
        "ward_label['label_ward'] = ward_label['label_ward'].astype('category')\n",
        "data_labelled_h = data.join(ward_label)\n",
        "\n",
        "data_labelled_h.head()"
      ],
      "execution_count": null,
      "outputs": [
        {
          "output_type": "execute_result",
          "data": {
            "text/html": [
              "<div>\n",
              "<style scoped>\n",
              "    .dataframe tbody tr th:only-of-type {\n",
              "        vertical-align: middle;\n",
              "    }\n",
              "\n",
              "    .dataframe tbody tr th {\n",
              "        vertical-align: top;\n",
              "    }\n",
              "\n",
              "    .dataframe thead th {\n",
              "        text-align: right;\n",
              "    }\n",
              "</style>\n",
              "<table border=\"1\" class=\"dataframe\">\n",
              "  <thead>\n",
              "    <tr style=\"text-align: right;\">\n",
              "      <th></th>\n",
              "      <th>Total_Credit_Cards</th>\n",
              "      <th>Total_visits_bank</th>\n",
              "      <th>Total_visits_online</th>\n",
              "      <th>Total_calls_made</th>\n",
              "      <th>label_ward</th>\n",
              "    </tr>\n",
              "  </thead>\n",
              "  <tbody>\n",
              "    <tr>\n",
              "      <th>0</th>\n",
              "      <td>2</td>\n",
              "      <td>1</td>\n",
              "      <td>1</td>\n",
              "      <td>0</td>\n",
              "      <td>0</td>\n",
              "    </tr>\n",
              "    <tr>\n",
              "      <th>1</th>\n",
              "      <td>3</td>\n",
              "      <td>0</td>\n",
              "      <td>10</td>\n",
              "      <td>9</td>\n",
              "      <td>0</td>\n",
              "    </tr>\n",
              "    <tr>\n",
              "      <th>2</th>\n",
              "      <td>7</td>\n",
              "      <td>1</td>\n",
              "      <td>3</td>\n",
              "      <td>4</td>\n",
              "      <td>1</td>\n",
              "    </tr>\n",
              "    <tr>\n",
              "      <th>3</th>\n",
              "      <td>5</td>\n",
              "      <td>1</td>\n",
              "      <td>1</td>\n",
              "      <td>4</td>\n",
              "      <td>0</td>\n",
              "    </tr>\n",
              "    <tr>\n",
              "      <th>4</th>\n",
              "      <td>6</td>\n",
              "      <td>0</td>\n",
              "      <td>12</td>\n",
              "      <td>3</td>\n",
              "      <td>2</td>\n",
              "    </tr>\n",
              "  </tbody>\n",
              "</table>\n",
              "</div>"
            ],
            "text/plain": [
              "   Total_Credit_Cards  Total_visits_bank  ...  Total_calls_made  label_ward\n",
              "0                   2                  1  ...                 0           0\n",
              "1                   3                  0  ...                 9           0\n",
              "2                   7                  1  ...                 4           1\n",
              "3                   5                  1  ...                 4           0\n",
              "4                   6                  0  ...                 3           2\n",
              "\n",
              "[5 rows x 5 columns]"
            ]
          },
          "metadata": {
            "tags": []
          },
          "execution_count": 430
        }
      ]
    },
    {
      "cell_type": "code",
      "metadata": {
        "id": "djFk6iSlVjUr",
        "colab": {
          "base_uri": "https://localhost:8080/"
        },
        "outputId": "3485dd78-9dc6-4e92-b49d-7a0de4c57f78"
      },
      "source": [
        "# Getting the distribution for the ward labbeled data \n",
        "\n",
        "data_labelled_h['label_ward'].value_counts()"
      ],
      "execution_count": null,
      "outputs": [
        {
          "output_type": "execute_result",
          "data": {
            "text/plain": [
              "0    225\n",
              "1    211\n",
              "3    174\n",
              "2     50\n",
              "Name: label_ward, dtype: int64"
            ]
          },
          "metadata": {
            "tags": []
          },
          "execution_count": 431
        }
      ]
    },
    {
      "cell_type": "code",
      "metadata": {
        "id": "ypvRlE4tVmjc",
        "colab": {
          "base_uri": "https://localhost:8080/",
          "height": 1000
        },
        "outputId": "1ad825d6-4adb-433c-cbca-635980b89eda"
      },
      "source": [
        "# plotting dendogram with 'ward linkage'\n",
        "\n",
        "from scipy.cluster.hierarchy import dendrogram, linkage\n",
        "from scipy.spatial.distance import pdist\n",
        "import matplotlib.pyplot as plt\n",
        "\n",
        "plt.figure(figsize=(18, 16))\n",
        "plt.title('Agglomerative Hierarchical Clustering Dendogram with ward linkage')\n",
        "plt.xlabel('sample index')\n",
        "plt.ylabel('Distance')\n",
        "dendrogram(linkage(data_s, 'ward'), leaf_rotation=90.0, p=4,\n",
        "           color_threshold=52, leaf_font_size=10, truncate_mode='level')"
      ],
      "execution_count": null,
      "outputs": [
        {
          "output_type": "execute_result",
          "data": {
            "text/plain": [
              "{'color_list': ['g',\n",
              "  'g',\n",
              "  'g',\n",
              "  'g',\n",
              "  'g',\n",
              "  'g',\n",
              "  'g',\n",
              "  'g',\n",
              "  'g',\n",
              "  'g',\n",
              "  'g',\n",
              "  'g',\n",
              "  'g',\n",
              "  'g',\n",
              "  'g',\n",
              "  'g',\n",
              "  'g',\n",
              "  'g',\n",
              "  'g',\n",
              "  'g',\n",
              "  'g',\n",
              "  'g',\n",
              "  'g',\n",
              "  'g',\n",
              "  'g',\n",
              "  'g',\n",
              "  'g',\n",
              "  'g',\n",
              "  'g',\n",
              "  'g',\n",
              "  'g'],\n",
              " 'dcoord': [[0.0, 3.018351958945482, 3.018351958945482, 0.0],\n",
              "  [0.0, 3.2158449613766313, 3.2158449613766313, 0.0],\n",
              "  [3.018351958945482,\n",
              "   3.635901290944575,\n",
              "   3.635901290944575,\n",
              "   3.2158449613766313],\n",
              "  [0.0, 2.6953517396814397, 2.6953517396814397, 0.0],\n",
              "  [0.0, 3.226161896435734, 3.226161896435734, 0.0],\n",
              "  [2.6953517396814397,\n",
              "   4.525740805210474,\n",
              "   4.525740805210474,\n",
              "   3.226161896435734],\n",
              "  [3.635901290944575, 5.250088493639615, 5.250088493639615, 4.525740805210474],\n",
              "  [0.0, 2.158390186625892, 2.158390186625892, 0.0],\n",
              "  [0.0, 4.182416104388869, 4.182416104388869, 0.0],\n",
              "  [2.158390186625892, 5.624201426022202, 5.624201426022202, 4.182416104388869],\n",
              "  [0.0, 3.177561012131068, 3.177561012131068, 0.0],\n",
              "  [0.0, 4.031368096976216, 4.031368096976216, 0.0],\n",
              "  [3.177561012131068, 6.454103630062562, 6.454103630062562, 4.031368096976216],\n",
              "  [5.624201426022202, 8.35677948183202, 8.35677948183202, 6.454103630062562],\n",
              "  [5.250088493639615,\n",
              "   10.913501045381405,\n",
              "   10.913501045381405,\n",
              "   8.35677948183202],\n",
              "  [0.0, 1.4399895428673914, 1.4399895428673914, 0.0],\n",
              "  [0.0, 1.5415551751172956, 1.5415551751172956, 0.0],\n",
              "  [1.4399895428673914,\n",
              "   3.056766215589924,\n",
              "   3.056766215589924,\n",
              "   1.5415551751172956],\n",
              "  [0.0, 2.5670978940699043, 2.5670978940699043, 0.0],\n",
              "  [0.0, 3.9735707516817635, 3.9735707516817635, 0.0],\n",
              "  [2.5670978940699043,\n",
              "   4.2720750035001265,\n",
              "   4.2720750035001265,\n",
              "   3.9735707516817635],\n",
              "  [3.056766215589924,\n",
              "   7.983994931282548,\n",
              "   7.983994931282548,\n",
              "   4.2720750035001265],\n",
              "  [0.0, 3.917541993313622, 3.917541993313622, 0.0],\n",
              "  [0.0, 6.567157929122281, 6.567157929122281, 0.0],\n",
              "  [3.917541993313622, 8.342453372854827, 8.342453372854827, 6.567157929122281],\n",
              "  [0.0, 5.451998272953296, 5.451998272953296, 0.0],\n",
              "  [0.0, 7.470770140396375, 7.470770140396375, 0.0],\n",
              "  [5.451998272953296, 9.400766920634958, 9.400766920634958, 7.470770140396375],\n",
              "  [8.342453372854827,\n",
              "   16.490267494074672,\n",
              "   16.490267494074672,\n",
              "   9.400766920634958],\n",
              "  [7.983994931282548,\n",
              "   38.67109818690845,\n",
              "   38.67109818690845,\n",
              "   16.490267494074672],\n",
              "  [10.913501045381405,\n",
              "   47.698052053001604,\n",
              "   47.698052053001604,\n",
              "   38.67109818690845]],\n",
              " 'icoord': [[5.0, 5.0, 15.0, 15.0],\n",
              "  [25.0, 25.0, 35.0, 35.0],\n",
              "  [10.0, 10.0, 30.0, 30.0],\n",
              "  [45.0, 45.0, 55.0, 55.0],\n",
              "  [65.0, 65.0, 75.0, 75.0],\n",
              "  [50.0, 50.0, 70.0, 70.0],\n",
              "  [20.0, 20.0, 60.0, 60.0],\n",
              "  [85.0, 85.0, 95.0, 95.0],\n",
              "  [105.0, 105.0, 115.0, 115.0],\n",
              "  [90.0, 90.0, 110.0, 110.0],\n",
              "  [125.0, 125.0, 135.0, 135.0],\n",
              "  [145.0, 145.0, 155.0, 155.0],\n",
              "  [130.0, 130.0, 150.0, 150.0],\n",
              "  [100.0, 100.0, 140.0, 140.0],\n",
              "  [40.0, 40.0, 120.0, 120.0],\n",
              "  [165.0, 165.0, 175.0, 175.0],\n",
              "  [185.0, 185.0, 195.0, 195.0],\n",
              "  [170.0, 170.0, 190.0, 190.0],\n",
              "  [205.0, 205.0, 215.0, 215.0],\n",
              "  [225.0, 225.0, 235.0, 235.0],\n",
              "  [210.0, 210.0, 230.0, 230.0],\n",
              "  [180.0, 180.0, 220.0, 220.0],\n",
              "  [245.0, 245.0, 255.0, 255.0],\n",
              "  [265.0, 265.0, 275.0, 275.0],\n",
              "  [250.0, 250.0, 270.0, 270.0],\n",
              "  [285.0, 285.0, 295.0, 295.0],\n",
              "  [305.0, 305.0, 315.0, 315.0],\n",
              "  [290.0, 290.0, 310.0, 310.0],\n",
              "  [260.0, 260.0, 300.0, 300.0],\n",
              "  [200.0, 200.0, 280.0, 280.0],\n",
              "  [80.0, 80.0, 240.0, 240.0]],\n",
              " 'ivl': ['1',\n",
              "  '(12)',\n",
              "  '(17)',\n",
              "  '(16)',\n",
              "  '(9)',\n",
              "  '(10)',\n",
              "  '(3)',\n",
              "  '(9)',\n",
              "  '(9)',\n",
              "  '(12)',\n",
              "  '(19)',\n",
              "  '(22)',\n",
              "  '(19)',\n",
              "  '(23)',\n",
              "  '(24)',\n",
              "  '(20)',\n",
              "  '(3)',\n",
              "  '(6)',\n",
              "  '(3)',\n",
              "  '(6)',\n",
              "  '(8)',\n",
              "  '(8)',\n",
              "  '(8)',\n",
              "  '(8)',\n",
              "  '(18)',\n",
              "  '(46)',\n",
              "  '(46)',\n",
              "  '(64)',\n",
              "  '(35)',\n",
              "  '(36)',\n",
              "  '(52)',\n",
              "  '(88)'],\n",
              " 'leaves': [1,\n",
              "  1247,\n",
              "  1267,\n",
              "  1274,\n",
              "  1223,\n",
              "  1244,\n",
              "  1194,\n",
              "  1245,\n",
              "  1224,\n",
              "  1226,\n",
              "  1261,\n",
              "  1272,\n",
              "  1270,\n",
              "  1284,\n",
              "  1281,\n",
              "  1286,\n",
              "  1115,\n",
              "  1153,\n",
              "  1158,\n",
              "  1208,\n",
              "  1235,\n",
              "  1256,\n",
              "  1222,\n",
              "  1277,\n",
              "  1258,\n",
              "  1296,\n",
              "  1287,\n",
              "  1294,\n",
              "  1276,\n",
              "  1282,\n",
              "  1289,\n",
              "  1307]}"
            ]
          },
          "metadata": {
            "tags": []
          },
          "execution_count": 432
        },
        {
          "output_type": "display_data",
          "data": {
            "image/png": "[encoded data removed]",
            "text/plain": [
              "<Figure size 1296x1152 with 1 Axes>"
            ]
          },
          "metadata": {
            "tags": [],
            "needs_background": "light"
          }
        }
      ]
    },
    {
      "cell_type": "code",
      "metadata": {
        "id": "RpjwH0W_VqKa",
        "colab": {
          "base_uri": "https://localhost:8080/",
          "height": 495
        },
        "outputId": "387b7808-7148-40e4-d011-c9c67d4fccdd"
      },
      "source": [
        "# Plotting the box plots for the various labels \n",
        "data_labelled_h.boxplot(by = 'label_ward',  layout=(2,4), figsize=(15, 10))"
      ],
      "execution_count": null,
      "outputs": [
        {
          "output_type": "execute_result",
          "data": {
            "text/plain": [
              "array([[<matplotlib.axes._subplots.AxesSubplot object at 0x7f76efa1d1d0>,\n",
              "        <matplotlib.axes._subplots.AxesSubplot object at 0x7f76efad6490>,\n",
              "        <matplotlib.axes._subplots.AxesSubplot object at 0x7f76efbcff90>,\n",
              "        <matplotlib.axes._subplots.AxesSubplot object at 0x7f76efd13310>],\n",
              "       [<matplotlib.axes._subplots.AxesSubplot object at 0x7f76efce0810>,\n",
              "        <matplotlib.axes._subplots.AxesSubplot object at 0x7f76efd28510>,\n",
              "        <matplotlib.axes._subplots.AxesSubplot object at 0x7f76fc3d7c90>,\n",
              "        <matplotlib.axes._subplots.AxesSubplot object at 0x7f76f16dbc10>]],\n",
              "      dtype=object)"
            ]
          },
          "metadata": {
            "tags": []
          },
          "execution_count": 433
        },
        {
          "output_type": "display_data",
          "data": {
            "image/png": "[encoded data removed]",
            "text/plain": [
              "<Figure size 1080x720 with 8 Axes>"
            ]
          },
          "metadata": {
            "tags": [],
            "needs_background": "light"
          }
        }
      ]
    },
    {
      "cell_type": "code",
      "metadata": {
        "id": "5fel69qKVtq2",
        "colab": {
          "base_uri": "https://localhost:8080/"
        },
        "outputId": "a7e797fc-4299-406b-a107-b47d0ba1de2b"
      },
      "source": [
        "# hierarchical clustering using single linkage\n",
        "\n",
        "from sklearn.cluster import AgglomerativeClustering\n",
        "from sklearn.metrics import silhouette_score\n",
        "\n",
        "single_model = AgglomerativeClustering(n_clusters=4, affinity='euclidean', linkage='single')\n",
        "single_model.fit(data_s)\n",
        "\n",
        "print(\"silhouette_score with single linkage : \" , silhouette_score(data_s, single_model.labels_))"
      ],
      "execution_count": null,
      "outputs": [
        {
          "output_type": "stream",
          "text": [
            "silhouette_score with single linkage :  0.10389147178590387\n"
          ],
          "name": "stdout"
        }
      ]
    },
    {
      "cell_type": "code",
      "metadata": {
        "id": "_M0oV36XVxGl",
        "colab": {
          "base_uri": "https://localhost:8080/",
          "height": 204
        },
        "outputId": "d0fbe8f1-d5b8-4da4-d227-1b6a4038aff9"
      },
      "source": [
        "# Creating a datafrane joining the original data and labels generated from single linkage clustering\n",
        "\n",
        "single_label = pd.DataFrame(single_model.labels_, columns=list(['label_single']))\n",
        "single_label['label_single'] = single_label['label_single'].astype('category')\n",
        "data_labelled_single = data.join(single_label)\n",
        "\n",
        "data_labelled_single.head()"
      ],
      "execution_count": null,
      "outputs": [
        {
          "output_type": "execute_result",
          "data": {
            "text/html": [
              "<div>\n",
              "<style scoped>\n",
              "    .dataframe tbody tr th:only-of-type {\n",
              "        vertical-align: middle;\n",
              "    }\n",
              "\n",
              "    .dataframe tbody tr th {\n",
              "        vertical-align: top;\n",
              "    }\n",
              "\n",
              "    .dataframe thead th {\n",
              "        text-align: right;\n",
              "    }\n",
              "</style>\n",
              "<table border=\"1\" class=\"dataframe\">\n",
              "  <thead>\n",
              "    <tr style=\"text-align: right;\">\n",
              "      <th></th>\n",
              "      <th>Total_Credit_Cards</th>\n",
              "      <th>Total_visits_bank</th>\n",
              "      <th>Total_visits_online</th>\n",
              "      <th>Total_calls_made</th>\n",
              "      <th>label_single</th>\n",
              "    </tr>\n",
              "  </thead>\n",
              "  <tbody>\n",
              "    <tr>\n",
              "      <th>0</th>\n",
              "      <td>2</td>\n",
              "      <td>1</td>\n",
              "      <td>1</td>\n",
              "      <td>0</td>\n",
              "      <td>3</td>\n",
              "    </tr>\n",
              "    <tr>\n",
              "      <th>1</th>\n",
              "      <td>3</td>\n",
              "      <td>0</td>\n",
              "      <td>10</td>\n",
              "      <td>9</td>\n",
              "      <td>1</td>\n",
              "    </tr>\n",
              "    <tr>\n",
              "      <th>2</th>\n",
              "      <td>7</td>\n",
              "      <td>1</td>\n",
              "      <td>3</td>\n",
              "      <td>4</td>\n",
              "      <td>0</td>\n",
              "    </tr>\n",
              "    <tr>\n",
              "      <th>3</th>\n",
              "      <td>5</td>\n",
              "      <td>1</td>\n",
              "      <td>1</td>\n",
              "      <td>4</td>\n",
              "      <td>0</td>\n",
              "    </tr>\n",
              "    <tr>\n",
              "      <th>4</th>\n",
              "      <td>6</td>\n",
              "      <td>0</td>\n",
              "      <td>12</td>\n",
              "      <td>3</td>\n",
              "      <td>2</td>\n",
              "    </tr>\n",
              "  </tbody>\n",
              "</table>\n",
              "</div>"
            ],
            "text/plain": [
              "   Total_Credit_Cards  Total_visits_bank  ...  Total_calls_made  label_single\n",
              "0                   2                  1  ...                 0             3\n",
              "1                   3                  0  ...                 9             1\n",
              "2                   7                  1  ...                 4             0\n",
              "3                   5                  1  ...                 4             0\n",
              "4                   6                  0  ...                 3             2\n",
              "\n",
              "[5 rows x 5 columns]"
            ]
          },
          "metadata": {
            "tags": []
          },
          "execution_count": 435
        }
      ]
    },
    {
      "cell_type": "code",
      "metadata": {
        "id": "IUEqsXApVz2R",
        "colab": {
          "base_uri": "https://localhost:8080/"
        },
        "outputId": "7cf3d76d-cbfd-47af-f09a-7967fb27b0a8"
      },
      "source": [
        "# Getting the distribution of the clusters using single linkage \n",
        "\n",
        "data_labelled_single['label_single'].value_counts()"
      ],
      "execution_count": null,
      "outputs": [
        {
          "output_type": "execute_result",
          "data": {
            "text/plain": [
              "0    608\n",
              "2     50\n",
              "3      1\n",
              "1      1\n",
              "Name: label_single, dtype: int64"
            ]
          },
          "metadata": {
            "tags": []
          },
          "execution_count": 436
        }
      ]
    },
    {
      "cell_type": "code",
      "metadata": {
        "id": "PD86UrkvV2l1",
        "colab": {
          "base_uri": "https://localhost:8080/",
          "height": 760
        },
        "outputId": "a17ecb16-a82f-4533-bf0f-8929d742523a"
      },
      "source": [
        "# plotting dendogram with 'single linkage'\n",
        "\n",
        "from scipy.cluster.hierarchy import dendrogram, linkage\n",
        "from scipy.spatial.distance import pdist\n",
        "import matplotlib.pyplot as plt\n",
        "\n",
        "plt.figure(figsize=(18, 16))\n",
        "plt.title('Agglomerative Hierarchical Clustering Dendogram with single linkage')\n",
        "plt.xlabel('sample index')\n",
        "plt.ylabel('Distance')\n",
        "dendrogram(linkage(data_s, 'single'), leaf_rotation=90.0, p=4,\n",
        "           color_threshold=52, leaf_font_size=10, truncate_mode='level')\n",
        "plt.tight_layout()"
      ],
      "execution_count": null,
      "outputs": [
        {
          "output_type": "display_data",
          "data": {
            "image/png": "[encoded data removed]",
            "text/plain": [
              "<Figure size 1296x1152 with 1 Axes>"
            ]
          },
          "metadata": {
            "tags": [],
            "needs_background": "light"
          }
        }
      ]
    },
    {
      "cell_type": "code",
      "metadata": {
        "id": "SqrCegshV5xh",
        "colab": {
          "base_uri": "https://localhost:8080/",
          "height": 495
        },
        "outputId": "173d3f76-44a4-47f7-adea-f65244c7219c"
      },
      "source": [
        "# Plotting the box plots for the various labels\n",
        "\n",
        "data_labelled_single.boxplot(by = 'label_single',  layout=(2,4), figsize=(15, 10))"
      ],
      "execution_count": null,
      "outputs": [
        {
          "output_type": "execute_result",
          "data": {
            "text/plain": [
              "array([[<matplotlib.axes._subplots.AxesSubplot object at 0x7f76efb42e90>,\n",
              "        <matplotlib.axes._subplots.AxesSubplot object at 0x7f76efc38450>,\n",
              "        <matplotlib.axes._subplots.AxesSubplot object at 0x7f76efbf7610>,\n",
              "        <matplotlib.axes._subplots.AxesSubplot object at 0x7f76ee8c1810>],\n",
              "       [<matplotlib.axes._subplots.AxesSubplot object at 0x7f76ee879a10>,\n",
              "        <matplotlib.axes._subplots.AxesSubplot object at 0x7f76ee82ef90>,\n",
              "        <matplotlib.axes._subplots.AxesSubplot object at 0x7f76ee7f05d0>,\n",
              "        <matplotlib.axes._subplots.AxesSubplot object at 0x7f76ee7a6a90>]],\n",
              "      dtype=object)"
            ]
          },
          "metadata": {
            "tags": []
          },
          "execution_count": 439
        },
        {
          "output_type": "display_data",
          "data": {
            "image/png": "[encoded data removed]",
            "text/plain": [
              "<Figure size 1080x720 with 8 Axes>"
            ]
          },
          "metadata": {
            "tags": [],
            "needs_background": "light"
          }
        }
      ]
    },
    {
      "cell_type": "code",
      "metadata": {
        "id": "sSYmRI8RV88E",
        "colab": {
          "base_uri": "https://localhost:8080/"
        },
        "outputId": "4c90211b-c264-4199-f8f3-c46ebe2d408f"
      },
      "source": [
        "#hierarchical clustering using complete linkage\n",
        "\n",
        "from sklearn.cluster import AgglomerativeClustering\n",
        "from sklearn.metrics import silhouette_score\n",
        "\n",
        "complete_model = AgglomerativeClustering(n_clusters=4, affinity='euclidean', linkage='complete')\n",
        "complete_model.fit(data_s)\n",
        "\n",
        "print(\"silhouette_score with complete linkage : \" , silhouette_score(data_s, complete_model.labels_))"
      ],
      "execution_count": null,
      "outputs": [
        {
          "output_type": "stream",
          "text": [
            "silhouette_score with complete linkage :  0.35410330488625136\n"
          ],
          "name": "stdout"
        }
      ]
    },
    {
      "cell_type": "code",
      "metadata": {
        "id": "mlKfCxVhWHKG"
      },
      "source": [
        "# Creating a datafrane joining the original data and labels generated from complete linkage clustering\n",
        "\n",
        "complete_label = pd.DataFrame(complete_model.labels_, columns=list(['label_complete']))\n",
        "complete_label['label_complete'] = complete_label['label_complete'].astype('category')\n",
        "data_labelled_complete = data.join(complete_label)"
      ],
      "execution_count": null,
      "outputs": []
    },
    {
      "cell_type": "code",
      "metadata": {
        "id": "rB2qpftDWKJK",
        "colab": {
          "base_uri": "https://localhost:8080/"
        },
        "outputId": "8d28ab09-2e14-47c8-f124-0839fcd0d46f"
      },
      "source": [
        "# Getting the distribution of the clusters created by complete linkage\n",
        "\n",
        "data_labelled_complete['label_complete'].value_counts()"
      ],
      "execution_count": null,
      "outputs": [
        {
          "output_type": "execute_result",
          "data": {
            "text/plain": [
              "2    385\n",
              "0    213\n",
              "1     50\n",
              "3     12\n",
              "Name: label_complete, dtype: int64"
            ]
          },
          "metadata": {
            "tags": []
          },
          "execution_count": 442
        }
      ]
    },
    {
      "cell_type": "code",
      "metadata": {
        "id": "jnaDI5UzWNbD",
        "colab": {
          "base_uri": "https://localhost:8080/",
          "height": 963
        },
        "outputId": "bce554a9-d0f1-466a-fa37-c4fba5d3cf52"
      },
      "source": [
        "# plotting dendogram with 'complete linkage'\n",
        "\n",
        "from scipy.cluster.hierarchy import dendrogram, linkage\n",
        "from scipy.spatial.distance import pdist\n",
        "import matplotlib.pyplot as plt\n",
        "\n",
        "plt.figure(figsize=(18, 16))\n",
        "plt.title('Agglomerative Hierarchical Clustering Dendogram with complete linkage')\n",
        "plt.xlabel('sample index')\n",
        "plt.ylabel('Distance')\n",
        "dendrogram(linkage(data_s, 'complete'), leaf_rotation=90.0, p=4,\n",
        "           color_threshold=52, leaf_font_size=10, truncate_mode='level')\n",
        "plt.tight_layout()"
      ],
      "execution_count": 1,
      "outputs": [
        {
          "output_type": "error",
          "ename": "NameError",
          "evalue": "ignored",
          "traceback": [
            "\u001b[0;31m---------------------------------------------------------------------------\u001b[0m",
            "\u001b[0;31mNameError\u001b[0m                                 Traceback (most recent call last)",
            "\u001b[0;32m<ipython-input-1-04634e541214>\u001b[0m in \u001b[0;36m<module>\u001b[0;34m()\u001b[0m\n\u001b[1;32m      9\u001b[0m \u001b[0mplt\u001b[0m\u001b[0;34m.\u001b[0m\u001b[0mxlabel\u001b[0m\u001b[0;34m(\u001b[0m\u001b[0;34m'sample index'\u001b[0m\u001b[0;34m)\u001b[0m\u001b[0;34m\u001b[0m\u001b[0;34m\u001b[0m\u001b[0m\n\u001b[1;32m     10\u001b[0m \u001b[0mplt\u001b[0m\u001b[0;34m.\u001b[0m\u001b[0mylabel\u001b[0m\u001b[0;34m(\u001b[0m\u001b[0;34m'Distance'\u001b[0m\u001b[0;34m)\u001b[0m\u001b[0;34m\u001b[0m\u001b[0;34m\u001b[0m\u001b[0m\n\u001b[0;32m---> 11\u001b[0;31m dendrogram(linkage(data_s, 'complete'), leaf_rotation=90.0, p=4,\n\u001b[0m\u001b[1;32m     12\u001b[0m            color_threshold=52, leaf_font_size=10, truncate_mode='level')\n\u001b[1;32m     13\u001b[0m \u001b[0mplt\u001b[0m\u001b[0;34m.\u001b[0m\u001b[0mtight_layout\u001b[0m\u001b[0;34m(\u001b[0m\u001b[0;34m)\u001b[0m\u001b[0;34m\u001b[0m\u001b[0;34m\u001b[0m\u001b[0m\n",
            "\u001b[0;31mNameError\u001b[0m: name 'data_s' is not defined"
          ]
        },
        {
          "output_type": "display_data",
          "data": {
            "image/png": "[encoded data removed]",
            "text/plain": [
              "<Figure size 1296x1152 with 1 Axes>"
            ]
          },
          "metadata": {
            "tags": [],
            "needs_background": "light"
          }
        }
      ]
    },
    {
      "cell_type": "code",
      "metadata": {
        "id": "KxWiQ7hkWQwf",
        "colab": {
          "base_uri": "https://localhost:8080/",
          "height": 231
        },
        "outputId": "45a8f86d-30a1-45aa-a06e-4625a74fad69"
      },
      "source": [
        "#hierarchical clustering using average linkage\n",
        "\n",
        "from sklearn.cluster import AgglomerativeClustering\n",
        "from sklearn.metrics import silhouette_score\n",
        "\n",
        "average_model = AgglomerativeClustering(n_clusters=4, affinity='euclidean', linkage='average')\n",
        "average_model.fit(data_s)\n",
        "\n",
        "print(\"silhouette_score with complete linkage : \" , silhouette_score(data_s, average_model.labels_))"
      ],
      "execution_count": 2,
      "outputs": [
        {
          "output_type": "error",
          "ename": "NameError",
          "evalue": "ignored",
          "traceback": [
            "\u001b[0;31m---------------------------------------------------------------------------\u001b[0m",
            "\u001b[0;31mNameError\u001b[0m                                 Traceback (most recent call last)",
            "\u001b[0;32m<ipython-input-2-68d6633c7266>\u001b[0m in \u001b[0;36m<module>\u001b[0;34m()\u001b[0m\n\u001b[1;32m      5\u001b[0m \u001b[0;34m\u001b[0m\u001b[0m\n\u001b[1;32m      6\u001b[0m \u001b[0maverage_model\u001b[0m \u001b[0;34m=\u001b[0m \u001b[0mAgglomerativeClustering\u001b[0m\u001b[0;34m(\u001b[0m\u001b[0mn_clusters\u001b[0m\u001b[0;34m=\u001b[0m\u001b[0;36m4\u001b[0m\u001b[0;34m,\u001b[0m \u001b[0maffinity\u001b[0m\u001b[0;34m=\u001b[0m\u001b[0;34m'euclidean'\u001b[0m\u001b[0;34m,\u001b[0m \u001b[0mlinkage\u001b[0m\u001b[0;34m=\u001b[0m\u001b[0;34m'average'\u001b[0m\u001b[0;34m)\u001b[0m\u001b[0;34m\u001b[0m\u001b[0;34m\u001b[0m\u001b[0m\n\u001b[0;32m----> 7\u001b[0;31m \u001b[0maverage_model\u001b[0m\u001b[0;34m.\u001b[0m\u001b[0mfit\u001b[0m\u001b[0;34m(\u001b[0m\u001b[0mdata_s\u001b[0m\u001b[0;34m)\u001b[0m\u001b[0;34m\u001b[0m\u001b[0;34m\u001b[0m\u001b[0m\n\u001b[0m\u001b[1;32m      8\u001b[0m \u001b[0;34m\u001b[0m\u001b[0m\n\u001b[1;32m      9\u001b[0m \u001b[0mprint\u001b[0m\u001b[0;34m(\u001b[0m\u001b[0;34m\"silhouette_score with complete linkage : \"\u001b[0m \u001b[0;34m,\u001b[0m \u001b[0msilhouette_score\u001b[0m\u001b[0;34m(\u001b[0m\u001b[0mdata_s\u001b[0m\u001b[0;34m,\u001b[0m \u001b[0maverage_model\u001b[0m\u001b[0;34m.\u001b[0m\u001b[0mlabels_\u001b[0m\u001b[0;34m)\u001b[0m\u001b[0;34m)\u001b[0m\u001b[0;34m\u001b[0m\u001b[0;34m\u001b[0m\u001b[0m\n",
            "\u001b[0;31mNameError\u001b[0m: name 'data_s' is not defined"
          ]
        }
      ]
    },
    {
      "cell_type": "code",
      "metadata": {
        "id": "d4sywQydW3Kb"
      },
      "source": [
        "# Creating a datafrane joining the original data and labels generated from complete linkage clustering\n",
        "\n",
        "\n",
        "average_label = pd.DataFrame(average_model.labels_, columns=list(['label_average']))\n",
        "average_label['label_average'] = average_label['label_average'].astype('category')\n",
        "data_labelled_average = data.join(average_label)\n",
        "\n",
        "data_labelled_average.head()"
      ],
      "execution_count": null,
      "outputs": []
    },
    {
      "cell_type": "code",
      "metadata": {
        "id": "r0mUHFeqW6G7"
      },
      "source": [
        "# Getting the distribution of the clusters using the average linkage\n",
        "\n",
        "data_labelled_average['label_average'].value_counts()"
      ],
      "execution_count": null,
      "outputs": []
    },
    {
      "cell_type": "code",
      "metadata": {
        "id": "pGpseIFIXDCT"
      },
      "source": [
        "# plotting dendogram with 'average linkage'\n",
        "\n",
        "from scipy.cluster.hierarchy import dendrogram, linkage\n",
        "from scipy.spatial.distance import pdist\n",
        "import matplotlib.pyplot as plt\n",
        "\n",
        "plt.figure(figsize=(18, 16))\n",
        "plt.title('Agglomerative Hierarchical Clustering Dendogram with average linkage')\n",
        "plt.xlabel('sample index')\n",
        "plt.ylabel('Distance')\n",
        "dendrogram(linkage(data_s, 'average'), leaf_rotation=90.0, p=4,\n",
        "           color_threshold=52, leaf_font_size=10, truncate_mode='level')\n",
        "plt.tight_layout()"
      ],
      "execution_count": null,
      "outputs": []
    },
    {
      "cell_type": "code",
      "metadata": {
        "id": "7I7fvqoKXGlJ"
      },
      "source": [
        ""
      ],
      "execution_count": null,
      "outputs": []
    },
    {
      "cell_type": "code",
      "metadata": {
        "id": "4DSqauSyXHRf"
      },
      "source": [
        "# Plotting the box plots for the various labels\n",
        "\n",
        "data_labelled_average.boxplot(by = 'label_average',  layout=(2,4), figsize=(15, 10))"
      ],
      "execution_count": null,
      "outputs": []
    },
    {
      "cell_type": "code",
      "metadata": {
        "id": "EAkhwEykXPG9"
      },
      "source": [
        "print(\"silhouette score for k-means with 4 clusters : \", silhouette_score(data_s, kmeans.labels_))\n",
        "print(\"Avg. silhouette score for hierarchical clustering with 4 clusters : \", \n",
        "      (silhouette_score(data_s, ward_model.labels_) + silhouette_score(data_s, single_model.labels_) \n",
        "       +  silhouette_score(data_s, complete_model.labels_) + silhouette_score(data_s, average_model.labels_)) / 4)"
      ],
      "execution_count": null,
      "outputs": []
    },
    {
      "cell_type": "markdown",
      "metadata": {
        "id": "U246O2KCXZ7e"
      },
      "source": [
        "Compare K-means clusters with Hierarchical clusters"
      ]
    },
    {
      "cell_type": "code",
      "metadata": {
        "id": "rPgZ_71pXVjE"
      },
      "source": [
        "# Demonstrate the 3d plot using mplot3d)\n",
        "from mpl_toolkits.mplot3d import Axes3D\n",
        "\n",
        "## 3D plots of k-means clusters\n",
        "\n",
        "fig = plt.figure(figsize=(8, 6))\n",
        "ax = Axes3D(fig, rect=[0, 0, .95, 1], elev=20, azim=60)\n",
        "ax.scatter(data_s.iloc[:, 0], data_s.iloc[:, 1], data_s.iloc[:, 2],c=kmeans.labels_.astype(np.float), edgecolor='k')\n",
        "ax.w_xaxis.set_ticklabels([])\n",
        "ax.w_yaxis.set_ticklabels([])\n",
        "ax.w_zaxis.set_ticklabels([])\n",
        "ax.set_xlabel('Length')\n",
        "ax.set_ylabel('Height')\n",
        "ax.set_zlabel('Weight')\n",
        "ax.set_title('3D plot of KMeans Clustering')"
      ],
      "execution_count": null,
      "outputs": []
    },
    {
      "cell_type": "code",
      "metadata": {
        "id": "hFdvxUuHXequ"
      },
      "source": [
        "## 3D plots of Hierarchical clusters using ward linkage\n",
        "\n",
        "fig = plt.figure(figsize=(8, 6))\n",
        "ax = Axes3D(fig, rect=[0, 0, .95, 1], elev=20, azim=60)\n",
        "ax.scatter(data_s.iloc[:, 0], data_s.iloc[:, 1], data_s.iloc[:, 2],c=ward_model.labels_.astype(np.float), edgecolor='k')\n",
        "ax.w_xaxis.set_ticklabels([])\n",
        "ax.w_yaxis.set_ticklabels([])\n",
        "ax.w_zaxis.set_ticklabels([])\n",
        "ax.set_xlabel('Length')\n",
        "ax.set_ylabel('Height')\n",
        "ax.set_zlabel('Weight')\n",
        "ax.set_title('3D plots of Hierarchical clusters using ward linkage')"
      ],
      "execution_count": null,
      "outputs": []
    },
    {
      "cell_type": "code",
      "metadata": {
        "id": "Hc7Iy6j3Xidw"
      },
      "source": [
        "## 3D plots of Hierarchical clusters using single linkage\n",
        "\n",
        "fig = plt.figure(figsize=(8, 6))\n",
        "ax = Axes3D(fig, rect=[0, 0, .95, 1], elev=20, azim=60)\n",
        "ax.scatter(data_s.iloc[:, 0], data_s.iloc[:, 1], data_s.iloc[:, 2],c=single_model.labels_.astype(np.float), edgecolor='k')\n",
        "ax.w_xaxis.set_ticklabels([])\n",
        "ax.w_yaxis.set_ticklabels([])\n",
        "ax.w_zaxis.set_ticklabels([])\n",
        "ax.set_xlabel('Length')\n",
        "ax.set_ylabel('Height')\n",
        "ax.set_zlabel('Weight')\n",
        "ax.set_title('3D plots of Hierarchical clusters using single linkage')"
      ],
      "execution_count": null,
      "outputs": []
    },
    {
      "cell_type": "code",
      "metadata": {
        "id": "Ch5C5Y1vXS3x"
      },
      "source": [
        ""
      ],
      "execution_count": null,
      "outputs": []
    },
    {
      "cell_type": "code",
      "metadata": {
        "id": "N_75G7gTXoGQ"
      },
      "source": [
        "## 3D plots of Hierarchical clusters using complete linkage\n",
        "\n",
        "fig = plt.figure(figsize=(8, 6))\n",
        "ax = Axes3D(fig, rect=[0, 0, .95, 1], elev=20, azim=60)\n",
        "ax.scatter(data_s.iloc[:, 0], data_s.iloc[:, 1], data_s.iloc[:, 2],c=complete_model.labels_.astype(np.float), edgecolor='k')\n",
        "ax.w_xaxis.set_ticklabels([])\n",
        "ax.w_yaxis.set_ticklabels([])\n",
        "ax.w_zaxis.set_ticklabels([])\n",
        "ax.set_xlabel('Length')\n",
        "ax.set_ylabel('Height')\n",
        "ax.set_zlabel('Weight')\n",
        "ax.set_title('3D plots of Hierarchical clusters using complete linkage')"
      ],
      "execution_count": null,
      "outputs": []
    },
    {
      "cell_type": "code",
      "metadata": {
        "id": "VZvRXkvUXs8n"
      },
      "source": [
        "## 3D plots of Hierarchical clusters using average linkage\n",
        "\n",
        "fig = plt.figure(figsize=(8, 6))\n",
        "ax = Axes3D(fig, rect=[0, 0, .95, 1], elev=20, azim=60)\n",
        "ax.scatter(data_s.iloc[:, 0], data_s.iloc[:, 1], data_s.iloc[:, 2],c=average_model.labels_.astype(np.float), edgecolor='k')\n",
        "ax.w_xaxis.set_ticklabels([])\n",
        "ax.w_yaxis.set_ticklabels([])\n",
        "ax.w_zaxis.set_ticklabels([])\n",
        "ax.set_xlabel('Length')\n",
        "ax.set_ylabel('Height')\n",
        "ax.set_zlabel('Weight')\n",
        "ax.set_title('3D plots of Hierarchical clusters using average linkage')"
      ],
      "execution_count": null,
      "outputs": []
    },
    {
      "cell_type": "code",
      "metadata": {
        "id": "Qs9WtWLAXxPc"
      },
      "source": [
        "data_labeled['labels'].value_counts()"
      ],
      "execution_count": null,
      "outputs": []
    },
    {
      "cell_type": "code",
      "metadata": {
        "id": "M0-m7GhuX0K_"
      },
      "source": [
        "Insights\n",
        "\n",
        "k-means : k-means clustering has seems somewhat uniformly data distribution among the 0,1,3 labels\n",
        "Label 2 has the minimum cluster size"
      ],
      "execution_count": null,
      "outputs": []
    },
    {
      "cell_type": "code",
      "metadata": {
        "id": "xdKhgUwCX3H4"
      },
      "source": [
        "# Plotting the box plots for the various labels using kmeans\n",
        "\n",
        "data_labeled.boxplot(by = 'labels',  layout=(2,4), figsize=(15, 10))"
      ],
      "execution_count": null,
      "outputs": []
    },
    {
      "cell_type": "markdown",
      "metadata": {
        "id": "B3QNr4WPX-x5"
      },
      "source": [
        "kmeans Insights\n",
        "\n",
        "Customers labeled as 0 seems to have less credit cards and have high total customer care calls and who prefer to visit online more over bank office visit\n",
        "Customers labeled as 1 seems to have medium credit cards and have less total customer care calls and who prefer to visit bank office more over online visits\n",
        "Customers labeled as 2 seems to have high credit cards and have low total customer care calls and customers who visit online the most\n",
        "Customers labeled as 3 seems to have medium credit cards and have less customer care engagement , have low total customer care calls"
      ]
    },
    {
      "cell_type": "code",
      "metadata": {
        "id": "nuiTZPXbX6JP"
      },
      "source": [
        "# Getting the distribution of the Hierarchical clusters \n",
        "\n",
        "print('clusters distribution using ward linkage')\n",
        "print(data_labelled_h['label_ward'].value_counts())\n",
        "\n",
        "print('clusters distribution using single linkage')\n",
        "print(data_labelled_single['label_single'].value_counts())\n",
        "\n",
        "print('clusters distribution using complete linkage')\n",
        "print(data_labelled_complete['label_complete'].value_counts())\n",
        "\n",
        "print('clusters distribution using average linkage')\n",
        "print(data_labelled_average['label_average'].value_counts())"
      ],
      "execution_count": null,
      "outputs": []
    },
    {
      "cell_type": "code",
      "metadata": {
        "id": "paLbW4G4YHHy"
      },
      "source": [
        "# Plotting the box plots for the various labels using the Hierarchical clusters\n",
        "\n",
        "data_labelled_h.boxplot(by = 'label_ward',  layout=(2,4), figsize=(15, 10))\n",
        "data_labelled_single.boxplot(by = 'label_single',  layout=(2,4), figsize=(15, 10))\n",
        "data_labelled_complete.boxplot(by = 'label_complete',  layout=(2,4), figsize=(15, 10))\n",
        "data_labelled_average.boxplot(by = 'label_average',  layout=(2,4), figsize=(15, 10))"
      ],
      "execution_count": null,
      "outputs": []
    },
    {
      "cell_type": "code",
      "metadata": {
        "id": "kJ44mjFzYJC3"
      },
      "source": [
        ""
      ],
      "execution_count": null,
      "outputs": []
    },
    {
      "cell_type": "markdown",
      "metadata": {
        "id": "4QRnzJ5xYNS7"
      },
      "source": [
        "Hierarchical clusters Insights\n",
        "\n",
        "As we see in above comparisions , hierarchical clustering using ward linkage is the one that good clustering distribution"
      ]
    },
    {
      "cell_type": "markdown",
      "metadata": {
        "id": "ccyUYHIjYUdl"
      },
      "source": [
        "Key Questions:\n",
        "\n",
        "Question : How many different segments of customers are there? Answer : It seems there are around 4-5 segments around which the cutomers can be categorized\n",
        "\n",
        "`Question : How are these segments different from each other? Answer :\n",
        "\n",
        "Customers labeled as 0 seems to have less credit cards and have high total customer care calls and who prefer to visit online more over bank office visit\n",
        "Customers labeled as 1 seems to have medium credit cards and have less total customer care calls and who prefer to visit bank office more over online visits\n",
        "Customers labeled as 2 seems to have high credit cards and have low total customer care calls and customers who visit online the most\n",
        "Customers labeled as 3 seems to have medium credit cards and have less customer care engagement , have low total customer care calls`\n",
        "`Question : What are your recommendations to the bank on how to better market to and service these customers? Answer : Customers labelled as 0 need to given more attention by the customer care , as they are the ones that have most number of calls made to customer care. Helping category label 0 customers would increase customer atisfaction to a significant level.\n",
        "\n",
        "Cutomers labbeled as 2 are the premium customer that have the higher number of credit cards and visit online website more often . These customers would be targetted for better online exprience and should be provided incentives to increase who can bring more revenue to the bank.\n",
        "\n",
        "Customers labelled as 1 and 3 , are more general customers who visit online and bank on a regular basis with specific needs. These customer needs to be take care the most."
      ]
    },
    {
      "cell_type": "code",
      "metadata": {
        "id": "56EF7QgdYO4W"
      },
      "source": [
        ""
      ],
      "execution_count": null,
      "outputs": []
    }
  ]
}