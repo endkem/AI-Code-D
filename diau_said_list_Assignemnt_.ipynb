{
  "nbformat": 4,
  "nbformat_minor": 0,
  "metadata": {
    "colab": {
      "provenance": []
    },
    "kernelspec": {
      "name": "python3",
      "display_name": "Python 3"
    },
    "language_info": {
      "name": "python"
    }
  },
  "cells": [
    {
      "cell_type": "code",
      "execution_count": 122,
      "metadata": {
        "id": "wJk3gGTMEDc_"
      },
      "outputs": [],
      "source": [
        "# create a_list \n",
        "a_list=[5,2,3,4,5,5,5,5,5]"
      ]
    },
    {
      "cell_type": "code",
      "source": [
        "# How can you add a new element to the end of a_list? Provide the code\n",
        "a_list.append(6)\n",
        "print(a_list)"
      ],
      "metadata": {
        "colab": {
          "base_uri": "https://localhost:8080/"
        },
        "id": "ODGEeF-gEl3w",
        "outputId": "68382a83-0622-4d6d-d48d-769f32f07c72"
      },
      "execution_count": 121,
      "outputs": [
        {
          "output_type": "stream",
          "name": "stdout",
          "text": [
            "[3, 4, 5, 5, 5, 5, 5, 6, [9, 10], 9, 10, 6]\n"
          ]
        }
      ]
    },
    {
      "cell_type": "code",
      "source": [
        "# How can you extend a_list by adding all the elements from another_list to the end of it? Provide the code.\n",
        "# we can add a list of to another list in two ways \n",
        "# using .append to add [9,10] to the end of the list as is this will be added a a single elemet\n",
        "a_list.append([9,10]) \n",
        "print(a_list)\n",
        "# using .extend to add [9,10 ] this way we will add 9 and 10 as a single element \n",
        "a_list.extend([9,10])\n",
        "print(a_list)"
      ],
      "metadata": {
        "colab": {
          "base_uri": "https://localhost:8080/"
        },
        "id": "oj8xaIejEmys",
        "outputId": "e4905b20-019b-4062-c098-4aa194f55935"
      },
      "execution_count": 114,
      "outputs": [
        {
          "output_type": "stream",
          "name": "stdout",
          "text": [
            "[5, 2, 3, 4, 5, 5, 5, 5, 5, 6, [9, 10]]\n",
            "[5, 2, 3, 4, 5, 5, 5, 5, 5, 6, [9, 10], 9, 10]\n"
          ]
        }
      ]
    },
    {
      "cell_type": "code",
      "source": [
        "# How can you access the element at index 2 in a_list? Provide the code\n",
        "print(a_list[2])"
      ],
      "metadata": {
        "colab": {
          "base_uri": "https://localhost:8080/"
        },
        "id": "qvVTorYtEvAg",
        "outputId": "b86bc20b-72b2-4f13-cf13-e24b29a9ef29"
      },
      "execution_count": 115,
      "outputs": [
        {
          "output_type": "stream",
          "name": "stdout",
          "text": [
            "3\n"
          ]
        }
      ]
    },
    {
      "cell_type": "code",
      "source": [
        "# How can you change the value of the element at index 1 in a_list? Provide the code.\n",
        "a_list[1]=3\n",
        "print(a_list)\n"
      ],
      "metadata": {
        "colab": {
          "base_uri": "https://localhost:8080/"
        },
        "id": "YFf995wvEwSO",
        "outputId": "015f030c-0144-44a9-90e0-dd8460b7e8a3"
      },
      "execution_count": 116,
      "outputs": [
        {
          "output_type": "stream",
          "name": "stdout",
          "text": [
            "[5, 3, 3, 4, 5, 5, 5, 5, 5, 6, [9, 10], 9, 10]\n"
          ]
        }
      ]
    },
    {
      "cell_type": "code",
      "source": [
        "\n",
        "# How can you remove a specific element from a_list? Provide the code.\n",
        "#using .pop to delete elememt using the index value\n",
        "\n",
        "a_list.pop(4)\n",
        "print(a_list)\n",
        "\n",
        "#using .remove to delete elememt using the first value that matches with the criteria \n",
        "a_list.remove(3)\n",
        "print(a_list)\n",
        "\n"
      ],
      "metadata": {
        "colab": {
          "base_uri": "https://localhost:8080/"
        },
        "id": "U40SgKr1GYWi",
        "outputId": "c92aac64-c152-4d7f-e2c4-66051d0963f6"
      },
      "execution_count": 117,
      "outputs": [
        {
          "output_type": "stream",
          "name": "stdout",
          "text": [
            "[5, 3, 3, 4, 5, 5, 5, 5, 6, [9, 10], 9, 10]\n",
            "[5, 3, 4, 5, 5, 5, 5, 6, [9, 10], 9, 10]\n"
          ]
        }
      ]
    },
    {
      "cell_type": "code",
      "source": [
        "from re import A\n",
        "# How can you find the index of a specific element in a_list? Provide the code.\n",
        "print(a_list.index(3))"
      ],
      "metadata": {
        "colab": {
          "base_uri": "https://localhost:8080/"
        },
        "id": "Y88P6k4PCDOa",
        "outputId": "6b6b80f1-d440-48ce-fd42-03a0af3e8671"
      },
      "execution_count": 118,
      "outputs": [
        {
          "output_type": "stream",
          "name": "stdout",
          "text": [
            "1\n"
          ]
        }
      ]
    },
    {
      "cell_type": "code",
      "source": [
        "# How can you count the number of occurrences of a specific element in a_list? Provide the code.\n",
        "print(a_list.count(5))"
      ],
      "metadata": {
        "colab": {
          "base_uri": "https://localhost:8080/"
        },
        "id": "XqYc3itFDuo5",
        "outputId": "6171e9e3-9026-41a8-9d2a-f3b72c1494d4"
      },
      "execution_count": 119,
      "outputs": [
        {
          "output_type": "stream",
          "name": "stdout",
          "text": [
            "5\n"
          ]
        }
      ]
    },
    {
      "cell_type": "code",
      "source": [
        "# How can you sort the elements in a_list in ascending order? Provide the code.\n",
        "a_list.sort()\n",
        "print(a_list)\n",
        "\n"
      ],
      "metadata": {
        "colab": {
          "base_uri": "https://localhost:8080/"
        },
        "id": "0ZLPoKGDDyBE",
        "outputId": "f48a182b-5105-4e5c-995d-382598bc2abd"
      },
      "execution_count": 123,
      "outputs": [
        {
          "output_type": "stream",
          "name": "stdout",
          "text": [
            "[2, 3, 4, 5, 5, 5, 5, 5, 5]\n"
          ]
        }
      ]
    },
    {
      "cell_type": "code",
      "source": [
        "# How can you reverse the order of elements in a_list? Provide the code.\n",
        "a_list.reverse()\n",
        "print(a_list)"
      ],
      "metadata": {
        "colab": {
          "base_uri": "https://localhost:8080/"
        },
        "id": "3o1bg0rSD1fh",
        "outputId": "62d5af4d-d253-446c-f357-9e2929fce870"
      },
      "execution_count": 124,
      "outputs": [
        {
          "output_type": "stream",
          "name": "stdout",
          "text": [
            "[5, 5, 5, 5, 5, 5, 4, 3, 2]\n"
          ]
        }
      ]
    },
    {
      "cell_type": "code",
      "source": [
        "# How can you create a new list new_list that contains the same elements as a_list? Provide the code.\n",
        "new_list = a_list\n",
        "print(new_list)"
      ],
      "metadata": {
        "colab": {
          "base_uri": "https://localhost:8080/"
        },
        "id": "Kv2zwOErD4SZ",
        "outputId": "71ab1654-fed5-4927-ac48-5654bab498b4"
      },
      "execution_count": 125,
      "outputs": [
        {
          "output_type": "stream",
          "name": "stdout",
          "text": [
            "[5, 5, 5, 5, 5, 5, 4, 3, 2]\n"
          ]
        }
      ]
    },
    {
      "cell_type": "code",
      "source": [
        "# How can you remove all elements from a_list? Provide the code.\n",
        "a_list.clear()\n",
        "a_list"
      ],
      "metadata": {
        "colab": {
          "base_uri": "https://localhost:8080/"
        },
        "id": "fMIxToYJD9zk",
        "outputId": "32f9420b-2eb2-4767-d48f-2572ad05a55b"
      },
      "execution_count": 126,
      "outputs": [
        {
          "output_type": "execute_result",
          "data": {
            "text/plain": [
              "[]"
            ]
          },
          "metadata": {},
          "execution_count": 126
        }
      ]
    },
    {
      "cell_type": "code",
      "source": [],
      "metadata": {
        "id": "3-HlgGCbECVJ"
      },
      "execution_count": 110,
      "outputs": []
    },
    {
      "cell_type": "code",
      "source": [],
      "metadata": {
        "id": "M7VXd2lYGsJ4"
      },
      "execution_count": 110,
      "outputs": []
    }
  ]
}