{
 "cells": [
  {
   "cell_type": "markdown",
   "id": "29a4c609",
   "metadata": {},
   "source": [
    "1. How can you add a new key-value pair to a dictionary named my_dict? Provide the code.\n",
    "\n",
    "Ans. To add a new key-value pair to a dictionary in Python, you can use the assignment operator (=) to assign a value to a new or existing key. Here's an example code snippet to add a new key-value pair to a dictionary named my_dict:"
   ]
  },
  {
   "cell_type": "code",
   "execution_count": 1,
   "id": "7224ea13",
   "metadata": {},
   "outputs": [
    {
     "name": "stdout",
     "output_type": "stream",
     "text": [
      "{'key1': 'value1', 'key2': 'value2', 'key3': 'value3'}\n"
     ]
    }
   ],
   "source": [
    " # Existing dictionary\n",
    "my_dict = {'key1': 'value1', 'key2': 'value2'} \n",
    "\n",
    "# Add a new key-value pair\n",
    "my_dict['key3'] = 'value3'\n",
    "\n",
    "print(my_dict)\n"
   ]
  },
  {
   "cell_type": "markdown",
   "id": "8313fa7c",
   "metadata": {},
   "source": [
    "2. How can you access the value associated with a specific key in my_dict? Provide the code.\n",
    "\n",
    "Ans. To access the value associated with a specific key in a dictionary in Python, you can use square brackets ([]) along with the key name to retrieve the corresponding value. Here's an example code snippet to access the value of a specific key in a dictionary named my_dict:"
   ]
  },
  {
   "cell_type": "code",
   "execution_count": 2,
   "id": "8094f6ac",
   "metadata": {},
   "outputs": [
    {
     "name": "stdout",
     "output_type": "stream",
     "text": [
      "value2\n"
     ]
    }
   ],
   "source": [
    "my_dict = {'key1': 'value1', 'key2': 'value2', 'key3': 'value3'}\n",
    "\n",
    "# Access the value of a specific key\n",
    "value = my_dict['key2']\n",
    "\n",
    "print(value)\n"
   ]
  },
  {
   "cell_type": "markdown",
   "id": "a352b952",
   "metadata": {},
   "source": [
    "3. How can you check if a key exists in my_dict? Provide the code.\n",
    "\n",
    "Ans. To check if a key exists in a dictionary in Python, you can use the in keyword with the dictionary name followed by the key you want to check. Here's an example code snippet to check if a key exists in a dictionary named my_dict:"
   ]
  },
  {
   "cell_type": "code",
   "execution_count": 3,
   "id": "749cdaf8",
   "metadata": {},
   "outputs": [
    {
     "name": "stdout",
     "output_type": "stream",
     "text": [
      "The key 'key2' exists in my_dict\n"
     ]
    }
   ],
   "source": [
    "my_dict = {'key1': 'value1', 'key2': 'value2', 'key3': 'value3'}\n",
    "\n",
    "# Check if a key exists\n",
    "if 'key2' in my_dict:\n",
    "    print(\"The key 'key2' exists in my_dict\")\n",
    "else:\n",
    "    print(\"The key 'key2' does not exist in my_dict\")\n"
   ]
  },
  {
   "cell_type": "code",
   "execution_count": 4,
   "id": "8a961210",
   "metadata": {},
   "outputs": [
    {
     "name": "stdout",
     "output_type": "stream",
     "text": [
      "The key 'key2' does not exist in my_dict\n"
     ]
    }
   ],
   "source": [
    "if 'key7' in my_dict:\n",
    "    print(\"The key 'key2' exists in my_dict\")\n",
    "else:\n",
    "    print(\"The key 'key2' does not exist in my_dict\")"
   ]
  },
  {
   "cell_type": "markdown",
   "id": "d8cba2d3",
   "metadata": {},
   "source": [
    "4. How can you remove a key-value pair from my_dict using the key? Provide the code.\n",
    "\n",
    "Ans. To remove a key-value pair from a dictionary in Python using the key, you can use the pop() method. The pop() method removes the specified key from the dictionary and returns its corresponding value. Here's an example code snippet to remove a key-value pair from a dictionary named my_dict:"
   ]
  },
  {
   "cell_type": "code",
   "execution_count": 5,
   "id": "697100ab",
   "metadata": {},
   "outputs": [
    {
     "name": "stdout",
     "output_type": "stream",
     "text": [
      "Removed value: value2\n",
      "Updated dictionary: {'key1': 'value1', 'key3': 'value3'}\n"
     ]
    }
   ],
   "source": [
    "my_dict = {'key1': 'value1', 'key2': 'value2', 'key3': 'value3'}\n",
    "\n",
    "# Remove a key-value pair\n",
    "removed_value = my_dict.pop('key2')\n",
    "\n",
    "print(\"Removed value:\", removed_value)\n",
    "print(\"Updated dictionary:\", my_dict)\n"
   ]
  },
  {
   "cell_type": "markdown",
   "id": "05bf0af6",
   "metadata": {},
   "source": [
    "5. How can you get the number of key-value pairs in my_dict? Provide the code\n",
    "\n",
    "Ans. To get the number of key-value pairs in a dictionary in Python, you can use the len() function on the dictionary. Here's an example code snippet to get the number of key-value pairs in a dictionary named my_dict:"
   ]
  },
  {
   "cell_type": "code",
   "execution_count": 6,
   "id": "bc1b6ff5",
   "metadata": {},
   "outputs": [
    {
     "name": "stdout",
     "output_type": "stream",
     "text": [
      "Number of key-value pairs: 3\n"
     ]
    }
   ],
   "source": [
    "my_dict = {'key1': 'value1', 'key2': 'value2', 'key3': 'value3'}\n",
    "\n",
    "# Get the number of key-value pairs\n",
    "num_pairs = len(my_dict)\n",
    "\n",
    "print(\"Number of key-value pairs:\", num_pairs)\n"
   ]
  },
  {
   "cell_type": "markdown",
   "id": "663fb091",
   "metadata": {},
   "source": [
    "6. How can you retrieve all the keys in my_dict? Provide the code.\n",
    "Ans. To retrieve all the keys from a dictionary in Python, you can use the keys() method or convert the dictionary to a list using the list() function. Here are two example code snippets to retrieve all the keys from a dictionary named my_dict:\n"
   ]
  },
  {
   "cell_type": "code",
   "execution_count": 8,
   "id": "71b03134",
   "metadata": {},
   "outputs": [
    {
     "name": "stdout",
     "output_type": "stream",
     "text": [
      "Keys: dict_keys(['key1', 'key2', 'key3'])\n"
     ]
    }
   ],
   "source": [
    "##Using the keys() method:\n",
    "my_dict = {'key1': 'value1', 'key2': 'value2', 'key3': 'value3'}\n",
    "\n",
    "# Retrieve all keys using keys() method\n",
    "keys = my_dict.keys()\n",
    "\n",
    "print(\"Keys:\", keys)\n"
   ]
  },
  {
   "cell_type": "code",
   "execution_count": 9,
   "id": "988e3f7d",
   "metadata": {},
   "outputs": [
    {
     "name": "stdout",
     "output_type": "stream",
     "text": [
      "Keys: ['key1', 'key2', 'key3']\n"
     ]
    }
   ],
   "source": [
    "##Using the list() function:\n",
    "my_dict = {'key1': 'value1', 'key2': 'value2', 'key3': 'value3'}\n",
    "\n",
    "# Retrieve all keys by converting the dictionary to a list\n",
    "keys = list(my_dict)\n",
    "\n",
    "print(\"Keys:\", keys)\n"
   ]
  },
  {
   "cell_type": "markdown",
   "id": "cd02e0db",
   "metadata": {},
   "source": [
    "7. How can you retrieve all the values in my_dict? Provide the code.\n",
    "\n",
    "Ans. To retrieve all the values from a dictionary in Python, you can use the values() method or convert the dictionary to a list using the list() function. Here are two example code snippets to retrieve all the values from a dictionary named my_dict:"
   ]
  },
  {
   "cell_type": "code",
   "execution_count": 10,
   "id": "7d24986a",
   "metadata": {},
   "outputs": [
    {
     "name": "stdout",
     "output_type": "stream",
     "text": [
      "Values: dict_values(['value1', 'value2', 'value3'])\n"
     ]
    }
   ],
   "source": [
    "#Using the values() method:\n",
    "my_dict = {'key1': 'value1', 'key2': 'value2', 'key3': 'value3'}\n",
    "\n",
    "# Retrieve all values using values() method\n",
    "values = my_dict.values()\n",
    "\n",
    "print(\"Values:\", values)\n"
   ]
  },
  {
   "cell_type": "code",
   "execution_count": 11,
   "id": "a8e58de1",
   "metadata": {},
   "outputs": [
    {
     "name": "stdout",
     "output_type": "stream",
     "text": [
      "Values: ['value1', 'value2', 'value3']\n"
     ]
    }
   ],
   "source": [
    "#Using the list() function:\n",
    "my_dict = {'key1': 'value1', 'key2': 'value2', 'key3': 'value3'}\n",
    "\n",
    "# Retrieve all values by converting the dictionary to a list\n",
    "values = list(my_dict.values())\n",
    "\n",
    "print(\"Values:\", values)\n"
   ]
  },
  {
   "cell_type": "markdown",
   "id": "534f98bc",
   "metadata": {},
   "source": [
    "8. How can you update the value associated with a specific key in my_dict? Provide the code.\n",
    "\n",
    "Ans.To update the value associated with a specific key in a dictionary in Python, you can simply assign a new value to that key. Here's an example code snippet to update the value of a specific key in a dictionary named my_dict:"
   ]
  },
  {
   "cell_type": "code",
   "execution_count": 12,
   "id": "0f4c4598",
   "metadata": {},
   "outputs": [
    {
     "name": "stdout",
     "output_type": "stream",
     "text": [
      "{'key1': 'value1', 'key2': 'new_value2', 'key3': 'value3'}\n"
     ]
    }
   ],
   "source": [
    "my_dict = {'key1': 'value1', 'key2': 'value2', 'key3': 'value3'}\n",
    "\n",
    "# Update the value of a specific key\n",
    "my_dict['key2'] = 'new_value2'\n",
    "\n",
    "print(my_dict)\n"
   ]
  },
  {
   "cell_type": "markdown",
   "id": "68c48a0d",
   "metadata": {},
   "source": [
    "9. How can you create a new dictionary new_dict that contains the same key-value pairs as my_dict? Provide the code.\n",
    "\n",
    "Ans. To create a new dictionary new_dict that contains the same key-value pairs as my_dict in Python, you can use either the dictionary copy method copy() or the dictionary constructor dict() with the existing dictionary as an argument. Here are two examples of creating new_dict:"
   ]
  },
  {
   "cell_type": "code",
   "execution_count": 13,
   "id": "18d10e5b",
   "metadata": {},
   "outputs": [
    {
     "name": "stdout",
     "output_type": "stream",
     "text": [
      "new_dict: {'key1': 'value1', 'key2': 'value2', 'key3': 'value3'}\n"
     ]
    }
   ],
   "source": [
    "#Using the copy() method:\n",
    "my_dict = {'key1': 'value1', 'key2': 'value2', 'key3': 'value3'}\n",
    "\n",
    "# Create new_dict using the copy() method\n",
    "new_dict = my_dict.copy()\n",
    "\n",
    "print(\"new_dict:\", new_dict)\n"
   ]
  },
  {
   "cell_type": "code",
   "execution_count": 14,
   "id": "83191b0c",
   "metadata": {},
   "outputs": [
    {
     "name": "stdout",
     "output_type": "stream",
     "text": [
      "new_dict: {'key1': 'value1', 'key2': 'value2', 'key3': 'value3'}\n"
     ]
    }
   ],
   "source": [
    "#Using the dict() constructor:\n",
    "my_dict = {'key1': 'value1', 'key2': 'value2', 'key3': 'value3'}\n",
    "\n",
    "# Create new_dict using the dict() constructor\n",
    "new_dict = dict(my_dict)\n",
    "\n",
    "print(\"new_dict:\", new_dict)\n"
   ]
  },
  {
   "cell_type": "markdown",
   "id": "842efe9f",
   "metadata": {},
   "source": [
    "10. How can you remove all key-value pairs from my_dict? Provide the code.\n",
    "\n",
    "Ans. To remove all key-value pairs from a dictionary in Python, you can use the clear() method. Here's an example code snippet to remove all key-value pairs from a dictionary named my_dict:"
   ]
  },
  {
   "cell_type": "code",
   "execution_count": 15,
   "id": "a728d37e",
   "metadata": {},
   "outputs": [
    {
     "name": "stdout",
     "output_type": "stream",
     "text": [
      "{}\n"
     ]
    }
   ],
   "source": [
    "my_dict = {'key1': 'value1', 'key2': 'value2', 'key3': 'value3'}\n",
    "\n",
    "# Remove all key-value pairs\n",
    "my_dict.clear()\n",
    "\n",
    "print(my_dict)\n"
   ]
  },
  {
   "cell_type": "markdown",
   "id": "e804dedb",
   "metadata": {},
   "source": [
    "11. How can you add a new element to a tuple named my_tuple? Provide the code.\n",
    "\n",
    "Ans. In Python, tuples are immutable, which means their elements cannot be modified after creation. Therefore, you cannot directly add new elements to an existing tuple. However, you can create a new tuple by concatenating the existing tuple with another tuple or by using tuple unpacking. Here are two examples:"
   ]
  },
  {
   "cell_type": "code",
   "execution_count": 16,
   "id": "eb60e919",
   "metadata": {},
   "outputs": [
    {
     "name": "stdout",
     "output_type": "stream",
     "text": [
      "new_tuple: (1, 2, 3, 4)\n"
     ]
    }
   ],
   "source": [
    "#Using tuple concatenation:\n",
    "my_tuple = (1, 2, 3)\n",
    "\n",
    "# Add a new element using tuple concatenation\n",
    "new_tuple = my_tuple + (4,)\n",
    "\n",
    "print(\"new_tuple:\", new_tuple)\n"
   ]
  },
  {
   "cell_type": "code",
   "execution_count": 17,
   "id": "87e2838f",
   "metadata": {},
   "outputs": [
    {
     "name": "stdout",
     "output_type": "stream",
     "text": [
      "new_tuple: (1, 2, 3, 4)\n"
     ]
    }
   ],
   "source": [
    "#Using tuple unpacking:\n",
    "my_tuple = (1, 2, 3)\n",
    "\n",
    "# Add a new element using tuple unpacking\n",
    "new_tuple = (*my_tuple, 4)\n",
    "\n",
    "print(\"new_tuple:\", new_tuple)\n"
   ]
  },
  {
   "cell_type": "markdown",
   "id": "d1e8ef65",
   "metadata": {},
   "source": [
    "12. How can you access the element at index 0 in my_tuple? Provide the code.\n",
    "\n",
    "Ans. To access the element at index 0 in a tuple named my_tuple, you can use the following code in Python:"
   ]
  },
  {
   "cell_type": "code",
   "execution_count": 1,
   "id": "6ad8e485",
   "metadata": {},
   "outputs": [
    {
     "name": "stdout",
     "output_type": "stream",
     "text": [
      "element1\n"
     ]
    }
   ],
   "source": [
    "my_tuple = (\"element1\", \"element2\", \"element3\")\n",
    "element_at_index_0 = my_tuple[0]\n",
    "print(element_at_index_0)\n"
   ]
  },
  {
   "cell_type": "markdown",
   "id": "83d32e13",
   "metadata": {},
   "source": [
    "13. How can you check the length of my_tuple? Provide the code.\n",
    "\n",
    "Ans. How can you check the length of my_tuple? Provide the code."
   ]
  },
  {
   "cell_type": "code",
   "execution_count": 2,
   "id": "1ec7ba36",
   "metadata": {},
   "outputs": [
    {
     "name": "stdout",
     "output_type": "stream",
     "text": [
      "3\n"
     ]
    }
   ],
   "source": [
    "my_tuple = (\"element1\", \"element2\", \"element3\")\n",
    "tuple_length = len(my_tuple)\n",
    "print(tuple_length)\n"
   ]
  },
  {
   "cell_type": "markdown",
   "id": "7a3aba80",
   "metadata": {},
   "source": [
    "14. How can you access the last element of my_tuple? Provide the code.\n",
    "\n",
    "Ans. To access the last element of a tuple named my_tuple, you can use negative indexing in Python. Here's the code:"
   ]
  },
  {
   "cell_type": "code",
   "execution_count": 3,
   "id": "d311dc7d",
   "metadata": {},
   "outputs": [
    {
     "name": "stdout",
     "output_type": "stream",
     "text": [
      "element3\n"
     ]
    }
   ],
   "source": [
    "my_tuple = (\"element1\", \"element2\", \"element3\")\n",
    "last_element = my_tuple[-1]\n",
    "print(last_element)\n"
   ]
  },
  {
   "cell_type": "markdown",
   "id": "fd6a34da",
   "metadata": {},
   "source": [
    "15. How can you create a new tuple new_tuple that contains the same elements as my_tuple? Provide the code.\n",
    "\n",
    "Ans. Apologies for the repeated response. Here's an alternative method to create a new tuple new_tuple with the same elements as my_tuple in Python:"
   ]
  },
  {
   "cell_type": "code",
   "execution_count": 4,
   "id": "b03f0c8f",
   "metadata": {},
   "outputs": [
    {
     "name": "stdout",
     "output_type": "stream",
     "text": [
      "('element1', 'element2', 'element3')\n"
     ]
    }
   ],
   "source": [
    "my_tuple = (\"element1\", \"element2\", \"element3\")\n",
    "new_tuple = my_tuple[:]\n",
    "print(new_tuple)\n"
   ]
  },
  {
   "cell_type": "markdown",
   "id": "6043d783",
   "metadata": {},
   "source": [
    "16. How can you count the number of occurrences of a specific element in my_tuple? Provide the code.\n",
    "\n",
    "Ans. To count the number of occurrences of a specific element in a tuple named my_tuple, you can use the count() method in Python. Here's the code:"
   ]
  },
  {
   "cell_type": "code",
   "execution_count": 5,
   "id": "061c3199",
   "metadata": {},
   "outputs": [
    {
     "name": "stdout",
     "output_type": "stream",
     "text": [
      "3\n"
     ]
    }
   ],
   "source": [
    "my_tuple = (\"element1\", \"element2\", \"element1\", \"element3\", \"element1\")\n",
    "element_count = my_tuple.count(\"element1\")\n",
    "print(element_count)\n"
   ]
  },
  {
   "cell_type": "markdown",
   "id": "0329fcba",
   "metadata": {},
   "source": [
    "17. How can you concatenate two tuples tuple1 and tuple2 into a new tuple? Provide the code.\n",
    "\n",
    "Ans. To concatenate two tuples, tuple1 and tuple2, into a new tuple, you can use the + operator in Python. Here's the code:"
   ]
  },
  {
   "cell_type": "code",
   "execution_count": 6,
   "id": "2f3bba16",
   "metadata": {},
   "outputs": [
    {
     "name": "stdout",
     "output_type": "stream",
     "text": [
      "('element1', 'element2', 'element3', 'element4')\n"
     ]
    }
   ],
   "source": [
    "tuple1 = (\"element1\", \"element2\")\n",
    "tuple2 = (\"element3\", \"element4\")\n",
    "new_tuple = tuple1 + tuple2\n",
    "print(new_tuple)\n"
   ]
  },
  {
   "cell_type": "markdown",
   "id": "08dfd572",
   "metadata": {},
   "source": [
    "18. How can you check if a specific element exists in my_tuple? Provide the code.\n",
    "\n",
    "Ans. \n",
    "To check if a specific element exists in a tuple named my_tuple, you can use the in operator in Python. Here's the code:"
   ]
  },
  {
   "cell_type": "code",
   "execution_count": 7,
   "id": "5e5820ab",
   "metadata": {},
   "outputs": [
    {
     "name": "stdout",
     "output_type": "stream",
     "text": [
      "Element exists in my_tuple\n"
     ]
    }
   ],
   "source": [
    "my_tuple = (\"element1\", \"element2\", \"element3\")\n",
    "element_to_check = \"element2\"\n",
    "if element_to_check in my_tuple:\n",
    "    print(\"Element exists in my_tuple\")\n",
    "else:\n",
    "    print(\"Element does not exist in my_tuple\")\n"
   ]
  },
  {
   "cell_type": "markdown",
   "id": "f3426cdb",
   "metadata": {},
   "source": [
    "19. How can you find the index of a specific element in my_tuple? Provide the code.\n",
    "\n",
    "Ans. To find the index of a specific element in a tuple named my_tuple, you can use the index() method in Python. Here's the code:"
   ]
  },
  {
   "cell_type": "code",
   "execution_count": 8,
   "id": "9fe3667d",
   "metadata": {},
   "outputs": [
    {
     "name": "stdout",
     "output_type": "stream",
     "text": [
      "1\n"
     ]
    }
   ],
   "source": [
    "my_tuple = (\"element1\", \"element2\", \"element3\")\n",
    "element_to_find = \"element2\"\n",
    "element_index = my_tuple.index(element_to_find)\n",
    "print(element_index)\n"
   ]
  },
  {
   "cell_type": "markdown",
   "id": "7248b124",
   "metadata": {},
   "source": [
    "20. How can you convert my_tuple into a list? Provide the code.\n",
    "\n",
    "Ans. To convert a tuple named my_tuple into a list, you can use the list() function in Python. Here's the code:"
   ]
  },
  {
   "cell_type": "code",
   "execution_count": 9,
   "id": "716132a5",
   "metadata": {},
   "outputs": [
    {
     "name": "stdout",
     "output_type": "stream",
     "text": [
      "['element1', 'element2', 'element3']\n"
     ]
    }
   ],
   "source": [
    "my_tuple = (\"element1\", \"element2\", \"element3\")\n",
    "my_list = list(my_tuple)\n",
    "print(my_list)\n"
   ]
  },
  {
   "cell_type": "markdown",
   "id": "abd1deab",
   "metadata": {},
   "source": [
    "21. How can you remove all elements from my_tuple? Provide the code.\n",
    "\n",
    "Ans. In Python, tuples are immutable, which means you cannot directly remove elements from a tuple. However, you can create a new tuple without the elements from the original tuple. Here's the code:"
   ]
  },
  {
   "cell_type": "code",
   "execution_count": 10,
   "id": "ded3b9c1",
   "metadata": {},
   "outputs": [
    {
     "name": "stdout",
     "output_type": "stream",
     "text": [
      "()\n"
     ]
    }
   ],
   "source": [
    "my_tuple = (\"element1\", \"element2\", \"element3\")\n",
    "empty_tuple = ()\n",
    "print(empty_tuple)\n"
   ]
  },
  {
   "cell_type": "markdown",
   "id": "3858abf9",
   "metadata": {},
   "source": [
    "22. How can you add a new element to a set named my_set? Provide the code.\n",
    "\n",
    "Ans. To add a new element to a set named my_set, you can use the add() method in Python. Here's the code:"
   ]
  },
  {
   "cell_type": "code",
   "execution_count": 12,
   "id": "f55bd729",
   "metadata": {},
   "outputs": [
    {
     "name": "stdout",
     "output_type": "stream",
     "text": [
      "{'element2', 'element1', 'element3', 'element4'}\n"
     ]
    }
   ],
   "source": [
    "my_set = {\"element1\", \"element2\", \"element3\"}\n",
    "new_element = \"element4\"\n",
    "my_set.add(new_element)\n",
    "print(my_set)\n"
   ]
  },
  {
   "cell_type": "markdown",
   "id": "602be604",
   "metadata": {},
   "source": [
    "23. How can you check if a specific element exists in my_set? Provide the code.\n",
    "\n",
    "Ans. To check if a specific element exists in a set named my_set, you can use the in operator in Python. Here's the code:"
   ]
  },
  {
   "cell_type": "code",
   "execution_count": 13,
   "id": "37019e59",
   "metadata": {},
   "outputs": [
    {
     "name": "stdout",
     "output_type": "stream",
     "text": [
      "Element exists in my_set\n"
     ]
    }
   ],
   "source": [
    "my_set = {\"element1\", \"element2\", \"element3\"}\n",
    "element_to_check = \"element2\"\n",
    "if element_to_check in my_set:\n",
    "    print(\"Element exists in my_set\")\n",
    "else:\n",
    "    print(\"Element does not exist in my_set\")\n"
   ]
  },
  {
   "cell_type": "markdown",
   "id": "9474bc0c",
   "metadata": {},
   "source": [
    "24. How can you remove a specific element from my_set? Provide the code.\n",
    "\n",
    "Ans. To remove a specific element from a set named my_set, you can use the remove() method in Python. Here's the code:To remove a specific element from a set named my_set, you can use the remove() method in Python. Here's the code:"
   ]
  },
  {
   "cell_type": "code",
   "execution_count": 14,
   "id": "f3b60dee",
   "metadata": {},
   "outputs": [
    {
     "name": "stdout",
     "output_type": "stream",
     "text": [
      "{'element1', 'element3'}\n"
     ]
    }
   ],
   "source": [
    "my_set = {\"element1\", \"element2\", \"element3\"}\n",
    "element_to_remove = \"element2\"\n",
    "my_set.remove(element_to_remove)\n",
    "print(my_set)\n"
   ]
  },
  {
   "cell_type": "markdown",
   "id": "d7efdbee",
   "metadata": {},
   "source": [
    "25. How can you find the union of two sets set1 and set2? Provide the code.\n",
    "\n",
    "Ans. To find the union of two sets, set1 and set2, you can use the union() method or the | operator in Python. Here's the code using both approaches:"
   ]
  },
  {
   "cell_type": "code",
   "execution_count": 15,
   "id": "e3aa3701",
   "metadata": {},
   "outputs": [
    {
     "name": "stdout",
     "output_type": "stream",
     "text": [
      "{1, 2, 3, 4, 5}\n"
     ]
    }
   ],
   "source": [
    "#Using the union() method:\n",
    "set1 = {1, 2, 3}\n",
    "set2 = {3, 4, 5}\n",
    "union_set = set1.union(set2)\n",
    "print(union_set)\n"
   ]
  },
  {
   "cell_type": "code",
   "execution_count": 16,
   "id": "dd589019",
   "metadata": {},
   "outputs": [
    {
     "name": "stdout",
     "output_type": "stream",
     "text": [
      "{1, 2, 3, 4, 5}\n"
     ]
    }
   ],
   "source": [
    "#Using the | operator:\n",
    "set1 = {1, 2, 3}\n",
    "set2 = {3, 4, 5}\n",
    "union_set = set1 | set2\n",
    "print(union_set)\n"
   ]
  },
  {
   "cell_type": "markdown",
   "id": "51866666",
   "metadata": {},
   "source": [
    "26. How can you find the intersection of two sets set1 and set2? Provide the code.\n",
    "\n",
    "Ans. To find the intersection of two sets, set1 and set2, you can use the intersection() method or the & operator in Python. Here's the code using both approaches:"
   ]
  },
  {
   "cell_type": "code",
   "execution_count": 17,
   "id": "ca52130b",
   "metadata": {},
   "outputs": [
    {
     "name": "stdout",
     "output_type": "stream",
     "text": [
      "{3}\n"
     ]
    }
   ],
   "source": [
    "#Using the intersection() method:\n",
    "set1 = {1, 2, 3}\n",
    "set2 = {3, 4, 5}\n",
    "intersection_set = set1.intersection(set2)\n",
    "print(intersection_set)\n"
   ]
  },
  {
   "cell_type": "code",
   "execution_count": 18,
   "id": "5f45a23e",
   "metadata": {},
   "outputs": [
    {
     "name": "stdout",
     "output_type": "stream",
     "text": [
      "{3}\n"
     ]
    }
   ],
   "source": [
    "#Using the & operator:\n",
    "set1 = {1, 2, 3}\n",
    "set2 = {3, 4, 5}\n",
    "intersection_set = set1 & set2\n",
    "print(intersection_set)\n"
   ]
  },
  {
   "cell_type": "markdown",
   "id": "a1cfd1d0",
   "metadata": {},
   "source": [
    "27. How can you find the difference between two sets set1 and set2? Provide the code.\n",
    "\n",
    "Ans. To find the difference between two sets, set1 and set2, you can use the difference() method or the - operator in Python. Here's the code using both approaches:"
   ]
  },
  {
   "cell_type": "code",
   "execution_count": 19,
   "id": "b1354344",
   "metadata": {},
   "outputs": [
    {
     "name": "stdout",
     "output_type": "stream",
     "text": [
      "{1, 2}\n"
     ]
    }
   ],
   "source": [
    "# Using the difference() method:\n",
    "set1 = {1, 2, 3}\n",
    "set2 = {3, 4, 5}\n",
    "difference_set = set1.difference(set2)\n",
    "print(difference_set)"
   ]
  },
  {
   "cell_type": "code",
   "execution_count": 20,
   "id": "3e8bb121",
   "metadata": {},
   "outputs": [
    {
     "name": "stdout",
     "output_type": "stream",
     "text": [
      "{1, 2}\n"
     ]
    }
   ],
   "source": [
    "#Using the - operator:\n",
    "set1 = {1, 2, 3}\n",
    "set2 = {3, 4, 5}\n",
    "difference_set = set1 - set2\n",
    "print(difference_set)"
   ]
  },
  {
   "cell_type": "markdown",
   "id": "6b4430e9",
   "metadata": {},
   "source": [
    "28. How can you check if set1 is a subset of set2? Provide the code.\n",
    "\n",
    "Ans. To check if set1 is a subset of set2, you can use the issubset() method or the <= operator in Python. Here's the code using both approaches:"
   ]
  },
  {
   "cell_type": "code",
   "execution_count": 21,
   "id": "36229f9d",
   "metadata": {},
   "outputs": [
    {
     "name": "stdout",
     "output_type": "stream",
     "text": [
      "set1 is a subset of set2\n"
     ]
    }
   ],
   "source": [
    "#Using the issubset() method:\n",
    "set1 = {1, 2, 3}\n",
    "set2 = {1, 2, 3, 4, 5}\n",
    "if set1.issubset(set2):\n",
    "    print(\"set1 is a subset of set2\")\n",
    "else:\n",
    "    print(\"set1 is not a subset of set2\")\n"
   ]
  },
  {
   "cell_type": "code",
   "execution_count": 22,
   "id": "9f5cec13",
   "metadata": {},
   "outputs": [
    {
     "name": "stdout",
     "output_type": "stream",
     "text": [
      "set1 is a subset of set2\n"
     ]
    }
   ],
   "source": [
    "#Using the <= operator:\n",
    "set1 = {1, 2, 3}\n",
    "set2 = {1, 2, 3, 4, 5}\n",
    "if set1 <= set2:\n",
    "    print(\"set1 is a subset of set2\")\n",
    "else:\n",
    "    print(\"set1 is not a subset of set2\")\n"
   ]
  },
  {
   "cell_type": "markdown",
   "id": "430f5e48",
   "metadata": {},
   "source": [
    "29. How can you check if set1 is a superset of set2? Provide the code.\n",
    "\n",
    "Ans. To check if set1 is a superset of set2, you can use the issuperset() method or the >= operator in Python. Here's the code using both approaches:"
   ]
  },
  {
   "cell_type": "code",
   "execution_count": 23,
   "id": "48a3c976",
   "metadata": {},
   "outputs": [
    {
     "name": "stdout",
     "output_type": "stream",
     "text": [
      "set1 is a superset of set2\n"
     ]
    }
   ],
   "source": [
    "#Using the issuperset() method:\n",
    "set1 = {1, 2, 3, 4, 5}\n",
    "set2 = {1, 2, 3}\n",
    "if set1.issuperset(set2):\n",
    "    print(\"set1 is a superset of set2\")\n",
    "else:\n",
    "    print(\"set1 is not a superset of set2\")\n"
   ]
  },
  {
   "cell_type": "code",
   "execution_count": 24,
   "id": "31f09467",
   "metadata": {},
   "outputs": [
    {
     "name": "stdout",
     "output_type": "stream",
     "text": [
      "set1 is a superset of set2\n"
     ]
    }
   ],
   "source": [
    "#Using the >= operator:\n",
    "set1 = {1, 2, 3, 4, 5}\n",
    "set2 = {1, 2, 3}\n",
    "if set1 >= set2:\n",
    "    print(\"set1 is a superset of set2\")\n",
    "else:\n",
    "    print(\"set1 is not a superset of set2\")"
   ]
  },
  {
   "cell_type": "markdown",
   "id": "edc9d9cd",
   "metadata": {},
   "source": [
    "30. How can you find the symmetric difference between two sets set1 and set2? Provide the code.\n",
    "\n",
    "Ans. To find the symmetric difference between two sets, set1 and set2, you can use the symmetric_difference() method or the ^ operator in Python. Here's the code using both approaches:"
   ]
  },
  {
   "cell_type": "code",
   "execution_count": 26,
   "id": "cf51e529",
   "metadata": {},
   "outputs": [
    {
     "name": "stdout",
     "output_type": "stream",
     "text": [
      "{1, 2, 4, 5}\n"
     ]
    }
   ],
   "source": [
    "#Using the symmetric_difference() method:\n",
    "set1 = {1, 2, 3}\n",
    "set2 = {3, 4, 5}\n",
    "symmetric_difference_set = set1.symmetric_difference(set2)\n",
    "print(symmetric_difference_set)\n"
   ]
  },
  {
   "cell_type": "code",
   "execution_count": 27,
   "id": "5828b829",
   "metadata": {},
   "outputs": [
    {
     "name": "stdout",
     "output_type": "stream",
     "text": [
      "{1, 2, 4, 5}\n"
     ]
    }
   ],
   "source": [
    "#Using the ^ operator:\n",
    "set1 = {1, 2, 3}\n",
    "set2 = {3, 4, 5}\n",
    "symmetric_difference_set = set1 ^ set2\n",
    "print(symmetric_difference_set)"
   ]
  },
  {
   "cell_type": "markdown",
   "id": "0a1f5d2a",
   "metadata": {},
   "source": [
    "31. How can you remove all elements from my_set? Provide the code.\n",
    "\n",
    "Ans. To remove all elements from a set named my_set, you can use the clear() method in Python. Here's the code:"
   ]
  },
  {
   "cell_type": "code",
   "execution_count": 28,
   "id": "339fa786",
   "metadata": {},
   "outputs": [
    {
     "name": "stdout",
     "output_type": "stream",
     "text": [
      "set()\n"
     ]
    }
   ],
   "source": [
    "my_set = {\"element1\", \"element2\", \"element3\"}\n",
    "my_set.clear()\n",
    "print(my_set)\n"
   ]
  },
  {
   "cell_type": "code",
   "execution_count": null,
   "id": "9a11d8ba",
   "metadata": {},
   "outputs": [],
   "source": []
  }
 ],
 "metadata": {
  "kernelspec": {
   "display_name": "Python 3 (ipykernel)",
   "language": "python",
   "name": "python3"
  },
  "language_info": {
   "codemirror_mode": {
    "name": "ipython",
    "version": 3
   },
   "file_extension": ".py",
   "mimetype": "text/x-python",
   "name": "python",
   "nbconvert_exporter": "python",
   "pygments_lexer": "ipython3",
   "version": "3.11.4"
  }
 },
 "nbformat": 4,
 "nbformat_minor": 5
}
