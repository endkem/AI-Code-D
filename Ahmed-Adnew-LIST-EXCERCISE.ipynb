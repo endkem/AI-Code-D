{
 "cells": [
  {
   "cell_type": "code",
   "execution_count": null,
   "id": "9177027b",
   "metadata": {},
   "outputs": [],
   "source": [
    "####Sorry for late submition "
   ]
  },
  {
   "cell_type": "markdown",
   "id": "6cfa0184",
   "metadata": {},
   "source": [
    "1. How can you add a new element to the end of a_list? Provide the code.\n",
    "\n",
    "Ans. Python's append() method can be used to add a new element to the end of a list. "
   ]
  },
  {
   "cell_type": "code",
   "execution_count": 1,
   "id": "77dbaf2b",
   "metadata": {},
   "outputs": [
    {
     "name": "stdout",
     "output_type": "stream",
     "text": [
      "[1, 2, 3, 4, 5]\n"
     ]
    }
   ],
   "source": [
    "# Example list\n",
    "a_list = [1, 2, 3, 4]\n",
    "\n",
    "# New element to add\n",
    "new_element = 5  \n",
    "\n",
    "# Adding the new element to the end of the list\n",
    "a_list.append(new_element)  \n",
    "\n",
    "print(a_list)  \n"
   ]
  },
  {
   "cell_type": "markdown",
   "id": "0b9fedeb",
   "metadata": {},
   "source": [
    "2. How can you extend a_list by adding all the elements from another_list to the end of it? Provide the code.\n",
    "\n",
    "Ans. The extend() function in Python can be used to expand a list by appending all the elements from another list to its end."
   ]
  },
  {
   "cell_type": "code",
   "execution_count": 2,
   "id": "3f533235",
   "metadata": {},
   "outputs": [
    {
     "name": "stdout",
     "output_type": "stream",
     "text": [
      "[1, 2, 3, 4, 5, 6]\n"
     ]
    }
   ],
   "source": [
    " # Example list\n",
    "a_list = [1, 2, 3]\n",
    "\n",
    "# List to be added\n",
    "another_list = [4, 5, 6]  \n",
    "\n",
    "# Extending a_list by adding all elements from another_list\n",
    "a_list.extend(another_list)  \n",
    "\n",
    "print(a_list) "
   ]
  },
  {
   "cell_type": "markdown",
   "id": "3edab883",
   "metadata": {},
   "source": [
    "3. How can you access the element at index 2 in a_list? Provide the code.\n",
    "\n",
    "Ans. The Python indexing operator [] can be used to access the element at index 2 in a list.\n"
   ]
  },
  {
   "cell_type": "code",
   "execution_count": null,
   "id": "4acae525",
   "metadata": {},
   "outputs": [],
   "source": [
    "# Example list\n",
    "a_list = [1, 2, 3, 4, 5]  \n",
    "\n",
    " # Accessing the element at index 3\n",
    "element = a_list[3] \n",
    "\n",
    "print(element) \n"
   ]
  },
  {
   "cell_type": "markdown",
   "id": "e0e14b67",
   "metadata": {},
   "source": [
    "4. How can you change the value of the element at index 1 in a_list? Provide the code.\n",
    "\n",
    "Ans. The Python indexing operator [] can be used to assign a new value to a certain index to change the value of an element at that index in a list.\n"
   ]
  },
  {
   "cell_type": "code",
   "execution_count": 5,
   "id": "0fe589a5",
   "metadata": {},
   "outputs": [
    {
     "name": "stdout",
     "output_type": "stream",
     "text": [
      "[1, 10, 3, 4, 5]\n"
     ]
    }
   ],
   "source": [
    " # Example list\n",
    "a_list = [1, 2, 3, 4, 5] \n",
    "\n",
    " # Changing the value of the element at index 1 to 10\n",
    "a_list[1] = 10 \n",
    "\n",
    "print(a_list) \n"
   ]
  },
  {
   "cell_type": "markdown",
   "id": "34dcc434",
   "metadata": {},
   "source": [
    "5. How can you remove a specific element from a_list? Provide the code.\n",
    "\n",
    "Ans. The remove() function in Python can be used to remove a specific element from a list.\n"
   ]
  },
  {
   "cell_type": "code",
   "execution_count": 6,
   "id": "61165ebd",
   "metadata": {},
   "outputs": [
    {
     "name": "stdout",
     "output_type": "stream",
     "text": [
      "[1, 2, 4, 5]\n"
     ]
    }
   ],
   "source": [
    " # Example list\n",
    "a_list = [1, 2, 3, 4, 5] \n",
    "\n",
    " # Removing the element 3 from a_list\n",
    "a_list.remove(3) \n",
    "\n",
    "print(a_list) \n"
   ]
  },
  {
   "cell_type": "markdown",
   "id": "b23a45a7",
   "metadata": {},
   "source": [
    "6. How can you find the index of a specific element in a_list? Provide the code.\n",
    "\n",
    "Ans. The index() function in Python can be used to determine an element's index within a list. \n"
   ]
  },
  {
   "cell_type": "code",
   "execution_count": 7,
   "id": "f136ee1e",
   "metadata": {},
   "outputs": [
    {
     "name": "stdout",
     "output_type": "stream",
     "text": [
      "2\n"
     ]
    }
   ],
   "source": [
    "# Example list\n",
    "a_list = [1, 2, 3, 4, 5]  \n",
    "\n",
    "# Finding the index of element 3\n",
    "index = a_list.index(3)  \n",
    "\n",
    "print(index)  "
   ]
  },
  {
   "cell_type": "markdown",
   "id": "c91295a3",
   "metadata": {},
   "source": [
    "7. How can you count the number of occurrences of a specific element in a_list? Provide the code.\n",
    "\n",
    "Ans. Python's count() function allows you to count the instances of a particular element in a list.\n"
   ]
  },
  {
   "cell_type": "code",
   "execution_count": 8,
   "id": "31ff7ba5",
   "metadata": {},
   "outputs": [
    {
     "name": "stdout",
     "output_type": "stream",
     "text": [
      "1\n"
     ]
    }
   ],
   "source": [
    "# Example list\n",
    "a_list = [1, 2, 2, 3, 2, 4, 5, 2]  \n",
    "\n",
    " # Counting the number of occurrences of element 4\n",
    "count = a_list.count(4) \n",
    "\n",
    "print(count)  \n"
   ]
  },
  {
   "cell_type": "markdown",
   "id": "d73824ba",
   "metadata": {},
   "source": [
    "8. How can you sort the elements in a_list in ascending order? Provide the code.\n",
    "\n",
    "Ans. Python's sort() method can be used to order the entries in a list in ascending order.\n"
   ]
  },
  {
   "cell_type": "code",
   "execution_count": 9,
   "id": "6e11db6a",
   "metadata": {},
   "outputs": [
    {
     "name": "stdout",
     "output_type": "stream",
     "text": [
      "[1, 2, 3, 4, 5]\n"
     ]
    }
   ],
   "source": [
    "# Example list\n",
    "a_list = [3, 1, 4, 2, 5]  \n",
    "\n",
    "# Sorting the elements in ascending order\n",
    "a_list.sort()  \n",
    "\n",
    "print(a_list) \n"
   ]
  },
  {
   "cell_type": "code",
   "execution_count": null,
   "id": "c6504f74",
   "metadata": {},
   "outputs": [],
   "source": [
    "9. How can you reverse the order of elements in a_list? Provide the code.\n",
    "\n",
    "Ans. The Python reverse() function can be used to reverse the order of elements in a list.\n"
   ]
  },
  {
   "cell_type": "code",
   "execution_count": 10,
   "id": "fa7e8ba0",
   "metadata": {},
   "outputs": [
    {
     "name": "stdout",
     "output_type": "stream",
     "text": [
      "[5, 4, 3, 2, 1]\n"
     ]
    }
   ],
   "source": [
    "# Example list\n",
    "a_list = [1, 2, 3, 4, 5]  \n",
    "\n",
    " # Reversing the order of elements\n",
    "a_list.reverse() \n",
    "\n",
    "print(a_list)  \n"
   ]
  },
  {
   "cell_type": "markdown",
   "id": "dd02c82e",
   "metadata": {},
   "source": [
    "10. How can you create a new list new_list that contains the same elements as a_list? Provide the code.\n",
    "\n",
    "Ans. There are several ways in Python to make a new list new_list with the same elements as a_list. Here is one typical method:"
   ]
  },
  {
   "cell_type": "code",
   "execution_count": 11,
   "id": "2bd7cb2f",
   "metadata": {},
   "outputs": [
    {
     "name": "stdout",
     "output_type": "stream",
     "text": [
      "[1, 2, 3, 4, 5]\n"
     ]
    }
   ],
   "source": [
    " # Example list\n",
    "a_list = [1, 2, 3, 4, 5] \n",
    "\n",
    " # Creating a new list with the same elements as a_list\n",
    "new_list = list(a_list) \n",
    "\n",
    "print(new_list) \n"
   ]
  },
  {
   "cell_type": "markdown",
   "id": "a362ce13",
   "metadata": {},
   "source": [
    "11. How can you remove all elements from a_list? Provide the code.\n",
    "\n",
    "Ans. You can use the clear() method to remove every item from a list or you can assign an empty list to the list's corresponding variable. One method is as follows:"
   ]
  },
  {
   "cell_type": "code",
   "execution_count": 12,
   "id": "34bdb9d2",
   "metadata": {},
   "outputs": [
    {
     "name": "stdout",
     "output_type": "stream",
     "text": [
      "[]\n"
     ]
    }
   ],
   "source": [
    "# Example list\n",
    "a_list = [1, 2, 3, 4, 5]  \n",
    "\n",
    "# Removing all elements from a_list\n",
    "a_list.clear()  \n",
    "\n",
    "print(a_list)  \n"
   ]
  },
  {
   "cell_type": "code",
   "execution_count": null,
   "id": "ba37adaf",
   "metadata": {},
   "outputs": [],
   "source": []
  }
 ],
 "metadata": {
  "kernelspec": {
   "display_name": "Python 3 (ipykernel)",
   "language": "python",
   "name": "python3"
  },
  "language_info": {
   "codemirror_mode": {
    "name": "ipython",
    "version": 3
   },
   "file_extension": ".py",
   "mimetype": "text/x-python",
   "name": "python",
   "nbconvert_exporter": "python",
   "pygments_lexer": "ipython3",
   "version": "3.11.4"
  }
 },
 "nbformat": 4,
 "nbformat_minor": 5
}
