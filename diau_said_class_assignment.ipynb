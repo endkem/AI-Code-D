{
 "cells": [
  {
   "cell_type": "code",
   "execution_count": 1,
   "id": "10784b20",
   "metadata": {},
   "outputs": [
    {
     "name": "stdout",
     "output_type": "stream",
     "text": [
      "(4, ['apple', 'grape', 'banana', 'orange'])\n"
     ]
    }
   ],
   "source": [
    "# Write a function that takes a list of strings as input and returns a tuple containing two values: the total number of unique words across all strings, and a list of all unique words found.\n",
    "# For example, given the input \n",
    "list_item =  [\"apple\", \"banana\", \"apple\", \"orange\", \"banana\", \"grape\"]\n",
    "# change the list into set to get a unique values of the lsit \n",
    "change_to_set = set(list_item)\n",
    "#than find the length of the set print both it length and chages set to list \n",
    "print((len(change_to_set), list(change_to_set)))\n",
    "\n",
    "\n"
   ]
  },
  {
   "cell_type": "code",
   "execution_count": 6,
   "id": "73f1a906",
   "metadata": {},
   "outputs": [
    {
     "name": "stdout",
     "output_type": "stream",
     "text": [
      "['apple', 'grape', 'banana', 'orange']\n",
      "4\n",
      "(4, ['apple', 'grape', 'banana', 'orange'])\n"
     ]
    }
   ],
   "source": [
    "# we can also use a function to do the same thing this function return a tuple so we can utilize it if we need it in the future \n",
    "\n",
    "def unique(a) :\n",
    "  b= set(a)\n",
    "  return(len(b) , list(b))\n",
    "\n",
    "print(unique(list_item)[1])\n",
    "print(unique(list_item)[0])\n",
    "print(unique(list_item))"
   ]
  },
  {
   "cell_type": "code",
   "execution_count": null,
   "id": "accac14d",
   "metadata": {},
   "outputs": [],
   "source": [
    "fun_"
   ]
  }
 ],
 "metadata": {
  "kernelspec": {
   "display_name": "Python 3 (ipykernel)",
   "language": "python",
   "name": "python3"
  },
  "language_info": {
   "codemirror_mode": {
    "name": "ipython",
    "version": 3
   },
   "file_extension": ".py",
   "mimetype": "text/x-python",
   "name": "python",
   "nbconvert_exporter": "python",
   "pygments_lexer": "ipython3",
   "version": "3.11.3"
  }
 },
 "nbformat": 4,
 "nbformat_minor": 5
}
