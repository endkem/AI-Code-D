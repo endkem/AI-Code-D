{
  "nbformat": 4,
  "nbformat_minor": 0,
  "metadata": {
    "colab": {
      "provenance": []
    },
    "kernelspec": {
      "name": "python3",
      "display_name": "Python 3"
    },
    "language_info": {
      "name": "python"
    }
  },
  "cells": [
    {
      "cell_type": "code",
      "execution_count": 39,
      "metadata": {
        "colab": {
          "base_uri": "https://localhost:8080/"
        },
        "id": "2wUXxp1kpNn0",
        "outputId": "f0b68c85-93c2-48dd-b239-19fbbeb7e901"
      },
      "outputs": [
        {
          "output_type": "stream",
          "name": "stdout",
          "text": [
            "{'lastname': 'ibrahim', 'age': 63, 'firstname': 'muhammed'}\n"
          ]
        }
      ],
      "source": [
        "# How can you add a new key-value pair to a dictionary named my_dict? Provide the code.\n",
        "myDict= {\"lastname\":\"abedla\", \"lastname\":\"ibrahim\"}\n",
        "myDict['age'] = 63\n",
        "print(myDict)\n"
      ]
    },
    {
      "cell_type": "code",
      "source": [
        "# How can you access the value associated with a specific key in my_dict? Provide the code.\n",
        "myDict['firstname']"
      ],
      "metadata": {
        "colab": {
          "base_uri": "https://localhost:8080/",
          "height": 36
        },
        "id": "EqjYe51gpslf",
        "outputId": "4d715b10-de77-422e-9865-eed1fffd40c0"
      },
      "execution_count": null,
      "outputs": [
        {
          "output_type": "execute_result",
          "data": {
            "text/plain": [
              "'muhammed'"
            ],
            "application/vnd.google.colaboratory.intrinsic+json": {
              "type": "string"
            }
          },
          "metadata": {},
          "execution_count": 22
        }
      ]
    },
    {
      "cell_type": "code",
      "source": [
        "# How can you check if a key exists in my_dict? Provide the code.\n",
        "kryExist = \"firstname\" in myDict\n",
        "print(kryExist)\n",
        "kryExist = \"name\" in myDict\n",
        "print(kryExist)"
      ],
      "metadata": {
        "colab": {
          "base_uri": "https://localhost:8080/"
        },
        "id": "B325QScUq-nc",
        "outputId": "701c4797-fa9a-4f69-cb91-5af1dc8b245a"
      },
      "execution_count": null,
      "outputs": [
        {
          "output_type": "stream",
          "name": "stdout",
          "text": [
            "True\n",
            "False\n"
          ]
        }
      ]
    },
    {
      "cell_type": "code",
      "source": [
        "# How can you remove a key-value pair from my_dict using the key? Provide the code.\n",
        "myDict.pop(\"age\")\n",
        "print(myDict)\n"
      ],
      "metadata": {
        "id": "bCM0YwI4r6I5",
        "colab": {
          "base_uri": "https://localhost:8080/"
        },
        "outputId": "9f6af8f0-a4af-4e17-b91c-cae3e49af95b"
      },
      "execution_count": 35,
      "outputs": [
        {
          "output_type": "stream",
          "name": "stdout",
          "text": [
            "{'lastname': 'ibrahim', 'firstname': 'muhammed'}\n"
          ]
        }
      ]
    },
    {
      "cell_type": "code",
      "source": [
        "# How can you get the number of key-value pairs in my_dict? Provide the code.\n",
        "\n",
        "len(myDict)"
      ],
      "metadata": {
        "colab": {
          "base_uri": "https://localhost:8080/"
        },
        "id": "MfGnUcL2txiF",
        "outputId": "31d97ef4-a1e0-49cc-9786-53bad54a3f34"
      },
      "execution_count": 40,
      "outputs": [
        {
          "output_type": "execute_result",
          "data": {
            "text/plain": [
              "3"
            ]
          },
          "metadata": {},
          "execution_count": 40
        }
      ]
    },
    {
      "cell_type": "code",
      "source": [
        "# How can you retrieve all the keys in my_dict? Provide the code.\n",
        "myDict.keys()\n"
      ],
      "metadata": {
        "colab": {
          "base_uri": "https://localhost:8080/"
        },
        "id": "FBoxYfzCuQQo",
        "outputId": "bde6842e-08ba-4014-b7f3-0dfe7bce30a0"
      },
      "execution_count": 41,
      "outputs": [
        {
          "output_type": "execute_result",
          "data": {
            "text/plain": [
              "dict_keys(['lastname', 'age', 'firstname'])"
            ]
          },
          "metadata": {},
          "execution_count": 41
        }
      ]
    },
    {
      "cell_type": "code",
      "source": [
        "# How can you retrieve all the values in my_dict? Provide the code.\n",
        "\n",
        "myDict.values()"
      ],
      "metadata": {
        "colab": {
          "base_uri": "https://localhost:8080/"
        },
        "id": "q9Od8w5NuZ5s",
        "outputId": "cb46c790-711d-46cf-d2f0-866f38826018"
      },
      "execution_count": 42,
      "outputs": [
        {
          "output_type": "execute_result",
          "data": {
            "text/plain": [
              "dict_values(['ibrahim', 63, 'muhammed'])"
            ]
          },
          "metadata": {},
          "execution_count": 42
        }
      ]
    },
    {
      "cell_type": "code",
      "source": [
        "# How can you update the value associated with a specific key in my_dict? Provide the code.\n",
        "myDict.update({\"firstname\":\"musa\"})\n",
        "print(myDict)"
      ],
      "metadata": {
        "colab": {
          "base_uri": "https://localhost:8080/"
        },
        "id": "maSX66iAufP1",
        "outputId": "14c41928-21e2-4c57-d258-699195d7085d"
      },
      "execution_count": 47,
      "outputs": [
        {
          "output_type": "stream",
          "name": "stdout",
          "text": [
            "{'lastname': 'ibrahim', 'age': 63, 'firstname': 'musa', 'fistname': 'musa', 'first': 'musa'}\n"
          ]
        }
      ]
    },
    {
      "cell_type": "code",
      "source": [
        "# How can you create a new dictionary new_dict that contains the same key-value pairs as my_dict? Provide the code.\n",
        "new_dict = myDict\n",
        "print(new_dict)\n",
        "newer_dict = myDict.copy()\n",
        "print(newer_dict)\n"
      ],
      "metadata": {
        "colab": {
          "base_uri": "https://localhost:8080/"
        },
        "id": "cf1_fYQHuyvj",
        "outputId": "c0042048-69c9-48da-c35b-12d90db1dbd2"
      },
      "execution_count": 51,
      "outputs": [
        {
          "output_type": "stream",
          "name": "stdout",
          "text": [
            "{'lastname': 'ibrahim', 'age': 63, 'firstname': 'musa', 'fistname': 'musa', 'first': 'musa'}\n",
            "{'lastname': 'ibrahim', 'age': 63, 'firstname': 'musa', 'fistname': 'musa', 'first': 'musa'}\n"
          ]
        }
      ]
    },
    {
      "cell_type": "code",
      "source": [
        "# How can you remove all key-value pairs from my_dict? Provide the code.\n",
        "myDict.clear()\n",
        "print(myDict)"
      ],
      "metadata": {
        "colab": {
          "base_uri": "https://localhost:8080/"
        },
        "id": "UTg2bVpdvF1z",
        "outputId": "accd8937-3530-43a5-c819-fbfce522b096"
      },
      "execution_count": 53,
      "outputs": [
        {
          "output_type": "stream",
          "name": "stdout",
          "text": [
            "{}\n"
          ]
        }
      ]
    },
    {
      "cell_type": "markdown",
      "source": [
        "# tuples ***assignment***"
      ],
      "metadata": {
        "id": "jHL87AKvvi6N"
      }
    },
    {
      "cell_type": "code",
      "source": [
        "# How can you add a new element to a tuple named my_tuple? Provide the code.\n",
        "\n",
        "myTuples = (\"new\", \"element\")"
      ],
      "metadata": {
        "id": "i5oNqMWZvYza"
      },
      "execution_count": 102,
      "outputs": []
    },
    {
      "cell_type": "code",
      "source": [
        "# How can you access the element at index 0 in my_tuple? Provide the code.\n",
        "myTuples[0]"
      ],
      "metadata": {
        "colab": {
          "base_uri": "https://localhost:8080/",
          "height": 36
        },
        "id": "wqstgZEgv6BZ",
        "outputId": "c4082845-bffa-45fc-e51e-53e5193f1f3c"
      },
      "execution_count": 60,
      "outputs": [
        {
          "output_type": "execute_result",
          "data": {
            "text/plain": [
              "'new'"
            ],
            "application/vnd.google.colaboratory.intrinsic+json": {
              "type": "string"
            }
          },
          "metadata": {},
          "execution_count": 60
        }
      ]
    },
    {
      "cell_type": "code",
      "source": [
        "# How can you check the length of my_tuple? Provide the code.\n",
        "len(myTuples)"
      ],
      "metadata": {
        "colab": {
          "base_uri": "https://localhost:8080/"
        },
        "id": "zTOMZ5V2wzuR",
        "outputId": "5f2ba5a8-ef31-4c02-ac2b-6f045ede4f75"
      },
      "execution_count": 64,
      "outputs": [
        {
          "output_type": "execute_result",
          "data": {
            "text/plain": [
              "2"
            ]
          },
          "metadata": {},
          "execution_count": 64
        }
      ]
    },
    {
      "cell_type": "code",
      "source": [
        "# How can you access the last element of my_tuple? Provide the code.\n",
        "myTuples[-1]"
      ],
      "metadata": {
        "colab": {
          "base_uri": "https://localhost:8080/",
          "height": 36
        },
        "id": "bwEsYSCNxIBC",
        "outputId": "df19389c-1246-4ef7-d74f-79f612a08c47"
      },
      "execution_count": 65,
      "outputs": [
        {
          "output_type": "execute_result",
          "data": {
            "text/plain": [
              "'element'"
            ],
            "application/vnd.google.colaboratory.intrinsic+json": {
              "type": "string"
            }
          },
          "metadata": {},
          "execution_count": 65
        }
      ]
    },
    {
      "cell_type": "code",
      "source": [
        "# How can you create a new tuple new_tuple that contains the same elements as my_tuple? Provide the code.\n",
        "new_tuple = myTuples\n",
        "print(new_tuple)"
      ],
      "metadata": {
        "colab": {
          "base_uri": "https://localhost:8080/"
        },
        "id": "GXBU6xztxRen",
        "outputId": "7a894bd6-5c11-4a33-c8c3-43c1abba5695"
      },
      "execution_count": 67,
      "outputs": [
        {
          "output_type": "stream",
          "name": "stdout",
          "text": [
            "('new', 'element')\n"
          ]
        }
      ]
    },
    {
      "cell_type": "code",
      "source": [
        "# How can you count the number of occurrences of a specific element in my_tuple? Provide the code.\n",
        "myTuples.count(\"new\")"
      ],
      "metadata": {
        "colab": {
          "base_uri": "https://localhost:8080/"
        },
        "id": "-LopEzzcxaCW",
        "outputId": "e7a3f765-ed58-403c-f919-42befe844b85"
      },
      "execution_count": 68,
      "outputs": [
        {
          "output_type": "execute_result",
          "data": {
            "text/plain": [
              "1"
            ]
          },
          "metadata": {},
          "execution_count": 68
        }
      ]
    },
    {
      "cell_type": "code",
      "source": [
        "tuple3 = new_tuple + myTuples\n",
        "print(tuple3)"
      ],
      "metadata": {
        "colab": {
          "base_uri": "https://localhost:8080/"
        },
        "id": "cOCGoAR5xhEW",
        "outputId": "351886d8-8c98-4c54-954e-a83ff61a1a90"
      },
      "execution_count": 72,
      "outputs": [
        {
          "output_type": "stream",
          "name": "stdout",
          "text": [
            "('new', 'element', 'new', 'element')\n"
          ]
        }
      ]
    },
    {
      "cell_type": "code",
      "source": [
        "# How can you check if a specific element exists in my_tuple? Provide the code.?\n",
        "\"new\" in tuple3"
      ],
      "metadata": {
        "colab": {
          "base_uri": "https://localhost:8080/"
        },
        "id": "0R8ZUZXFxsWp",
        "outputId": "b8217d0b-9317-42e2-b091-0c417be33a8a"
      },
      "execution_count": 73,
      "outputs": [
        {
          "output_type": "execute_result",
          "data": {
            "text/plain": [
              "True"
            ]
          },
          "metadata": {},
          "execution_count": 73
        }
      ]
    },
    {
      "cell_type": "code",
      "source": [
        "# How can you find the index of a specific element in my_tuple? Provide the code.\n",
        "myTuples.index(\"new\")"
      ],
      "metadata": {
        "colab": {
          "base_uri": "https://localhost:8080/"
        },
        "id": "DC3J52BFx6AI",
        "outputId": "978c5122-cd42-42c9-b6ae-af1640c34e8f"
      },
      "execution_count": 74,
      "outputs": [
        {
          "output_type": "execute_result",
          "data": {
            "text/plain": [
              "0"
            ]
          },
          "metadata": {},
          "execution_count": 74
        }
      ]
    },
    {
      "cell_type": "code",
      "source": [
        "# How can you convert my_tuple into a list? Provide the code.\n",
        "convertedList = list(myTuples)\n",
        "\n",
        "print(convertedList)\n"
      ],
      "metadata": {
        "colab": {
          "base_uri": "https://localhost:8080/"
        },
        "id": "Z8ANCmfKyC_x",
        "outputId": "1cc75adc-9456-4dbb-f088-953fdc8775d7"
      },
      "execution_count": 78,
      "outputs": [
        {
          "output_type": "stream",
          "name": "stdout",
          "text": [
            "['new', 'element']\n",
            "[('new', 'element', 'new', 'element')]\n"
          ]
        }
      ]
    },
    {
      "cell_type": "code",
      "source": [
        "# How can you remove all elements from my_tuple? Provide the code.\n",
        "# since tuples are immutable we can only delete the whole tuple\n",
        "del(myTuples)\n",
        "# or we can  converted to list and use a clear function\n",
        "myTuples = (list(myTuples).clear())\n",
        "print(myTuples)\n",
        "\n"
      ],
      "metadata": {
        "colab": {
          "base_uri": "https://localhost:8080/"
        },
        "id": "FHwt0Yw0yL-W",
        "outputId": "d3f1f61d-7f91-4dcf-901e-2b1188e846bd"
      },
      "execution_count": 103,
      "outputs": [
        {
          "output_type": "stream",
          "name": "stdout",
          "text": [
            "None\n"
          ]
        }
      ]
    },
    {
      "cell_type": "markdown",
      "source": [
        "# ***set assignment***"
      ],
      "metadata": {
        "id": "VV7HDB6Z0U9q"
      }
    },
    {
      "cell_type": "code",
      "source": [
        "# How can you add a new element to a set named my_set? Provide the code.\n",
        "mySet = {1,2,3,4,5}\n",
        "mySet.add(6)\n",
        "mySet\n",
        "set2= {5,6,7,8}"
      ],
      "metadata": {
        "id": "VbGiv-kVyfeS"
      },
      "execution_count": 123,
      "outputs": []
    },
    {
      "cell_type": "code",
      "source": [
        "# How can you check if a specific element exists in my_set? Provide the code.\n",
        "1 in mySet"
      ],
      "metadata": {
        "colab": {
          "base_uri": "https://localhost:8080/"
        },
        "id": "kdjBQGlHzY7r",
        "outputId": "82422b82-39ab-4f74-c542-ecbab8cf98d3"
      },
      "execution_count": 116,
      "outputs": [
        {
          "output_type": "execute_result",
          "data": {
            "text/plain": [
              "True"
            ]
          },
          "metadata": {},
          "execution_count": 116
        }
      ]
    },
    {
      "cell_type": "code",
      "source": [
        "# How can you remove a specific element from my_set? Provide the code.\n",
        "mySet.remove(6)\n",
        "print(mySet)"
      ],
      "metadata": {
        "colab": {
          "base_uri": "https://localhost:8080/"
        },
        "id": "JBvfFwR-0_Ac",
        "outputId": "ae1d1949-131d-4d30-c610-445d416b057d"
      },
      "execution_count": 121,
      "outputs": [
        {
          "output_type": "stream",
          "name": "stdout",
          "text": [
            "{2, 3, 4, 5}\n"
          ]
        }
      ]
    },
    {
      "cell_type": "code",
      "source": [
        "# How can you find the union of two sets set1 and set2? Provide the code.\n",
        "\n",
        "set2.union(mySet)"
      ],
      "metadata": {
        "colab": {
          "base_uri": "https://localhost:8080/"
        },
        "id": "XelekZFn1FN7",
        "outputId": "3b687151-9c5f-4cab-82ec-a570b6c735ee"
      },
      "execution_count": 124,
      "outputs": [
        {
          "output_type": "execute_result",
          "data": {
            "text/plain": [
              "{1, 2, 3, 4, 5, 6, 7, 8}"
            ]
          },
          "metadata": {},
          "execution_count": 124
        }
      ]
    },
    {
      "cell_type": "code",
      "source": [
        "# How can you find the intersection of two sets set1 and set2? Provide the code.\n",
        "set2.intersection(mySet)"
      ],
      "metadata": {
        "colab": {
          "base_uri": "https://localhost:8080/"
        },
        "id": "O9dgFS331uPc",
        "outputId": "80e1c048-7d21-40bb-a73a-8bc87821c3bd"
      },
      "execution_count": 126,
      "outputs": [
        {
          "output_type": "execute_result",
          "data": {
            "text/plain": [
              "{5, 6}"
            ]
          },
          "metadata": {},
          "execution_count": 126
        }
      ]
    },
    {
      "cell_type": "code",
      "source": [
        "# How can you find the difference between two sets set1 and set2? Provide the code.\n",
        "\n",
        "diff1 =set2.difference(mySet)\n",
        "print(diff1)\n",
        "diff2= mySet.difference(set2)\n",
        "print(diff2)\n",
        "\n"
      ],
      "metadata": {
        "colab": {
          "base_uri": "https://localhost:8080/"
        },
        "id": "XRs8EAAB12l0",
        "outputId": "5a84420a-9c58-4c61-fb70-0ececc6fa8eb"
      },
      "execution_count": 143,
      "outputs": [
        {
          "output_type": "stream",
          "name": "stdout",
          "text": [
            "{8, 7}\n",
            "{1, 2, 3, 4}\n"
          ]
        }
      ]
    },
    {
      "cell_type": "code",
      "source": [
        "set3= {1,2,3}"
      ],
      "metadata": {
        "id": "bcemhCMY3N7m"
      },
      "execution_count": 135,
      "outputs": []
    },
    {
      "cell_type": "code",
      "source": [
        "# How can you check if set1 is a subset of set2? Provide the code.\n",
        "set2.issubset(mySet)\n",
        "mySet.issubset(set2)\n",
        "mySet.issubset(set3)\n",
        "set3.issubset(mySet)"
      ],
      "metadata": {
        "colab": {
          "base_uri": "https://localhost:8080/"
        },
        "id": "quHdr8lU2ADf",
        "outputId": "c793068a-88a3-4614-ac1c-d0bf5b4465aa"
      },
      "execution_count": 139,
      "outputs": [
        {
          "output_type": "execute_result",
          "data": {
            "text/plain": [
              "True"
            ]
          },
          "metadata": {},
          "execution_count": 139
        }
      ]
    },
    {
      "cell_type": "code",
      "source": [
        "#How can you check if set1 is a superset of set2? Provide the code.\n",
        "mySet.issuperset(set2)\n",
        "set2.issuperset(mySet)\n",
        "set3.issuperset(mySet)\n",
        "mySet.issuperset(set3)"
      ],
      "metadata": {
        "colab": {
          "base_uri": "https://localhost:8080/"
        },
        "id": "JokV03Cg26sw",
        "outputId": "dec78969-3743-40ae-91e9-cdd137b79ba2"
      },
      "execution_count": 137,
      "outputs": [
        {
          "output_type": "execute_result",
          "data": {
            "text/plain": [
              "True"
            ]
          },
          "metadata": {},
          "execution_count": 137
        }
      ]
    },
    {
      "cell_type": "code",
      "source": [
        "# How can you find the symmetric difference between two\n",
        "# sets set1 and set2? Provide the code.\n",
        "mySet.symmetric_difference(set2)\n",
        "set2.symmetric_difference(mySet)"
      ],
      "metadata": {
        "colab": {
          "base_uri": "https://localhost:8080/"
        },
        "id": "s9pf6Mo83JiR",
        "outputId": "1ae7faf8-0d73-40c9-bcef-dc49ff850e1a"
      },
      "execution_count": 140,
      "outputs": [
        {
          "output_type": "execute_result",
          "data": {
            "text/plain": [
              "{1, 2, 3, 4, 7, 8}"
            ]
          },
          "metadata": {},
          "execution_count": 140
        }
      ]
    },
    {
      "cell_type": "code",
      "source": [
        "# How can you remove all elements from my_set? Provide the code.\n",
        "set3.clear()"
      ],
      "metadata": {
        "id": "arFbhmgz3qzi"
      },
      "execution_count": 141,
      "outputs": []
    },
    {
      "cell_type": "code",
      "source": [],
      "metadata": {
        "id": "dHCiG-bq3xE5"
      },
      "execution_count": null,
      "outputs": []
    }
  ]
}