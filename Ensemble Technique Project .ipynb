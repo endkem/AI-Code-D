{
 "cells": [
  {
   "cell_type": "markdown",
   "metadata": {},
   "source": [
    "## 1. Perform an Exploratory Data Analysis on the data"
   ]
  },
  {
   "cell_type": "code",
   "execution_count": 1,
   "metadata": {},
   "outputs": [],
   "source": [
    "# Iporting important liraries "
   ]
  },
  {
   "cell_type": "code",
   "execution_count": 2,
   "metadata": {},
   "outputs": [
    {
     "data": {
      "text/html": [
       "<style>.container { width:98% !important; }</style>"
      ],
      "text/plain": [
       "<IPython.core.display.HTML object>"
      ]
     },
     "metadata": {},
     "output_type": "display_data"
    }
   ],
   "source": [
    "import warnings\n",
    "warnings.filterwarnings(\"ignore\")\n",
    "\n",
    "import numpy as np   \n",
    "import pandas as pd    \n",
    "import seaborn as sns\n",
    "import matplotlib.pyplot as plt\n",
    "%matplotlib inline\n",
    "from sklearn.tree import DecisionTreeClassifier\n",
    "from sklearn.model_selection import GridSearchCV\n",
    "from sklearn.ensemble import BaggingClassifier\n",
    "from sklearn.ensemble import RandomForestClassifier\n",
    "from sklearn.ensemble import AdaBoostClassifier, GradientBoostingClassifier,StackingClassifier\n",
    "from xgboost import XGBClassifier\n",
    "from sklearn import metrics\n",
    "from sklearn.model_selection import GridSearchCV, train_test_split\n",
    "\n",
    "# Adjust pandas display and formatting settings\n",
    "\n",
    "# Remove scientific notations and display numbers with 2 decimal points instead\n",
    "pd.options.display.float_format = '{:,.3f}'.format        \n",
    "\n",
    "# Increase cell width\n",
    "from IPython.core.display import display, HTML\n",
    "display(HTML(\"<style>.container { width:98% !important; }</style>\"))"
   ]
  },
  {
   "cell_type": "code",
   "execution_count": 3,
   "metadata": {},
   "outputs": [],
   "source": [
    "# reading data from the data frame"
   ]
  },
  {
   "cell_type": "code",
   "execution_count": 4,
   "metadata": {},
   "outputs": [
    {
     "data": {
      "text/html": [
       "<div>\n",
       "<style scoped>\n",
       "    .dataframe tbody tr th:only-of-type {\n",
       "        vertical-align: middle;\n",
       "    }\n",
       "\n",
       "    .dataframe tbody tr th {\n",
       "        vertical-align: top;\n",
       "    }\n",
       "\n",
       "    .dataframe thead th {\n",
       "        text-align: right;\n",
       "    }\n",
       "</style>\n",
       "<table border=\"1\" class=\"dataframe\">\n",
       "  <thead>\n",
       "    <tr style=\"text-align: right;\">\n",
       "      <th></th>\n",
       "      <th>CustomerID</th>\n",
       "      <th>ProdTaken</th>\n",
       "      <th>Age</th>\n",
       "      <th>PreferredLoginDevice</th>\n",
       "      <th>CityTier</th>\n",
       "      <th>DurationOfPitch</th>\n",
       "      <th>Occupation</th>\n",
       "      <th>Gender</th>\n",
       "      <th>NumberOfPersonVisited</th>\n",
       "      <th>NumberOfFollowups</th>\n",
       "      <th>ProductPitched</th>\n",
       "      <th>PreferredPropertyStar</th>\n",
       "      <th>MaritalStatus</th>\n",
       "      <th>NumberOfTrips</th>\n",
       "      <th>Passport</th>\n",
       "      <th>PitchSatisfactionScore</th>\n",
       "      <th>OwnCar</th>\n",
       "      <th>NumberOfChildrenVisited</th>\n",
       "      <th>Designation</th>\n",
       "      <th>MonthlyIncome</th>\n",
       "    </tr>\n",
       "  </thead>\n",
       "  <tbody>\n",
       "    <tr>\n",
       "      <th>0</th>\n",
       "      <td>200000</td>\n",
       "      <td>1</td>\n",
       "      <td>41.000</td>\n",
       "      <td>Self Enquiry</td>\n",
       "      <td>3</td>\n",
       "      <td>6.000</td>\n",
       "      <td>Salaried</td>\n",
       "      <td>Female</td>\n",
       "      <td>3</td>\n",
       "      <td>3.000</td>\n",
       "      <td>Super Deluxe</td>\n",
       "      <td>3.000</td>\n",
       "      <td>Single</td>\n",
       "      <td>1.000</td>\n",
       "      <td>1</td>\n",
       "      <td>2</td>\n",
       "      <td>1</td>\n",
       "      <td>0.000</td>\n",
       "      <td>Manager</td>\n",
       "      <td>20,993.000</td>\n",
       "    </tr>\n",
       "    <tr>\n",
       "      <th>1</th>\n",
       "      <td>200001</td>\n",
       "      <td>0</td>\n",
       "      <td>49.000</td>\n",
       "      <td>Company Invited</td>\n",
       "      <td>1</td>\n",
       "      <td>14.000</td>\n",
       "      <td>Salaried</td>\n",
       "      <td>Male</td>\n",
       "      <td>3</td>\n",
       "      <td>4.000</td>\n",
       "      <td>Super Deluxe</td>\n",
       "      <td>4.000</td>\n",
       "      <td>Divorced</td>\n",
       "      <td>2.000</td>\n",
       "      <td>0</td>\n",
       "      <td>3</td>\n",
       "      <td>1</td>\n",
       "      <td>2.000</td>\n",
       "      <td>Manager</td>\n",
       "      <td>20,130.000</td>\n",
       "    </tr>\n",
       "    <tr>\n",
       "      <th>2</th>\n",
       "      <td>200002</td>\n",
       "      <td>1</td>\n",
       "      <td>37.000</td>\n",
       "      <td>Self Enquiry</td>\n",
       "      <td>1</td>\n",
       "      <td>8.000</td>\n",
       "      <td>Free Lancer</td>\n",
       "      <td>Male</td>\n",
       "      <td>3</td>\n",
       "      <td>4.000</td>\n",
       "      <td>Multi</td>\n",
       "      <td>3.000</td>\n",
       "      <td>Single</td>\n",
       "      <td>7.000</td>\n",
       "      <td>1</td>\n",
       "      <td>3</td>\n",
       "      <td>0</td>\n",
       "      <td>0.000</td>\n",
       "      <td>Executive</td>\n",
       "      <td>17,090.000</td>\n",
       "    </tr>\n",
       "    <tr>\n",
       "      <th>3</th>\n",
       "      <td>200003</td>\n",
       "      <td>0</td>\n",
       "      <td>33.000</td>\n",
       "      <td>Company Invited</td>\n",
       "      <td>1</td>\n",
       "      <td>9.000</td>\n",
       "      <td>Salaried</td>\n",
       "      <td>Female</td>\n",
       "      <td>2</td>\n",
       "      <td>3.000</td>\n",
       "      <td>Multi</td>\n",
       "      <td>3.000</td>\n",
       "      <td>Divorced</td>\n",
       "      <td>2.000</td>\n",
       "      <td>1</td>\n",
       "      <td>5</td>\n",
       "      <td>1</td>\n",
       "      <td>1.000</td>\n",
       "      <td>Executive</td>\n",
       "      <td>17,909.000</td>\n",
       "    </tr>\n",
       "    <tr>\n",
       "      <th>4</th>\n",
       "      <td>200004</td>\n",
       "      <td>0</td>\n",
       "      <td>nan</td>\n",
       "      <td>Self Enquiry</td>\n",
       "      <td>1</td>\n",
       "      <td>8.000</td>\n",
       "      <td>Small Business</td>\n",
       "      <td>Male</td>\n",
       "      <td>2</td>\n",
       "      <td>3.000</td>\n",
       "      <td>Multi</td>\n",
       "      <td>4.000</td>\n",
       "      <td>Divorced</td>\n",
       "      <td>1.000</td>\n",
       "      <td>0</td>\n",
       "      <td>5</td>\n",
       "      <td>1</td>\n",
       "      <td>0.000</td>\n",
       "      <td>Executive</td>\n",
       "      <td>18,468.000</td>\n",
       "    </tr>\n",
       "  </tbody>\n",
       "</table>\n",
       "</div>"
      ],
      "text/plain": [
       "   CustomerID  ProdTaken    Age PreferredLoginDevice  CityTier  \\\n",
       "0      200000          1 41.000         Self Enquiry         3   \n",
       "1      200001          0 49.000      Company Invited         1   \n",
       "2      200002          1 37.000         Self Enquiry         1   \n",
       "3      200003          0 33.000      Company Invited         1   \n",
       "4      200004          0    nan         Self Enquiry         1   \n",
       "\n",
       "   DurationOfPitch      Occupation  Gender  NumberOfPersonVisited  \\\n",
       "0            6.000        Salaried  Female                      3   \n",
       "1           14.000        Salaried    Male                      3   \n",
       "2            8.000     Free Lancer    Male                      3   \n",
       "3            9.000        Salaried  Female                      2   \n",
       "4            8.000  Small Business    Male                      2   \n",
       "\n",
       "   NumberOfFollowups ProductPitched  PreferredPropertyStar MaritalStatus  \\\n",
       "0              3.000   Super Deluxe                  3.000        Single   \n",
       "1              4.000   Super Deluxe                  4.000      Divorced   \n",
       "2              4.000          Multi                  3.000        Single   \n",
       "3              3.000          Multi                  3.000      Divorced   \n",
       "4              3.000          Multi                  4.000      Divorced   \n",
       "\n",
       "   NumberOfTrips  Passport  PitchSatisfactionScore  OwnCar  \\\n",
       "0          1.000         1                       2       1   \n",
       "1          2.000         0                       3       1   \n",
       "2          7.000         1                       3       0   \n",
       "3          2.000         1                       5       1   \n",
       "4          1.000         0                       5       1   \n",
       "\n",
       "   NumberOfChildrenVisited Designation  MonthlyIncome  \n",
       "0                    0.000     Manager     20,993.000  \n",
       "1                    2.000     Manager     20,130.000  \n",
       "2                    0.000   Executive     17,090.000  \n",
       "3                    1.000   Executive     17,909.000  \n",
       "4                    0.000   Executive     18,468.000  "
      ]
     },
     "execution_count": 4,
     "metadata": {},
     "output_type": "execute_result"
    }
   ],
   "source": [
    "# as there are two tabs in the excel file by printing the xls.sheet_names, i choose the second tab\n",
    "df = pd.read_excel('Tourism.xlsx','Tourism') \n",
    "df.head() # reading the first five rows of the dataset using the head() function"
   ]
  },
  {
   "cell_type": "code",
   "execution_count": 5,
   "metadata": {},
   "outputs": [
    {
     "name": "stdout",
     "output_type": "stream",
     "text": [
      "The dataset contains 4888 rows and 20 columns\n"
     ]
    }
   ],
   "source": [
    "# checking the shape of the data\n",
    "row, column = df.shape\n",
    "print('The dataset contains', row, 'rows and', column, 'columns')"
   ]
  },
  {
   "cell_type": "code",
   "execution_count": 6,
   "metadata": {},
   "outputs": [
    {
     "name": "stdout",
     "output_type": "stream",
     "text": [
      "The datatype information for each attribute: \n",
      "\n",
      "<class 'pandas.core.frame.DataFrame'>\n",
      "RangeIndex: 4888 entries, 0 to 4887\n",
      "Data columns (total 20 columns):\n",
      " #   Column                   Non-Null Count  Dtype  \n",
      "---  ------                   --------------  -----  \n",
      " 0   CustomerID               4888 non-null   int64  \n",
      " 1   ProdTaken                4888 non-null   int64  \n",
      " 2   Age                      4662 non-null   float64\n",
      " 3   PreferredLoginDevice     4863 non-null   object \n",
      " 4   CityTier                 4888 non-null   int64  \n",
      " 5   DurationOfPitch          4637 non-null   float64\n",
      " 6   Occupation               4888 non-null   object \n",
      " 7   Gender                   4888 non-null   object \n",
      " 8   NumberOfPersonVisited    4888 non-null   int64  \n",
      " 9   NumberOfFollowups        4843 non-null   float64\n",
      " 10  ProductPitched           4888 non-null   object \n",
      " 11  PreferredPropertyStar    4862 non-null   float64\n",
      " 12  MaritalStatus            4888 non-null   object \n",
      " 13  NumberOfTrips            4748 non-null   float64\n",
      " 14  Passport                 4888 non-null   int64  \n",
      " 15  PitchSatisfactionScore   4888 non-null   int64  \n",
      " 16  OwnCar                   4888 non-null   int64  \n",
      " 17  NumberOfChildrenVisited  4822 non-null   float64\n",
      " 18  Designation              4888 non-null   object \n",
      " 19  MonthlyIncome            4655 non-null   float64\n",
      "dtypes: float64(7), int64(7), object(6)\n",
      "memory usage: 763.9+ KB\n"
     ]
    }
   ],
   "source": [
    "# printing the datatype of each colimn in the dataframe\n",
    "print('The datatype information for each attribute: \\n')\n",
    "df.info()"
   ]
  },
  {
   "cell_type": "markdown",
   "metadata": {},
   "source": [
    "Insights :\n",
    "1. Age,Number of trips, NumberOfChildrenVisited represented and other columns represented as float.\n",
    "2. We have to covert the NumberOfChildrenVisited into categorical.'\n",
    "3. Other int and float type values will also be changed to categorical below depending on their use.\n"
   ]
  },
  {
   "cell_type": "code",
   "execution_count": 7,
   "metadata": {},
   "outputs": [
    {
     "data": {
      "text/plain": [
       "CustomerID                   int64\n",
       "ProdTaken                    int64\n",
       "Age                        float64\n",
       "PreferredLoginDevice        object\n",
       "CityTier                     int64\n",
       "DurationOfPitch            float64\n",
       "Occupation                  object\n",
       "Gender                      object\n",
       "NumberOfPersonVisited        int64\n",
       "NumberOfFollowups          float64\n",
       "ProductPitched              object\n",
       "PreferredPropertyStar      float64\n",
       "MaritalStatus               object\n",
       "NumberOfTrips              float64\n",
       "Passport                     int64\n",
       "PitchSatisfactionScore       int64\n",
       "OwnCar                       int64\n",
       "NumberOfChildrenVisited    float64\n",
       "Designation                 object\n",
       "MonthlyIncome              float64\n",
       "dtype: object"
      ]
     },
     "execution_count": 7,
     "metadata": {},
     "output_type": "execute_result"
    }
   ],
   "source": [
    "# checking the data types of each of the columns in the data set\n",
    "df.dtypes"
   ]
  },
  {
   "cell_type": "code",
   "execution_count": 8,
   "metadata": {},
   "outputs": [
    {
     "name": "stdout",
     "output_type": "stream",
     "text": [
      "Index(['Age', 'DurationOfPitch', 'NumberOfFollowups', 'PreferredPropertyStar',\n",
      "       'NumberOfTrips', 'NumberOfChildrenVisited', 'MonthlyIncome'],\n",
      "      dtype='object')\n"
     ]
    }
   ],
   "source": [
    "# categorizing into object and changing them to categorical data\n",
    "# Object types\n",
    "data = df.select_dtypes(['float64'])\n",
    "print(data.columns)"
   ]
  },
  {
   "cell_type": "code",
   "execution_count": 9,
   "metadata": {},
   "outputs": [
    {
     "name": "stdout",
     "output_type": "stream",
     "text": [
      "Age\n",
      "DurationOfPitch\n",
      "NumberOfFollowups\n",
      "PreferredPropertyStar\n",
      "NumberOfTrips\n",
      "NumberOfChildrenVisited\n",
      "MonthlyIncome\n"
     ]
    }
   ],
   "source": [
    "# changing the data objects identified above into categorical\n",
    "for columns in data.columns:\n",
    "    df[columns] = df[columns].astype('float64')\n",
    "    print(columns)"
   ]
  },
  {
   "cell_type": "code",
   "execution_count": 10,
   "metadata": {},
   "outputs": [
    {
     "data": {
      "text/html": [
       "<div>\n",
       "<style scoped>\n",
       "    .dataframe tbody tr th:only-of-type {\n",
       "        vertical-align: middle;\n",
       "    }\n",
       "\n",
       "    .dataframe tbody tr th {\n",
       "        vertical-align: top;\n",
       "    }\n",
       "\n",
       "    .dataframe thead th {\n",
       "        text-align: right;\n",
       "    }\n",
       "</style>\n",
       "<table border=\"1\" class=\"dataframe\">\n",
       "  <thead>\n",
       "    <tr style=\"text-align: right;\">\n",
       "      <th></th>\n",
       "      <th>ProdTaken</th>\n",
       "      <th>NumberOfFollowups</th>\n",
       "      <th>PreferredPropertyStar</th>\n",
       "      <th>NumberOfTrips</th>\n",
       "      <th>NumberOfPersonVisited</th>\n",
       "      <th>CityTier</th>\n",
       "      <th>Passport</th>\n",
       "      <th>NumberOfChildrenVisited</th>\n",
       "      <th>PitchSatisfactionScore</th>\n",
       "      <th>OwnCar</th>\n",
       "    </tr>\n",
       "  </thead>\n",
       "  <tbody>\n",
       "    <tr>\n",
       "      <th>0</th>\n",
       "      <td>1</td>\n",
       "      <td>3.000</td>\n",
       "      <td>3.000</td>\n",
       "      <td>1.000</td>\n",
       "      <td>3</td>\n",
       "      <td>3</td>\n",
       "      <td>1</td>\n",
       "      <td>0.000</td>\n",
       "      <td>2</td>\n",
       "      <td>1</td>\n",
       "    </tr>\n",
       "    <tr>\n",
       "      <th>1</th>\n",
       "      <td>0</td>\n",
       "      <td>4.000</td>\n",
       "      <td>4.000</td>\n",
       "      <td>2.000</td>\n",
       "      <td>3</td>\n",
       "      <td>1</td>\n",
       "      <td>0</td>\n",
       "      <td>2.000</td>\n",
       "      <td>3</td>\n",
       "      <td>1</td>\n",
       "    </tr>\n",
       "    <tr>\n",
       "      <th>2</th>\n",
       "      <td>1</td>\n",
       "      <td>4.000</td>\n",
       "      <td>3.000</td>\n",
       "      <td>7.000</td>\n",
       "      <td>3</td>\n",
       "      <td>1</td>\n",
       "      <td>1</td>\n",
       "      <td>0.000</td>\n",
       "      <td>3</td>\n",
       "      <td>0</td>\n",
       "    </tr>\n",
       "    <tr>\n",
       "      <th>3</th>\n",
       "      <td>0</td>\n",
       "      <td>3.000</td>\n",
       "      <td>3.000</td>\n",
       "      <td>2.000</td>\n",
       "      <td>2</td>\n",
       "      <td>1</td>\n",
       "      <td>1</td>\n",
       "      <td>1.000</td>\n",
       "      <td>5</td>\n",
       "      <td>1</td>\n",
       "    </tr>\n",
       "    <tr>\n",
       "      <th>4</th>\n",
       "      <td>0</td>\n",
       "      <td>3.000</td>\n",
       "      <td>4.000</td>\n",
       "      <td>1.000</td>\n",
       "      <td>2</td>\n",
       "      <td>1</td>\n",
       "      <td>0</td>\n",
       "      <td>0.000</td>\n",
       "      <td>5</td>\n",
       "      <td>1</td>\n",
       "    </tr>\n",
       "  </tbody>\n",
       "</table>\n",
       "</div>"
      ],
      "text/plain": [
       "   ProdTaken  NumberOfFollowups  PreferredPropertyStar  NumberOfTrips  \\\n",
       "0          1              3.000                  3.000          1.000   \n",
       "1          0              4.000                  4.000          2.000   \n",
       "2          1              4.000                  3.000          7.000   \n",
       "3          0              3.000                  3.000          2.000   \n",
       "4          0              3.000                  4.000          1.000   \n",
       "\n",
       "   NumberOfPersonVisited  CityTier  Passport  NumberOfChildrenVisited  \\\n",
       "0                      3         3         1                    0.000   \n",
       "1                      3         1         0                    2.000   \n",
       "2                      3         1         1                    0.000   \n",
       "3                      2         1         1                    1.000   \n",
       "4                      2         1         0                    0.000   \n",
       "\n",
       "   PitchSatisfactionScore  OwnCar  \n",
       "0                       2       1  \n",
       "1                       3       1  \n",
       "2                       3       0  \n",
       "3                       5       1  \n",
       "4                       5       1  "
      ]
     },
     "execution_count": 10,
     "metadata": {},
     "output_type": "execute_result"
    }
   ],
   "source": [
    "# with the same fashion as above, the rest of the columns shall be coverted to cagorical to make it consisten\n",
    "covertingToCategorical = df[['ProdTaken',\n",
    "                      'NumberOfFollowups',\n",
    "                      'PreferredPropertyStar',\n",
    "                      'NumberOfTrips',\n",
    "                      'NumberOfPersonVisited',     \n",
    "                      'CityTier',\n",
    "                      'Passport',\n",
    "                      'NumberOfChildrenVisited',\n",
    "                      'PitchSatisfactionScore',\n",
    "                      'OwnCar',\n",
    "                     ]]\n",
    "covertingToCategorical.head()"
   ]
  },
  {
   "cell_type": "code",
   "execution_count": 11,
   "metadata": {},
   "outputs": [
    {
     "name": "stdout",
     "output_type": "stream",
     "text": [
      "ProdTaken\n",
      "NumberOfFollowups\n",
      "PreferredPropertyStar\n",
      "NumberOfTrips\n",
      "NumberOfPersonVisited\n",
      "CityTier\n",
      "Passport\n",
      "NumberOfChildrenVisited\n",
      "PitchSatisfactionScore\n",
      "OwnCar\n"
     ]
    }
   ],
   "source": [
    "# now change the covertingToCategorical columns into category type\n",
    "for columns in covertingToCategorical.columns:\n",
    "    df[columns] = df[columns].astype('category')\n",
    "    print(columns)"
   ]
  },
  {
   "cell_type": "code",
   "execution_count": 12,
   "metadata": {},
   "outputs": [
    {
     "name": "stdout",
     "output_type": "stream",
     "text": [
      " data types of each of the columns in the data set after conversion\n",
      "<class 'pandas.core.frame.DataFrame'>\n",
      "RangeIndex: 4888 entries, 0 to 4887\n",
      "Data columns (total 20 columns):\n",
      " #   Column                   Non-Null Count  Dtype   \n",
      "---  ------                   --------------  -----   \n",
      " 0   CustomerID               4888 non-null   int64   \n",
      " 1   ProdTaken                4888 non-null   category\n",
      " 2   Age                      4662 non-null   float64 \n",
      " 3   PreferredLoginDevice     4863 non-null   object  \n",
      " 4   CityTier                 4888 non-null   category\n",
      " 5   DurationOfPitch          4637 non-null   float64 \n",
      " 6   Occupation               4888 non-null   object  \n",
      " 7   Gender                   4888 non-null   object  \n",
      " 8   NumberOfPersonVisited    4888 non-null   category\n",
      " 9   NumberOfFollowups        4843 non-null   category\n",
      " 10  ProductPitched           4888 non-null   object  \n",
      " 11  PreferredPropertyStar    4862 non-null   category\n",
      " 12  MaritalStatus            4888 non-null   object  \n",
      " 13  NumberOfTrips            4748 non-null   category\n",
      " 14  Passport                 4888 non-null   category\n",
      " 15  PitchSatisfactionScore   4888 non-null   category\n",
      " 16  OwnCar                   4888 non-null   category\n",
      " 17  NumberOfChildrenVisited  4822 non-null   category\n",
      " 18  Designation              4888 non-null   object  \n",
      " 19  MonthlyIncome            4655 non-null   float64 \n",
      "dtypes: category(10), float64(3), int64(1), object(6)\n",
      "memory usage: 431.4+ KB\n"
     ]
    }
   ],
   "source": [
    "print(' data types of each of the columns in the data set after conversion')\n",
    "df.info()"
   ]
  },
  {
   "cell_type": "markdown",
   "metadata": {},
   "source": [
    "Insights :\n",
    "    \n",
    "    1. All of the necessary columns for analysis are now in float and category types.\n",
    "    2. the CustomerID is still int but not going to be used in the analysis.\n",
    "    3. There are total of 4888 entries and 20 columns ready for analysis."
   ]
  },
  {
   "cell_type": "code",
   "execution_count": 13,
   "metadata": {},
   "outputs": [
    {
     "data": {
      "text/html": [
       "<div>\n",
       "<style scoped>\n",
       "    .dataframe tbody tr th:only-of-type {\n",
       "        vertical-align: middle;\n",
       "    }\n",
       "\n",
       "    .dataframe tbody tr th {\n",
       "        vertical-align: top;\n",
       "    }\n",
       "\n",
       "    .dataframe thead th {\n",
       "        text-align: right;\n",
       "    }\n",
       "</style>\n",
       "<table border=\"1\" class=\"dataframe\">\n",
       "  <thead>\n",
       "    <tr style=\"text-align: right;\">\n",
       "      <th></th>\n",
       "      <th>count</th>\n",
       "      <th>mean</th>\n",
       "      <th>std</th>\n",
       "      <th>min</th>\n",
       "      <th>25%</th>\n",
       "      <th>50%</th>\n",
       "      <th>75%</th>\n",
       "      <th>max</th>\n",
       "    </tr>\n",
       "  </thead>\n",
       "  <tbody>\n",
       "    <tr>\n",
       "      <th>CustomerID</th>\n",
       "      <td>4,888.000</td>\n",
       "      <td>202,443.500</td>\n",
       "      <td>1,411.188</td>\n",
       "      <td>200,000.000</td>\n",
       "      <td>201,221.750</td>\n",
       "      <td>202,443.500</td>\n",
       "      <td>203,665.250</td>\n",
       "      <td>204,887.000</td>\n",
       "    </tr>\n",
       "    <tr>\n",
       "      <th>Age</th>\n",
       "      <td>4,662.000</td>\n",
       "      <td>37.622</td>\n",
       "      <td>9.316</td>\n",
       "      <td>18.000</td>\n",
       "      <td>31.000</td>\n",
       "      <td>36.000</td>\n",
       "      <td>44.000</td>\n",
       "      <td>61.000</td>\n",
       "    </tr>\n",
       "    <tr>\n",
       "      <th>DurationOfPitch</th>\n",
       "      <td>4,637.000</td>\n",
       "      <td>15.491</td>\n",
       "      <td>8.520</td>\n",
       "      <td>5.000</td>\n",
       "      <td>9.000</td>\n",
       "      <td>13.000</td>\n",
       "      <td>20.000</td>\n",
       "      <td>127.000</td>\n",
       "    </tr>\n",
       "    <tr>\n",
       "      <th>MonthlyIncome</th>\n",
       "      <td>4,655.000</td>\n",
       "      <td>23,619.853</td>\n",
       "      <td>5,380.698</td>\n",
       "      <td>1,000.000</td>\n",
       "      <td>20,346.000</td>\n",
       "      <td>22,347.000</td>\n",
       "      <td>25,571.000</td>\n",
       "      <td>98,678.000</td>\n",
       "    </tr>\n",
       "  </tbody>\n",
       "</table>\n",
       "</div>"
      ],
      "text/plain": [
       "                    count        mean       std         min         25%  \\\n",
       "CustomerID      4,888.000 202,443.500 1,411.188 200,000.000 201,221.750   \n",
       "Age             4,662.000      37.622     9.316      18.000      31.000   \n",
       "DurationOfPitch 4,637.000      15.491     8.520       5.000       9.000   \n",
       "MonthlyIncome   4,655.000  23,619.853 5,380.698   1,000.000  20,346.000   \n",
       "\n",
       "                        50%         75%         max  \n",
       "CustomerID      202,443.500 203,665.250 204,887.000  \n",
       "Age                  36.000      44.000      61.000  \n",
       "DurationOfPitch      13.000      20.000     127.000  \n",
       "MonthlyIncome    22,347.000  25,571.000  98,678.000  "
      ]
     },
     "execution_count": 13,
     "metadata": {},
     "output_type": "execute_result"
    }
   ],
   "source": [
    "# Descriptive statistical summary of the data using a describe function.\n",
    "df.describe().T"
   ]
  },
  {
   "cell_type": "markdown",
   "metadata": {},
   "source": [
    "Insights :\n",
    "    1. Minimum age is 18 and maximum age is 61.\n",
    "    2. Mean age value is 38\n",
    "    3. Duration of the pitch by a salesman to customer is min 5 and maximum 127\n",
    "    4. The maximum monthly income earned is 98678."
   ]
  },
  {
   "cell_type": "code",
   "execution_count": 14,
   "metadata": {},
   "outputs": [
    {
     "data": {
      "text/plain": [
       "CustomerID                 4888\n",
       "ProdTaken                     2\n",
       "Age                          44\n",
       "PreferredLoginDevice          2\n",
       "CityTier                      3\n",
       "DurationOfPitch              34\n",
       "Occupation                    4\n",
       "Gender                        3\n",
       "NumberOfPersonVisited         5\n",
       "NumberOfFollowups             6\n",
       "ProductPitched                5\n",
       "PreferredPropertyStar         3\n",
       "MaritalStatus                 4\n",
       "NumberOfTrips                12\n",
       "Passport                      2\n",
       "PitchSatisfactionScore        5\n",
       "OwnCar                        2\n",
       "NumberOfChildrenVisited       4\n",
       "Designation                   5\n",
       "MonthlyIncome              2475\n",
       "dtype: int64"
      ]
     },
     "execution_count": 14,
     "metadata": {},
     "output_type": "execute_result"
    }
   ],
   "source": [
    "df.nunique()"
   ]
  },
  {
   "cell_type": "code",
   "execution_count": 15,
   "metadata": {},
   "outputs": [
    {
     "data": {
      "text/html": [
       "<div>\n",
       "<style scoped>\n",
       "    .dataframe tbody tr th:only-of-type {\n",
       "        vertical-align: middle;\n",
       "    }\n",
       "\n",
       "    .dataframe tbody tr th {\n",
       "        vertical-align: top;\n",
       "    }\n",
       "\n",
       "    .dataframe thead th {\n",
       "        text-align: right;\n",
       "    }\n",
       "</style>\n",
       "<table border=\"1\" class=\"dataframe\">\n",
       "  <thead>\n",
       "    <tr style=\"text-align: right;\">\n",
       "      <th></th>\n",
       "      <th>count</th>\n",
       "      <th>mean</th>\n",
       "      <th>std</th>\n",
       "      <th>min</th>\n",
       "      <th>25%</th>\n",
       "      <th>50%</th>\n",
       "      <th>75%</th>\n",
       "      <th>max</th>\n",
       "    </tr>\n",
       "  </thead>\n",
       "  <tbody>\n",
       "    <tr>\n",
       "      <th>Age</th>\n",
       "      <td>4,662.000</td>\n",
       "      <td>37.622</td>\n",
       "      <td>9.316</td>\n",
       "      <td>18.000</td>\n",
       "      <td>31.000</td>\n",
       "      <td>36.000</td>\n",
       "      <td>44.000</td>\n",
       "      <td>61.000</td>\n",
       "    </tr>\n",
       "    <tr>\n",
       "      <th>DurationOfPitch</th>\n",
       "      <td>4,637.000</td>\n",
       "      <td>15.491</td>\n",
       "      <td>8.520</td>\n",
       "      <td>5.000</td>\n",
       "      <td>9.000</td>\n",
       "      <td>13.000</td>\n",
       "      <td>20.000</td>\n",
       "      <td>127.000</td>\n",
       "    </tr>\n",
       "    <tr>\n",
       "      <th>MonthlyIncome</th>\n",
       "      <td>4,655.000</td>\n",
       "      <td>23,619.853</td>\n",
       "      <td>5,380.698</td>\n",
       "      <td>1,000.000</td>\n",
       "      <td>20,346.000</td>\n",
       "      <td>22,347.000</td>\n",
       "      <td>25,571.000</td>\n",
       "      <td>98,678.000</td>\n",
       "    </tr>\n",
       "  </tbody>\n",
       "</table>\n",
       "</div>"
      ],
      "text/plain": [
       "                    count       mean       std       min        25%  \\\n",
       "Age             4,662.000     37.622     9.316    18.000     31.000   \n",
       "DurationOfPitch 4,637.000     15.491     8.520     5.000      9.000   \n",
       "MonthlyIncome   4,655.000 23,619.853 5,380.698 1,000.000 20,346.000   \n",
       "\n",
       "                       50%        75%        max  \n",
       "Age                 36.000     44.000     61.000  \n",
       "DurationOfPitch     13.000     20.000    127.000  \n",
       "MonthlyIncome   22,347.000 25,571.000 98,678.000  "
      ]
     },
     "execution_count": 15,
     "metadata": {},
     "output_type": "execute_result"
    }
   ],
   "source": [
    "df.describe(include=['float64']).T"
   ]
  },
  {
   "cell_type": "code",
   "execution_count": 16,
   "metadata": {},
   "outputs": [],
   "source": [
    "# the CustomerID can be dropped as it is not adding value to the modeling.\n",
    "df.drop(['CustomerID'],axis=1,inplace=True)"
   ]
  },
  {
   "cell_type": "code",
   "execution_count": 17,
   "metadata": {},
   "outputs": [
    {
     "data": {
      "text/plain": [
       "ProdTaken                     2\n",
       "Age                          44\n",
       "PreferredLoginDevice          2\n",
       "CityTier                      3\n",
       "DurationOfPitch              34\n",
       "Occupation                    4\n",
       "Gender                        3\n",
       "NumberOfPersonVisited         5\n",
       "NumberOfFollowups             6\n",
       "ProductPitched                5\n",
       "PreferredPropertyStar         3\n",
       "MaritalStatus                 4\n",
       "NumberOfTrips                12\n",
       "Passport                      2\n",
       "PitchSatisfactionScore        5\n",
       "OwnCar                        2\n",
       "NumberOfChildrenVisited       4\n",
       "Designation                   5\n",
       "MonthlyIncome              2475\n",
       "dtype: int64"
      ]
     },
     "execution_count": 17,
     "metadata": {},
     "output_type": "execute_result"
    }
   ],
   "source": [
    "df.nunique()"
   ]
  },
  {
   "cell_type": "code",
   "execution_count": 24,
   "metadata": {},
   "outputs": [
    {
     "name": "stdout",
     "output_type": "stream",
     "text": [
      "Salaried          2368\n",
      "Small Business    2084\n",
      "Large Business     434\n",
      "Free Lancer          2\n",
      "Name: Occupation, dtype: int64\n",
      "Male       2916\n",
      "Female     1817\n",
      "Fe Male     155\n",
      "Name: Gender, dtype: int64\n",
      "Multi           1842\n",
      "Super Deluxe    1732\n",
      "Standard         742\n",
      "Deluxe           342\n",
      "King             230\n",
      "Name: ProductPitched, dtype: int64\n",
      "Executive         1842\n",
      "Manager           1732\n",
      "Senior Manager     742\n",
      "AVP                342\n",
      "VP                 230\n",
      "Name: Designation, dtype: int64\n"
     ]
    }
   ],
   "source": [
    "# checking the different datasets in the dataframe\n",
    "print(df.Occupation.value_counts())\n",
    "print(df.Gender.value_counts())\n",
    "print(df.ProductPitched.value_counts())\n",
    "print(df.Designation.value_counts())"
   ]
  },
  {
   "cell_type": "code",
   "execution_count": null,
   "metadata": {},
   "outputs": [],
   "source": [
    "# the fe male and Female categorical data with in Gender shall be combines\n",
    "df['Gender'] = df['Gender'].apply(lambda x: 'Female' if x == 'Fe Male' else x)\n",
    "print(df.Gender.value_counts())"
   ]
  },
  {
   "cell_type": "markdown",
   "metadata": {},
   "source": [
    "##  Illustrate the insights based on EDA\n"
   ]
  },
  {
   "cell_type": "markdown",
   "metadata": {},
   "source": [
    "## Univariate"
   ]
  },
  {
   "cell_type": "code",
   "execution_count": null,
   "metadata": {},
   "outputs": [],
   "source": [
    "# the code is adopted from the last Project\n",
    "def boxhisto_function(feature, figsize=(15,10), bins = None):\n",
    "    \"\"\" Boxplot and histogram \n",
    "    \"\"\"\n",
    "    f2, (ax_box2, ax_hist2) = plt.subplots(nrows = 2, \n",
    "                                           sharex = True,\n",
    "                                           gridspec_kw = {\"height_ratios\": (.25, .75)}, \n",
    "                                           figsize = figsize \n",
    "                                           ) \n",
    "    sns.boxplot(feature, ax=ax_box2, showmeans=True, color='violet') \n",
    "    sns.distplot(feature, kde=F, ax=ax_hist2, bins=bins,palette=\"blue\") if bins else sns.distplot(feature, kde=False, ax=ax_hist2) # histogram\n",
    "    ax_hist2.axvline(np.mean(feature), color='green', linestyle='--') \n",
    "    ax_hist2.axvline(np.median(feature), color='red', linestyle='-') "
   ]
  },
  {
   "cell_type": "code",
   "execution_count": null,
   "metadata": {},
   "outputs": [],
   "source": [
    "boxhisto_function(df['Age'])"
   ]
  },
  {
   "cell_type": "code",
   "execution_count": null,
   "metadata": {},
   "outputs": [],
   "source": [
    "boxhisto_function(df['DurationOfPitch'])"
   ]
  },
  {
   "cell_type": "code",
   "execution_count": null,
   "metadata": {},
   "outputs": [],
   "source": [
    "boxhisto_function(df['MonthlyIncome'])"
   ]
  },
  {
   "cell_type": "markdown",
   "metadata": {},
   "source": [
    "Insights \n",
    "1. Age is normally distrubted\n",
    "2. DurationOfPitch is left skewed.\n",
    "3. MonthlyIncome shows the highest skewed value in 40000"
   ]
  },
  {
   "cell_type": "code",
   "execution_count": null,
   "metadata": {},
   "outputs": [],
   "source": [
    "def perc_on_bar(plot, feature):\n",
    "    '''\n",
    "    plot\n",
    "    feature: categorical feature\n",
    "    the function won't work if a column is passed in hue parameter\n",
    "    '''\n",
    "    total = len(feature) # length of the column\n",
    "    for p in ax.patches:\n",
    "        percentage = '{:.1f}%'.format(100 * p.get_height()/total) # percentage of each class of the category\n",
    "        x = p.get_x() + p.get_width() / 2 - 0.05 # width of the plot\n",
    "        y = p.get_y() + p.get_height()           # hieght of the plot\n",
    "        ax.annotate(percentage, (x, y), size = 12) # annotate the percantage \n",
    "    plt.show() # show the plot"
   ]
  },
  {
   "cell_type": "code",
   "execution_count": null,
   "metadata": {},
   "outputs": [],
   "source": [
    "plt.figure(figsize=(15,5))\n",
    "ax = sns.countplot(df[\"ProdTaken\"],palette='winter')\n",
    "perc_on_bar(ax,df[\"ProdTaken\"])"
   ]
  },
  {
   "cell_type": "code",
   "execution_count": null,
   "metadata": {},
   "outputs": [],
   "source": [
    "plt.figure(figsize=(15,5))\n",
    "ax = sns.countplot(df[\"PreferredPropertyStar\"],palette='winter')\n",
    "perc_on_bar(ax,df[\"PreferredPropertyStar\"])"
   ]
  },
  {
   "cell_type": "code",
   "execution_count": null,
   "metadata": {},
   "outputs": [],
   "source": [
    "plt.figure(figsize=(15,5))\n",
    "ax = sns.countplot(df[\"CityTier\"],palette='winter')\n",
    "perc_on_bar(ax,df[\"CityTier\"])"
   ]
  },
  {
   "cell_type": "code",
   "execution_count": null,
   "metadata": {},
   "outputs": [],
   "source": [
    "plt.figure(figsize=(15,5))\n",
    "ax = sns.countplot(df[\"Occupation\"],palette='winter')\n",
    "perc_on_bar(ax,df[\"Occupation\"])"
   ]
  },
  {
   "cell_type": "code",
   "execution_count": null,
   "metadata": {},
   "outputs": [],
   "source": [
    "plt.figure(figsize=(15,5))\n",
    "ax = sns.countplot(df[\"Gender\"],palette='winter')\n",
    "perc_on_bar(ax,df[\"Gender\"])"
   ]
  },
  {
   "cell_type": "code",
   "execution_count": null,
   "metadata": {},
   "outputs": [],
   "source": [
    "plt.figure(figsize=(15,5))\n",
    "ax = sns.countplot(df[\"NumberOfPersonVisited\"],palette='winter')\n",
    "perc_on_bar(ax,df[\"NumberOfPersonVisited\"])"
   ]
  },
  {
   "cell_type": "code",
   "execution_count": null,
   "metadata": {},
   "outputs": [],
   "source": [
    "plt.figure(figsize=(15,5))\n",
    "ax = sns.countplot(df[\"PreferredPropertyStar\"],palette='winter')\n",
    "perc_on_bar(ax,df[\"PreferredPropertyStar\"])"
   ]
  },
  {
   "cell_type": "code",
   "execution_count": null,
   "metadata": {},
   "outputs": [],
   "source": [
    "plt.figure(figsize=(15,5))\n",
    "ax = sns.countplot(df[\"MaritalStatus\"],palette='winter')\n",
    "perc_on_bar(ax,df[\"MaritalStatus\"])"
   ]
  },
  {
   "cell_type": "code",
   "execution_count": null,
   "metadata": {},
   "outputs": [],
   "source": [
    "plt.figure(figsize=(15,5))\n",
    "ax = sns.countplot(df[\"NumberOfTrips\"],palette='winter')\n",
    "perc_on_bar(ax,df[\"NumberOfTrips\"])"
   ]
  },
  {
   "cell_type": "code",
   "execution_count": null,
   "metadata": {},
   "outputs": [],
   "source": [
    "plt.figure(figsize=(15,5))\n",
    "ax = sns.countplot(df[\"Passport\"],palette='winter')\n",
    "perc_on_bar(ax,df[\"Passport\"])"
   ]
  },
  {
   "cell_type": "code",
   "execution_count": null,
   "metadata": {},
   "outputs": [],
   "source": [
    "plt.figure(figsize=(15,5))\n",
    "ax = sns.countplot(df[\"OwnCar\"],palette='winter')\n",
    "perc_on_bar(ax,df[\"OwnCar\"])"
   ]
  },
  {
   "cell_type": "code",
   "execution_count": null,
   "metadata": {},
   "outputs": [],
   "source": [
    "plt.figure(figsize=(15,5))\n",
    "ax = sns.countplot(df[\"Designation\"],palette='winter')\n",
    "perc_on_bar(ax,df[\"Designation\"])"
   ]
  },
  {
   "cell_type": "code",
   "execution_count": null,
   "metadata": {},
   "outputs": [],
   "source": [
    "plt.figure(figsize=(15,5))\n",
    "ax = sns.countplot(df[\"PitchSatisfactionScore\"],palette='winter')\n",
    "perc_on_bar(ax,df[\"PitchSatisfactionScore\"])"
   ]
  },
  {
   "cell_type": "code",
   "execution_count": null,
   "metadata": {},
   "outputs": [],
   "source": [
    "plt.figure(figsize=(15,5))\n",
    "ax = sns.countplot(df[\"NumberOfFollowups\"],palette='winter')\n",
    "perc_on_bar(ax,df[\"NumberOfFollowups\"])"
   ]
  },
  {
   "cell_type": "markdown",
   "metadata": {},
   "source": [
    "Insights: \n",
    "   1. Product taken flag data shows almost 19 % of the customers have used holiday package\n",
    "   2. referred login device of the customer in last month is through self enqry for more than 70 %\n",
    "   3. City tier shows there are 65% customers that has top rank.\n",
    "   4. Occupation of customer shows 42 % of the customers are small busienss, 49% of them are salaried followed by Large business\n",
    "        There is no value of Free Lancer occupation.\n",
    "   5.  Most of the customers are male dominating 60 % of the population.\n",
    "   6. Martial status of the customers data shows most are married with 48 % followed by Divorced, single and Unmarried.\n",
    "   7. More than 62 % of the customers owns a car.\n",
    "    "
   ]
  },
  {
   "cell_type": "markdown",
   "metadata": {},
   "source": [
    "## Bivariate"
   ]
  },
  {
   "cell_type": "code",
   "execution_count": null,
   "metadata": {},
   "outputs": [],
   "source": [
    "# finding the pearson corrolation and calculating the heathmap of the corrolated data\n",
    "corr = df.corr(method='pearson')\n",
    "corr.head()"
   ]
  },
  {
   "cell_type": "markdown",
   "metadata": {},
   "source": [
    "Age is 46 % corrolated."
   ]
  },
  {
   "cell_type": "code",
   "execution_count": null,
   "metadata": {},
   "outputs": [],
   "source": [
    "plt.figure(figsize=(10,5))\n",
    "sns.heatmap(df.corr(),annot=True,vmin=-1,vmax=1,fmt='.2f')\n",
    "plt.show()"
   ]
  },
  {
   "cell_type": "markdown",
   "metadata": {},
   "source": [
    "Both the heatmap and the pearson corrolation are generating the same result."
   ]
  },
  {
   "cell_type": "code",
   "execution_count": null,
   "metadata": {},
   "outputs": [],
   "source": [
    "# the pairplot of the data that hue on the ProdTaken\n",
    "cols = df[['Age','MonthlyIncome','DurationOfPitch']].columns.tolist()\n",
    "plt.figure(figsize=(10,10))\n",
    "\n",
    "for i, variable in enumerate(cols):\n",
    "                     plt.subplot(3,2,i+1)\n",
    "                     sns.boxplot(df[\"ProdTaken\"],df[variable],palette=\"PuBu\")\n",
    "                     plt.tight_layout()\n",
    "                     plt.title(variable)\n",
    "plt.show()"
   ]
  },
  {
   "cell_type": "markdown",
   "metadata": {},
   "source": [
    "Insights : \n",
    "    1. No difference in customers with prodtaken category between those who took the package and not. "
   ]
  },
  {
   "cell_type": "code",
   "execution_count": 19,
   "metadata": {},
   "outputs": [],
   "source": [
    "### Function to plot stacked bar charts for categorical columns\n",
    "def stacked_plot(x):\n",
    "    sns.set(palette='nipy_spectral')\n",
    "    tab1 = pd.crosstab(x,df['ProdTaken'],margins=True)\n",
    "    print(tab1)\n",
    "    print('-'*120)\n",
    "    tab = pd.crosstab(x,df['ProdTaken'],normalize='index')\n",
    "    tab.plot(kind='bar',stacked=True,figsize=(10,5))\n",
    "    plt.legend(loc='lower left', frameon=False)\n",
    "    plt.legend(loc=\"upper left\", bbox_to_anchor=(1,1))\n",
    "    plt.show()"
   ]
  },
  {
   "cell_type": "code",
   "execution_count": 20,
   "metadata": {},
   "outputs": [
    {
     "name": "stdout",
     "output_type": "stream",
     "text": [
      "ProdTaken                 0    1   All\n",
      "PreferredPropertyStar                 \n",
      "3.0                    2511  482  2993\n",
      "4.0                     731  182   913\n",
      "5.0                     706  250   956\n",
      "All                    3948  914  4862\n",
      "------------------------------------------------------------------------------------------------------------------------\n"
     ]
    },
    {
     "data": {
      "image/png": "[encoded data removed]",
      "text/plain": [
       "<Figure size 720x360 with 1 Axes>"
      ]
     },
     "metadata": {},
     "output_type": "display_data"
    }
   ],
   "source": [
    "stacked_plot(df['PreferredPropertyStar'])"
   ]
  },
  {
   "cell_type": "code",
   "execution_count": 21,
   "metadata": {},
   "outputs": [
    {
     "name": "stdout",
     "output_type": "stream",
     "text": [
      "ProdTaken     0    1   All\n",
      "CityTier                  \n",
      "1          2670  520  3190\n",
      "2           152   46   198\n",
      "3          1146  354  1500\n",
      "All        3968  920  4888\n",
      "------------------------------------------------------------------------------------------------------------------------\n"
     ]
    },
    {
     "data": {
      "image/png": "[encoded data removed]",
      "text/plain": [
       "<Figure size 720x360 with 1 Axes>"
      ]
     },
     "metadata": {},
     "output_type": "display_data"
    }
   ],
   "source": [
    "stacked_plot(df['CityTier'])"
   ]
  },
  {
   "cell_type": "code",
   "execution_count": null,
   "metadata": {},
   "outputs": [],
   "source": [
    "stacked_plot(df['Occupation'])"
   ]
  },
  {
   "cell_type": "code",
   "execution_count": null,
   "metadata": {},
   "outputs": [],
   "source": [
    "stacked_plot(df['Gender'])"
   ]
  },
  {
   "cell_type": "code",
   "execution_count": null,
   "metadata": {},
   "outputs": [],
   "source": [
    "stacked_plot(df['NumberOfPersonVisited'])"
   ]
  },
  {
   "cell_type": "code",
   "execution_count": null,
   "metadata": {},
   "outputs": [],
   "source": [
    "stacked_plot(df['NumberOfTrips'])"
   ]
  },
  {
   "cell_type": "code",
   "execution_count": null,
   "metadata": {},
   "outputs": [],
   "source": [
    "stacked_plot(df['Passport'])"
   ]
  },
  {
   "cell_type": "code",
   "execution_count": null,
   "metadata": {},
   "outputs": [],
   "source": [
    "stacked_plot(df['OwnCar'])"
   ]
  },
  {
   "cell_type": "code",
   "execution_count": null,
   "metadata": {},
   "outputs": [],
   "source": [
    "stacked_plot(df['NumberOfChildrenVisited'])"
   ]
  },
  {
   "cell_type": "code",
   "execution_count": null,
   "metadata": {},
   "outputs": [],
   "source": [
    "stacked_plot(df['Designation'])"
   ]
  },
  {
   "cell_type": "code",
   "execution_count": null,
   "metadata": {},
   "outputs": [],
   "source": [
    "stacked_plot(df['Designation'])"
   ]
  },
  {
   "cell_type": "code",
   "execution_count": null,
   "metadata": {},
   "outputs": [],
   "source": [
    "stacked_plot(df['ProductPitched'])"
   ]
  },
  {
   "cell_type": "code",
   "execution_count": null,
   "metadata": {},
   "outputs": [],
   "source": [
    "stacked_plot(df['NumberOfFollowups'])"
   ]
  },
  {
   "cell_type": "markdown",
   "metadata": {},
   "source": [
    "## 3. Data Pre-processing"
   ]
  },
  {
   "cell_type": "code",
   "execution_count": null,
   "metadata": {},
   "outputs": [],
   "source": [
    "1. # Missing value treatment\n",
    "print('Missing values Before imputation:\\n', df.isnull().sum()) "
   ]
  },
  {
   "cell_type": "markdown",
   "metadata": {},
   "source": [
    "Imputing the missing values with Mean, mode and median values depending on the datatype."
   ]
  },
  {
   "cell_type": "code",
   "execution_count": null,
   "metadata": {},
   "outputs": [],
   "source": [
    "df.groupby([\"Designation\", \"Gender\"], as_index=False)[\"Age\"].median()\n",
    "df[\"Age\"] = df.groupby([\"Designation\", \"Gender\"])[\"Age\"].transform(\n",
    "    lambda x: x.fillna(x.median())\n",
    ")\n",
    "df['TypeofContact'].fillna(df['TypeofContact'].mode()[0], inplace = True)\n",
    "df[df[\"Age\"].isnull()]\n",
    "df['PreferredPropertyStar'].fillna(df['PreferredPropertyStar'].mode()[0],inplace=True)\n",
    "df['DurationOfPitch'].median()\n",
    "df['DurationOfPitch'].fillna(13, inplace=True)\n",
    "df['NumberOfFollowups'].fillna(df['NumberOfFollowups'].mode()[0],inplace=True)\n",
    "df['NumberOfTrips']=df['NumberOfTrips'].fillna(2)\n",
    "df['NumberOfChildrenVisited'].fillna(df['NumberOfChildrenVisited'].mode()[0],inplace=True)\n",
    "df.groupby([\"Occupation\"], as_index=False)[\"MonthlyIncome\"].median()\n",
    "df[\"MonthlyIncome\"] = df.groupby([\"Occupation\"])[\"MonthlyIncome\"].transform(\n",
    "    lambda x: x.fillna(x.median())\n",
    ")"
   ]
  },
  {
   "cell_type": "code",
   "execution_count": null,
   "metadata": {},
   "outputs": [],
   "source": [
    "print('Missing values After imputation:\\n', df.isnull().sum()) "
   ]
  },
  {
   "cell_type": "markdown",
   "metadata": {},
   "source": [
    "Outlier Detection"
   ]
  },
  {
   "cell_type": "code",
   "execution_count": null,
   "metadata": {},
   "outputs": [],
   "source": [
    "plt.figure(figsize = (15, 5))\n",
    "\n",
    "plt.subplot(1, 4, 1)\n",
    "df.Age.plot(x = 'Age', kind = 'box')\n",
    "plt.title('Boxplot of Age Column')\n",
    "\n",
    "plt.subplot(1, 4, 2)\n",
    "df.DurationOfPitch.plot(x = 'DurationOfPitch', kind = 'box')\n",
    "plt.title('Boxplot of DurationOfPitch Column')\n",
    "\n",
    "plt.subplot(1, 4, 3)\n",
    "df.MonthlyIncome.plot(x = 'MonthlyIncome', kind = 'box')\n",
    "plt.title('Boxplot of MonthlyIncome Column')\n"
   ]
  },
  {
   "cell_type": "markdown",
   "metadata": {},
   "source": [
    "Insights:\n",
    "  1. Age is evenly distributed. Hard to tell about the outlier, it almost got zero.\n",
    "  2. The outliers for the monthly income are hard to predict. We may need further analysis.\n",
    "    "
   ]
  },
  {
   "cell_type": "markdown",
   "metadata": {},
   "source": [
    "## 4. Model building - Bagging\n"
   ]
  },
  {
   "cell_type": "markdown",
   "metadata": {},
   "source": [
    "#### spliting the data set into training and test"
   ]
  },
  {
   "cell_type": "code",
   "execution_count": null,
   "metadata": {},
   "outputs": [],
   "source": [
    "# Separating features and the target column, MonthlyIncome is excluded due to it's irrelavance for prediction with high unique values.\n",
    "X = df.drop(['ProdTaken',\n",
    "             'PitchSatisfactionScore',\n",
    "             'ProductPitched',\n",
    "             'NumberOfFollowups',\n",
    "             'DurationOfPitch'],axis=1)\n",
    "X = pd.get_dummies(X,drop_first=True)\n",
    "y = df['ProdTaken']"
   ]
  },
  {
   "cell_type": "code",
   "execution_count": null,
   "metadata": {},
   "outputs": [],
   "source": [
    "# spliting into a 30 and 70 ratio\n",
    "X_train, X_test, y_train, y_test = train_test_split(X, y, test_size=0.30, random_state=1,stratify=y)"
   ]
  },
  {
   "cell_type": "code",
   "execution_count": null,
   "metadata": {},
   "outputs": [],
   "source": [
    "rtr, ctr = X_train.shape\n",
    "print('The training set comprises of -', rtr, 'rows and', ctr, '- columns.')"
   ]
  },
  {
   "cell_type": "code",
   "execution_count": null,
   "metadata": {},
   "outputs": [],
   "source": [
    "rt, ct = X_test.shape\n",
    "print('The test set comprises of -', rt, 'rows and', ct, '- columns.')"
   ]
  },
  {
   "cell_type": "markdown",
   "metadata": {},
   "source": [
    "#  Model Tunning and Grid search "
   ]
  },
  {
   "cell_type": "markdown",
   "metadata": {},
   "source": [
    "# Build bagging classifier, random forest and decision tree"
   ]
  },
  {
   "cell_type": "code",
   "execution_count": null,
   "metadata": {},
   "outputs": [],
   "source": [
    "#1. Calculate precision score\n",
    "def get_precision_score(model,flag=True):\n",
    "    '''\n",
    "    model : classifier to predict values of X\n",
    "\n",
    "    '''\n",
    "    precision_score = [] \n",
    "    pred_train = model.predict(X_train)\n",
    "    pred_test = model.predict(X_test)\n",
    "    train_precision = metrics.precision_score(y_train,pred_train)\n",
    "    test_precision = metrics.precision_score(y_test,pred_test)\n",
    "    precision_score.append(train_precision) \n",
    "    precision_score.append(test_precision) \n",
    "    if flag == True: \n",
    "        print(\"Precision on training set : \",metrics.precision_score(y_train,pred_train))\n",
    "        print(\"Precision on test set : \",metrics.precision_score(y_test,pred_test))\n",
    "\n",
    "    return precision_score #  list of training and testing scores"
   ]
  },
  {
   "cell_type": "code",
   "execution_count": null,
   "metadata": {},
   "outputs": [],
   "source": [
    "#  2. calculate recall score\n",
    "def get_recall_score(model,flag=True):\n",
    "    '''\n",
    "    model : classifier to predict values of X\n",
    "\n",
    "    '''\n",
    "    recall_score = [] \n",
    "    pred_train = model.predict(X_train)\n",
    "    pred_test = model.predict(X_test)\n",
    "    train_recall = metrics.recall_score(y_train,pred_train)\n",
    "    test_recall = metrics.recall_score(y_test,pred_test)\n",
    "    recall_score.append(train_recall) \n",
    "    recall_score.append(test_recall) \n",
    "    if flag == True: \n",
    "        print(\"Recall on training set : \",metrics.recall_score(y_train,pred_train))\n",
    "        print(\"Recall on test set : \",metrics.recall_score(y_test,pred_test))\n",
    "    \n",
    "    return recall_score #  list with train and test scores"
   ]
  },
  {
   "source": [
    "#3. Calculate accuracy score\n",
    "def get_accuracy_score(model,flag=True):\n",
    "    '''\n",
    "    model : classifier to predict values of X\n",
    "\n",
    "    '''\n",
    "    accuracy_score = [] \n",
    "    train_acc = model.score(X_train,y_train)\n",
    "    test_acc = model.score(X_test,y_test)\n",
    "    accuracy_score.append(train_acc) \n",
    "    accuracy_score.append(test_acc)\n",
    "    if flag == True: \n",
    "        print(\"Accuracy on training set : \",model.score(X_train,y_train))\n",
    "        print(\"Accuracy on test set : \",model.score(X_test,y_test))\n",
    "    \n",
    "    return accuracy_score # returning the list with train and test scores"
   ],
   "cell_type": "code",
   "metadata": {},
   "execution_count": null,
   "outputs": []
  },
  {
   "source": [
    "def make_confusion_matrix(model,y_actual,labels=[1, 0]):\n",
    "    '''\n",
    "    model : classifier to predict values of X\n",
    "    y_actual : ground truth  \n",
    "    \n",
    "    '''\n",
    "    y_predict = model.predict(X_test)\n",
    "    cm=metrics.confusion_matrix( y_actual, y_predict, labels=[0, 1])\n",
    "    df_cm = pd.DataFrame(cm, index = [i for i in [\"Actual - No\",\"Actual - Yes\"]],\n",
    "                  columns = [i for i in ['Predicted - No','Predicted - Yes']])\n",
    "    group_counts = [\"{0:0.0f}\".format(value) for value in\n",
    "                cm.flatten()]\n",
    "    group_percentages = [\"{0:.2%}\".format(value) for value in\n",
    "                         cm.flatten()/np.sum(cm)]\n",
    "    labels = [f\"{v1}\\n{v2}\" for v1, v2 in\n",
    "              zip(group_counts,group_percentages)]\n",
    "    labels = np.asarray(labels).reshape(2,2)\n",
    "    plt.figure(figsize = (10,7))\n",
    "    sns.heatmap(df_cm, annot=labels,fmt='')\n",
    "    plt.ylabel('True label')\n",
    "    plt.xlabel('Predicted label')"
   ],
   "cell_type": "code",
   "metadata": {},
   "execution_count": null,
   "outputs": []
  },
  {
   "cell_type": "code",
   "execution_count": null,
   "metadata": {},
   "outputs": [],
   "source": [
    "decisionTree = DecisionTreeClassifier(criterion='gini',class_weight={0:0.19,1:0.81},random_state=1)"
   ]
  },
  {
   "cell_type": "code",
   "execution_count": null,
   "metadata": {},
   "outputs": [],
   "source": [
    "decisionTree.fit(X_train, y_train)"
   ]
  },
  {
   "cell_type": "code",
   "execution_count": null,
   "metadata": {},
   "outputs": [],
   "source": [
    "make_confusion_matrix(decisionTree,y_test)"
   ]
  },
  {
   "cell_type": "code",
   "execution_count": null,
   "metadata": {},
   "outputs": [],
   "source": [
    "dtree_acc = get_accuracy_score(decisionTree)\n",
    "dtree_precision = get_precision_score(decisionTree)\n",
    "dtree_recall = get_recall_score(decisionTree)"
   ]
  },
  {
   "cell_type": "markdown",
   "metadata": {},
   "source": [
    "Insights : \n",
    "    1. Data shows it is an overfiting and precission is 86% which is not high."
   ]
  },
  {
   "cell_type": "markdown",
   "metadata": {},
   "source": [
    "#### Bagging classification "
   ]
  },
  {
   "cell_type": "code",
   "execution_count": null,
   "metadata": {},
   "outputs": [],
   "source": [
    "# Step 1. Grid Search for bagging \n",
    "baggingClassifier = BaggingClassifier(random_state=1)\n",
    "baggingClassifier.fit(X_train,y_train)"
   ]
  },
  {
   "cell_type": "code",
   "execution_count": null,
   "metadata": {},
   "outputs": [],
   "source": [
    "baggingClassifier = BaggingClassifier(random_state=1)\n",
    "baggingClassifier.fit(X_train,y_train)"
   ]
  },
  {
   "cell_type": "code",
   "execution_count": null,
   "metadata": {},
   "outputs": [],
   "source": [
    "make_confusion_matrix(baggingClassifier,y_test)"
   ]
  },
  {
   "cell_type": "code",
   "execution_count": null,
   "metadata": {},
   "outputs": [],
   "source": [
    "bagging_acc = get_accuracy_score(baggingClassifier)\n",
    "bagging_precision = get_precision_score(baggingClassifier)\n",
    "bagging_recall = get_recall_score(baggingClassifier)\n"
   ]
  },
  {
   "cell_type": "markdown",
   "metadata": {},
   "source": [
    "Insights :\n",
    "    1. Precission increassed to 89 %.\n",
    "    2. Recall has increased by 1 %"
   ]
  },
  {
   "cell_type": "markdown",
   "metadata": {},
   "source": [
    "#### Random Forest Classifier "
   ]
  },
  {
   "cell_type": "code",
   "execution_count": null,
   "metadata": {},
   "outputs": [],
   "source": [
    "randomForestClassifier = RandomForestClassifier(random_state=1)\n",
    "randomForestClassifier.fit(X_train,y_train)"
   ]
  },
  {
   "cell_type": "code",
   "execution_count": null,
   "metadata": {},
   "outputs": [],
   "source": [
    "make_confusion_matrix(randomForestClassifier,y_test)"
   ]
  },
  {
   "cell_type": "code",
   "execution_count": null,
   "metadata": {},
   "outputs": [],
   "source": [
    "randomForestClassifier_acc = get_accuracy_score(randomForestClassifier)\n",
    "randomForestClassifier_precision = get_precision_score(randomForestClassifier)\n",
    "randomForestClassifier_recall = get_recall_score(randomForestClassifier)"
   ]
  },
  {
   "cell_type": "markdown",
   "metadata": {},
   "source": [
    "Insights : Precission increased by 1 % than bagging.\n",
    "           Recall reduced by 9 % "
   ]
  },
  {
   "cell_type": "markdown",
   "metadata": {},
   "source": [
    "## Model performance evaluation and improvement\n"
   ]
  },
  {
   "cell_type": "markdown",
   "metadata": {},
   "source": [
    "####  1. Decission Tree Tunning and Hyperparametrization"
   ]
  },
  {
   "cell_type": "code",
   "execution_count": null,
   "metadata": {},
   "outputs": [],
   "source": [
    "# Find the Decsion Tree classifier. \n",
    "decisionTree_estimator = DecisionTreeClassifier(class_weight={0:0.19,1:0.81},random_state=1)\n",
    "\n",
    "# parameters \n",
    "parameters = {'max_depth': np.arange(2,30), \n",
    "              'min_samples_leaf': [1, 2, 5, 10, 15],\n",
    "              'max_leaf_nodes' : [2, 3, 5, 10,15],\n",
    "              'min_impurity_decrease': [0.0001,0.001,0.01,0.1]\n",
    "             }\n",
    "\n",
    "\n",
    "scorer = metrics.make_scorer(metrics.precision_score)\n",
    "\n",
    "#grid search\n",
    "grid_obj = GridSearchCV(decisionTree_estimator, parameters, scoring=scorer)\n",
    "grid_obj = grid_obj.fit(X_train, y_train)\n",
    "\n",
    "# Set the  parameters\n",
    "decisionTree_estimator = grid_obj.best_estimator_\n",
    "\n",
    "# Fit the best algorithm to the data. \n",
    "decisionTree_estimator.fit(X_train, y_train)"
   ]
  },
  {
   "cell_type": "code",
   "execution_count": null,
   "metadata": {},
   "outputs": [],
   "source": [
    "make_confusion_matrix(decisionTree_estimator,y_test)"
   ]
  },
  {
   "cell_type": "code",
   "execution_count": null,
   "metadata": {},
   "outputs": [],
   "source": [
    "tuned_dtree_acc = gtuned_dtree_recall = get_recall_score(decisionTree_estimator)\n",
    "get_accuracy_score(decisionTree_estimator)\n",
    "tuned_dtree_acc"
   ]
  },
  {
   "cell_type": "markdown",
   "metadata": {},
   "source": [
    "Insights :\n",
    "    Precission is lower than the above methods but recall has increased to 80 %."
   ]
  },
  {
   "cell_type": "markdown",
   "metadata": {},
   "source": [
    "####  2. Decission Triee- Bagging Classification and tunning "
   ]
  },
  {
   "cell_type": "code",
   "execution_count": null,
   "metadata": {},
   "outputs": [],
   "source": [
    "# grid search for bagging classifier\n",
    "baggingClassifer = DecisionTreeClassifier(class_weight={0:0.19,1:0.81},random_state=1)\n",
    "param_grid = {'base_estimator':[baggingClassifer],\n",
    "              'n_estimators':[5,7,15,51,101],\n",
    "              'max_features': [0.7,0.8,0.9,1]\n",
    "             }\n",
    "\n",
    "grid = GridSearchCV(BaggingClassifier(random_state=1,bootstrap=True), param_grid=param_grid, scoring = 'precision', cv = 5)\n",
    "grid.fit(X_train, y_train)"
   ]
  },
  {
   "cell_type": "code",
   "execution_count": null,
   "metadata": {},
   "outputs": [],
   "source": [
    "## getting the best estimator\n",
    "bagging_estimator  = grid.best_estimator_\n",
    "bagging_estimator.fit(X_train,y_train)"
   ]
  },
  {
   "cell_type": "code",
   "execution_count": null,
   "metadata": {},
   "outputs": [],
   "source": [
    "make_confusion_matrix(bagging_estimator,y_test)"
   ]
  },
  {
   "cell_type": "code",
   "execution_count": null,
   "metadata": {},
   "outputs": [],
   "source": [
    "tuned_bagging_acc= get_accuracy_score(bagging_estimator)\n",
    "tuned_bagging_precision = get_precision_score(bagging_estimator)\n",
    "tuned_bagging_recall = get_recall_score(bagging_estimator)"
   ]
  },
  {
   "cell_type": "markdown",
   "metadata": {},
   "source": [
    "Insights :\n",
    "    \n",
    "    Precission has increased very well to 90 % and accuracy also improved."
   ]
  },
  {
   "cell_type": "markdown",
   "metadata": {},
   "source": [
    "####  3. Random Forest Tunning "
   ]
  },
  {
   "cell_type": "code",
   "execution_count": null,
   "metadata": {},
   "outputs": [],
   "source": [
    "# Choose the type of classifier. \n",
    "randomForest_estimator = RandomForestClassifier(random_state=1)\n",
    "\n",
    "# parameters \n",
    "parameters = {  \n",
    "        \"n_estimators\": [110,251,501],\n",
    "        \"min_samples_leaf\": np.arange(1, 6,1),\n",
    "        \"max_features\": [0.7,0.9,'log2','auto'],\n",
    "        \"max_samples\": [0.7,0.9,None],\n",
    "}\n",
    "\n",
    "\n",
    "# grid search\n",
    "grid_obj = GridSearchCV(randomForest_estimator, parameters, scoring='precision',cv=5)\n",
    "grid_obj = grid_obj.fit(X_train, y_train)\n",
    "\n",
    "# Set the  parameters\n",
    "randomForest_estimator = grid_obj.best_estimator_\n",
    "\n",
    "# Fit the best algorithm to the data. \n",
    "randomForest_estimator.fit(X_train, y_train)"
   ]
  },
  {
   "cell_type": "code",
   "execution_count": null,
   "metadata": {},
   "outputs": [],
   "source": [
    "make_confusion_matrix(randomForest_estimator,y_test)"
   ]
  },
  {
   "cell_type": "code",
   "execution_count": null,
   "metadata": {},
   "outputs": [],
   "source": [
    "tuned_rf_acc = get_accuracy_score(randomForest_estimator)\n",
    "tuned_rf_precision = get_precision_score(randomForest_estimator)\n",
    "tuned_rf_recall = get_recall_score(randomForest_estimator)"
   ]
  },
  {
   "cell_type": "markdown",
   "metadata": {},
   "source": [
    "Insights : \n",
    "    Random forest is also showing overfitting to almost 99 % on the training."
   ]
  },
  {
   "cell_type": "markdown",
   "metadata": {},
   "source": [
    "#### Model Comparison between results of Decission Tree, Bagging Classifier and Random Forest "
   ]
  },
  {
   "cell_type": "code",
   "execution_count": null,
   "metadata": {},
   "outputs": [],
   "source": [
    "# defining list of models\n",
    "models = [decisionTree, baggingClassifier, randomForestClassifier, decisionTree_estimator, bagging_estimator, randomForest_estimator]\n",
    "# declare empty lists to add train and test results\n",
    "acc_train = []\n",
    "acc_test = []\n",
    "recall_train = []\n",
    "recall_test = []\n",
    "precision_train = []\n",
    "precision_test = []\n",
    "\n",
    "# looping through all the models \n",
    "for model in models:    \n",
    "    j = get_accuracy_score(model,False)\n",
    "    acc_train.append(j[0])\n",
    "    acc_test.append(j[1])\n",
    "   \n",
    "    k = get_recall_score(model,False)\n",
    "    recall_train.append(k[0])\n",
    "    recall_test.append(k[1])\n",
    " \n",
    "    l = get_precision_score(model,False)\n",
    "    precision_train.append(l[0])\n",
    "    precision_test.append(l[1])"
   ]
  },
  {
   "cell_type": "code",
   "execution_count": null,
   "metadata": {},
   "outputs": [],
   "source": [
    "comparison_frame = pd.DataFrame({'Model':['Decision Tree',\n",
    "                                          'Bagging Classifier',\n",
    "                                          'Random Forest',\n",
    "                                          'Tuned Decision Tree',\n",
    "                                          'Tuned Bagging Classifier',\n",
    "                                          'Tuned Random Forest'], \n",
    "                                          'Train_Accuracy': acc_train,\n",
    "                                          'Test_Accuracy': acc_test,\n",
    "                                          'Train_Precision': precision_train,\n",
    "                                          'Test_Precision': precision_test,\n",
    "                                          'Train_Recall': recall_train,\n",
    "                                          'Test_Recall': recall_test\n",
    "                                          }) \n",
    "\n",
    "comparison_frame"
   ]
  },
  {
   "cell_type": "markdown",
   "metadata": {},
   "source": [
    "Insights :\n",
    "    from all of the methods, i choose bagging classifer as it has the hiest precession and good accuracy."
   ]
  },
  {
   "cell_type": "markdown",
   "metadata": {},
   "source": [
    "## AdaBoost Classifer, Gradient Boosting Classifier and XGBoost Classifer "
   ]
  },
  {
   "cell_type": "markdown",
   "metadata": {},
   "source": [
    "#### 1. AdaBoost Classifer"
   ]
  },
  {
   "cell_type": "code",
   "execution_count": null,
   "metadata": {},
   "outputs": [],
   "source": [
    "adaBoostClassifier = AdaBoostClassifier(random_state=1)\n",
    "adaBoostClassifier.fit(X_train,y_train)"
   ]
  },
  {
   "cell_type": "code",
   "execution_count": null,
   "metadata": {},
   "outputs": [],
   "source": [
    "make_confusion_matrix(adaBoostClassifier,y_test)"
   ]
  },
  {
   "cell_type": "code",
   "execution_count": null,
   "metadata": {},
   "outputs": [],
   "source": [
    "#Using above defined function to get accuracy,Recall and Precision on train and test set\n",
    "abc_acc = get_accuracy_score(adaBoostClassifier)\n",
    "abc_precision = get_precision_score(adaBoostClassifier)\n",
    "abc_recall = get_recall_score(adaBoostClassifier)"
   ]
  },
  {
   "cell_type": "markdown",
   "metadata": {},
   "source": [
    "#### 2. Gradient Boosting Classifer"
   ]
  },
  {
   "cell_type": "code",
   "execution_count": null,
   "metadata": {},
   "outputs": [],
   "source": [
    "gradientBoostingClassifier = GradientBoostingClassifier(random_state=1)\n",
    "gradientBoostingClassifier.fit(X_train,y_train)"
   ]
  },
  {
   "cell_type": "code",
   "execution_count": null,
   "metadata": {},
   "outputs": [],
   "source": [
    "make_confusion_matrix(gradientBoostingClassifier,y_test)"
   ]
  },
  {
   "cell_type": "code",
   "execution_count": null,
   "metadata": {},
   "outputs": [],
   "source": [
    "#Using above defined function to get accuracy,precision and recall on train and test set\n",
    "gbm_acc = get_accuracy_score(gradientBoostingClassifier)\n",
    "gbm_precision = get_precision_score(gradientBoostingClassifier)\n",
    "gbm_recall = get_recall_score(gradientBoostingClassifier)"
   ]
  },
  {
   "cell_type": "markdown",
   "metadata": {},
   "source": [
    "#### 3. XGBoost Classifer"
   ]
  },
  {
   "cell_type": "code",
   "execution_count": null,
   "metadata": {},
   "outputs": [],
   "source": [
    "xGBClassifier = XGBClassifier(random_state=1,eval_metric='logloss')\n",
    "xGBClassifier.fit(X_train,y_train)"
   ]
  },
  {
   "cell_type": "code",
   "execution_count": null,
   "metadata": {},
   "outputs": [],
   "source": [
    "make_confusion_matrix(xGBClassifier,y_test)"
   ]
  },
  {
   "cell_type": "code",
   "execution_count": null,
   "metadata": {},
   "outputs": [],
   "source": [
    "#Using above defined function to get accuracy,precision and recall on train and test set\n",
    "xgb_acc = get_accuracy_score(xGBClassifier)\n",
    "xgb_precision = get_precision_score(xGBClassifier)\n",
    "xgb_recall = get_recall_score(xGBClassifier)"
   ]
  },
  {
   "cell_type": "markdown",
   "metadata": {},
   "source": [
    "## Model performance evaluation and improvement\n",
    "\n",
    "#### Hyperparameter Tuning¶- Futuer Performance tunning "
   ]
  },
  {
   "cell_type": "markdown",
   "metadata": {},
   "source": [
    "AdaBoost Classifier"
   ]
  },
  {
   "cell_type": "code",
   "execution_count": null,
   "metadata": {},
   "outputs": [],
   "source": [
    "# Choose the type of classifier. \n",
    "adaBoostClassifier_tuned = AdaBoostClassifier(random_state=1)\n",
    "\n",
    "# parameters \n",
    "\n",
    "parameters = {\n",
    "    \n",
    "    \"base_estimator\":[DecisionTreeClassifier(max_depth=1),\n",
    "                      DecisionTreeClassifier(max_depth=2),\n",
    "                      DecisionTreeClassifier(max_depth=3)],\n",
    "    \"n_estimators\": np.arange(10,110,10),\n",
    "    \"learning_rate\":np.arange(0.1,1,0.1)\n",
    "}\n",
    "\n",
    "#  grid search\n",
    "grid_obj = GridSearchCV(adaBoostClassifier_tuned, parameters,cv=5)\n",
    "grid_obj = grid_obj.fit(X_train, y_train)\n",
    "\n",
    "# Set the  parameters\n",
    "adaBoostClassifier_tuned = grid_obj.best_estimator_\n",
    "\n",
    "# Fit the best algorithm to the data.\n",
    "adaBoostClassifier_tuned.fit(X_train, y_train)"
   ]
  },
  {
   "cell_type": "code",
   "execution_count": null,
   "metadata": {},
   "outputs": [],
   "source": [
    "make_confusion_matrix(adaBoostClassifier_tuned,y_test)"
   ]
  },
  {
   "cell_type": "code",
   "execution_count": null,
   "metadata": {},
   "outputs": [],
   "source": [
    "#Using above defined function to get accuracy,precision,recall on train and test set\n",
    "tuned_abc_acc = get_accuracy_score(adaBoostClassifier_tuned)\n",
    "tuned_abc_precision = get_precision_score(adaBoostClassifier_tuned)\n",
    "tuned_abc_recall = get_recall_score(adaBoostClassifier_tuned)"
   ]
  },
  {
   "cell_type": "markdown",
   "metadata": {},
   "source": [
    "The data shows that accuracy of traiing is 97 % and precission 96% and recall on training is 89 % and recall on test set is 56 %"
   ]
  },
  {
   "cell_type": "markdown",
   "metadata": {},
   "source": [
    "#### Gradient Boosting Classifer - Estimator "
   ]
  },
  {
   "cell_type": "code",
   "execution_count": null,
   "metadata": {},
   "outputs": [],
   "source": [
    "gbclassifier_init = GradientBoostingClassifier(init=AdaBoostClassifier(random_state=1),random_state=1)\n",
    "gbclassifier_init.fit(X_train,y_train)"
   ]
  },
  {
   "cell_type": "code",
   "execution_count": null,
   "metadata": {},
   "outputs": [],
   "source": [
    "make_confusion_matrix(gbclassifier_init,y_test)"
   ]
  },
  {
   "cell_type": "code",
   "execution_count": null,
   "metadata": {},
   "outputs": [],
   "source": [
    "#Using above defined function to get accuracy,precision,recall on train and test set\n",
    "gbc_acc_init = get_accuracy_score(gbclassifier_init)\n",
    "gbc_acc_precision = get_precision_score(gbclassifier_init)\n",
    "gbc_acc_recall = get_recall_score(gbclassifier_init)"
   ]
  },
  {
   "cell_type": "markdown",
   "metadata": {},
   "source": [
    " No overfiting is noticed."
   ]
  },
  {
   "cell_type": "code",
   "execution_count": null,
   "metadata": {},
   "outputs": [],
   "source": [
    "# Choose the type of classifier. \n",
    "gbclassifer_tuned = GradientBoostingClassifier(init=AdaBoostClassifier(random_state=1),random_state=1)\n",
    "\n",
    "# parameters \n",
    "\n",
    "parameters = {\n",
    "    \"n_estimators\": [100,150,200,250],\n",
    "    \"subsample\":[0.8,0.9,1],\n",
    "    \"max_features\":[0.7,0.8,0.9,1]\n",
    "}\n",
    "\n",
    "#  grid search\n",
    "grid_obj = GridSearchCV(gbclassifer_tuned, parameters,cv=5)\n",
    "grid_obj = grid_obj.fit(X_train, y_train)\n",
    "\n",
    "# Set the  parameters\n",
    "gbclassifer_tuned = grid_obj.best_estimator_\n",
    "\n",
    "# Fit the best algorithm to the data.\n",
    "gbclassifer_tuned.fit(X_train, y_train)"
   ]
  },
  {
   "cell_type": "code",
   "execution_count": null,
   "metadata": {},
   "outputs": [],
   "source": [
    "make_confusion_matrix(gbclassifer_tuned,y_test)"
   ]
  },
  {
   "cell_type": "code",
   "execution_count": null,
   "metadata": {},
   "outputs": [],
   "source": [
    "#Using above defined function to get accuracy on train and test set\n",
    "tuned_gbc_acc = get_accuracy_score(gbclassifer_tuned)\n",
    "tuned_gbc_precision = get_precision_score(gbclassifer_tuned)\n",
    "tuned_gbc_recall = get_recall_score(gbclassifer_tuned)"
   ]
  },
  {
   "cell_type": "markdown",
   "metadata": {},
   "source": [
    "Accuracry on training is 90.8 %, Accuracy on test is 88 %, precission on training is 92%.\n",
    "Overall performance Precision has increased."
   ]
  },
  {
   "cell_type": "markdown",
   "metadata": {},
   "source": [
    "#### XGBoost Classifier"
   ]
  },
  {
   "cell_type": "code",
   "execution_count": null,
   "metadata": {},
   "outputs": [],
   "source": [
    "# Choose the type of classifier. \n",
    "xgboost_tuned = XGBClassifier(random_state=1,eval_metric='logloss')\n",
    "\n",
    "# parameters\n",
    "\n",
    "parameters = {\n",
    "    \"n_estimators\": np.arange(30,100,20),\n",
    "    \"subsample\":[0.5,0.7,1],\n",
    "    \"learning_rate\":[0.001,0.01,0.05,0.1],\n",
    "    \"colsample_bytree\":[0.5,0.7,1],\n",
    "    \"colsample_bylevel\":[0.5,0.7,1]\n",
    "}\n",
    "\n",
    "# Run the grid search\n",
    "grid_obj = GridSearchCV(xgboost_tuned, parameters,cv=5)\n",
    "grid_obj = grid_obj.fit(X_train, y_train)"
   ]
  },
  {
   "cell_type": "code",
   "execution_count": null,
   "metadata": {},
   "outputs": [],
   "source": [
    "# Set the clf to the best combination of parameters\n",
    "xgboost_tuned = grid_obj.best_estimator_\n",
    "\n",
    "# Fit the best algorithm to the data.\n",
    "xgboost_tuned.fit(X_train, y_train)"
   ]
  },
  {
   "cell_type": "code",
   "execution_count": null,
   "metadata": {},
   "outputs": [],
   "source": [
    "make_confusion_matrix(xgboost_tuned,y_test)"
   ]
  },
  {
   "cell_type": "code",
   "execution_count": null,
   "metadata": {},
   "outputs": [],
   "source": [
    "#Using above defined function to get accuracy,precision and recall on train and test set\n",
    "tuned_xgb_acc = get_accuracy_score(xgboost_tuned)\n",
    "tuned_xgb_precision = get_precision_score(xgboost_tuned)\n",
    "tuned_xgb_recall = get_recall_score(xgboost_tuned)"
   ]
  },
  {
   "cell_type": "markdown",
   "metadata": {},
   "source": [
    "Overfitting on the Orginal data is observed. Accuracy on training raise to 93 %"
   ]
  },
  {
   "cell_type": "markdown",
   "metadata": {},
   "source": [
    "#### XGBC Classifier for Decsion Tree, Random Forest and Gradient Boosting"
   ]
  },
  {
   "cell_type": "code",
   "execution_count": null,
   "metadata": {},
   "outputs": [],
   "source": [
    "estimators=[('Decision Tree', decisionTree_estimator),('Random Forest', randomForest_estimator),\n",
    "           ('Gradient Boosting', gbclassifer_tuned)]\n",
    "final_estimator=XGBClassifier(random_state=1)"
   ]
  },
  {
   "cell_type": "code",
   "execution_count": null,
   "metadata": {},
   "outputs": [],
   "source": [
    "stacking_estimator=StackingClassifier(estimators=estimators, final_estimator=final_estimator,cv=5)\n",
    "stacking_estimator.fit(X_train,y_train)"
   ]
  },
  {
   "cell_type": "code",
   "execution_count": null,
   "metadata": {},
   "outputs": [],
   "source": [
    "make_confusion_matrix(stacking_estimator,y_test)"
   ]
  },
  {
   "cell_type": "code",
   "execution_count": null,
   "metadata": {},
   "outputs": [],
   "source": [
    "stacked_recall = get_recall_score(stacking_estimator)"
   ]
  },
  {
   "cell_type": "markdown",
   "metadata": {},
   "source": [
    "## Comparing all the models discussed above"
   ]
  },
  {
   "cell_type": "code",
   "execution_count": null,
   "metadata": {},
   "outputs": [],
   "source": [
    "# declare list of models\n",
    "models = [decisionTree,\n",
    "          decisionTree_estimator,\n",
    "          baggingClassifier,\n",
    "          bagging_estimator,\n",
    "          randomForestClassifier,\n",
    "          randomForest_estimator,\n",
    "          adaBoostClassifier,\n",
    "          gradientBoostingClassifier,\n",
    "          xGBClassifier,\n",
    "          adaBoostClassifier_tuned,\n",
    "          gbclassifier_init,\n",
    "          gbclassifer_tuned,\n",
    "          xgboost_tuned,\n",
    "          stacking_estimator]\n",
    "# declare  lists to return results\n",
    "acc_train = []\n",
    "acc_test = []\n",
    "pres_train =[]\n",
    "pres_test =[]\n",
    "recall_train =[]\n",
    "recall_test =[]\n",
    "\n",
    "# looping through all the models to get the accuracy,recall and precision scores\n",
    "for model in models:\n",
    "    \n",
    "    j = get_accuracy_score(model,False)\n",
    "    acc_train.append(j[0])\n",
    "    acc_test.append(j[1])\n",
    "    \n",
    "    k = get_precision_score(model,False)\n",
    "    pres_train.append(k[0])\n",
    "    pres_test.append(k[1])\n",
    "    l = get_recall_score(model,False)\n",
    "    recall_train.append(l[0])\n",
    "    recall_test.append(l[1])"
   ]
  },
  {
   "cell_type": "code",
   "execution_count": null,
   "metadata": {},
   "outputs": [],
   "source": [
    "comparison_frame = pd.DataFrame({'Model':['Decision Tree',\n",
    "                                          'Tuned Decision Tree',\n",
    "                                          'Bagging Classifier',\n",
    "                                          'Tuned Bagging Classifier',\n",
    "                                          'Random Forest',\n",
    "                                          'Tuned Random Forest',\n",
    "                                          'Adaboost Classifier',\n",
    "                                          'Gradient Boosting Classifier',\n",
    "                                          'XGBoost classifier',\n",
    "                                          'Tuned Adaboost Classifier',\n",
    "                                          'Gradient Boosting Classifier with Adaboost'\n",
    "                                          ,'Tuned Gradient Boosting Classifier',\n",
    "                                          'Tuned XGBoost Classifier',\n",
    "                                          'Stacking Classifier'], \n",
    "                                          'Train_Accuracy': acc_train,\n",
    "                                          'Test_Accuracy': acc_test,\n",
    "                                          'Train_Precision':pres_train,\n",
    "                                          'Test_Precision':pres_test,\n",
    "                                          'Train_Recall':recall_train,\n",
    "                                          'Test_Recall':recall_test}) \n",
    "comparison_frame"
   ]
  },
  {
   "cell_type": "code",
   "execution_count": null,
   "metadata": {},
   "outputs": [],
   "source": [
    "tuned_bagging_acc= get_accuracy_score(bagging_estimator)\n",
    "tuned_bagging_precision = get_precision_score(bagging_estimator)\n",
    "tuned_bagging_recall = get_recall_score(bagging_estimator)"
   ]
  },
  {
   "cell_type": "markdown",
   "metadata": {},
   "source": [
    "Bagging classifier and Random forst are showing good performance.\n",
    "Random forest in general is showing a better performance.\n",
    "Gradient boosting has good precision and recall."
   ]
  },
  {
   "cell_type": "markdown",
   "metadata": {},
   "source": [
    "Business Recommendations and Insights"
   ]
  },
  {
   "cell_type": "markdown",
   "metadata": {},
   "source": [
    "1. According to the Monthly income prediction, customers with an average income of 40000 is ideal to target\n",
    "2. The Age box plot and relationship shows that custoems with age of 39 or less are ideal customers.\n",
    "3. Singles show more inclination to buy the product.\n",
    "4. From ocupation, Managers shold be a future market target.\n",
    "5. Follow up more than 6 times shows a good chance of finding a target customer.\n",
    "6. Bagging classifer, Random forest are good to increase the performance of the model.\n",
    "7. It is also good to focus on the gradientboosting to increase the accuracy, precision and recall."
   ]
  },
  {
   "cell_type": "code",
   "execution_count": null,
   "metadata": {},
   "outputs": [],
   "source": []
  }
 ],
 "metadata": {
  "kernelspec": {
   "display_name": "Python 3",
   "language": "python",
   "name": "python3"
  },
  "language_info": {
   "codemirror_mode": {
    "name": "ipython",
    "version": 3
   },
   "file_extension": ".py",
   "mimetype": "text/x-python",
   "name": "python",
   "nbconvert_exporter": "python",
   "pygments_lexer": "ipython3",
   "version": "3.8.5"
  }
 },
 "nbformat": 4,
 "nbformat_minor": 4
}