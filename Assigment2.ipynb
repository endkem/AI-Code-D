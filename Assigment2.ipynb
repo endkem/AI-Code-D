{
 "cells": [
  {
   "cell_type": "code",
   "execution_count": 9,
   "id": "e0eaaf07",
   "metadata": {},
   "outputs": [
    {
     "data": {
      "text/plain": [
       "['Gashaw', 20, 12, 'team', 23, 'nigie']"
      ]
     },
     "execution_count": 9,
     "metadata": {},
     "output_type": "execute_result"
    }
   ],
   "source": [
    "#How can you add a new element to the end\n",
    "AL = [\"Gashaw\",20,12,\"team\",23]\n",
    "AL.append(\"nigie\")\n",
    "AL"
   ]
  },
  {
   "cell_type": "code",
   "execution_count": 13,
   "id": "cc69ce49",
   "metadata": {},
   "outputs": [
    {
     "data": {
      "text/plain": [
       "['Gashaw', 20, 12, 'team', 23, 'nigie', 27, 25, 'class']"
      ]
     },
     "execution_count": 13,
     "metadata": {},
     "output_type": "execute_result"
    }
   ],
   "source": [
    "#How can you extend a_list by adding all the elements from another_list to the end of it?\n",
    "\n",
    "AL.extend([27,25,\"class\"])\n",
    "AL"
   ]
  },
  {
   "cell_type": "code",
   "execution_count": 16,
   "id": "fb25389a",
   "metadata": {},
   "outputs": [
    {
     "data": {
      "text/plain": [
       "12"
      ]
     },
     "execution_count": 16,
     "metadata": {},
     "output_type": "execute_result"
    }
   ],
   "source": [
    "\n",
    "#How can you access the element at index 2 in a_list? Provide the code.\n",
    "AL[2]\n"
   ]
  },
  {
   "cell_type": "code",
   "execution_count": 33,
   "id": "f24de8ab",
   "metadata": {},
   "outputs": [
    {
     "data": {
      "text/plain": [
       "['HP', 'phone', 'Linux']"
      ]
     },
     "execution_count": 33,
     "metadata": {},
     "output_type": "execute_result"
    }
   ],
   "source": [
    "#How can you change the value of the element at index 1 in a_list? Provide the code.\n",
    "var1 = [\"mac\",\"phone\",\"Linux\"]\n",
    "# var1[0]\n",
    "var1[0] = 'HP'\n",
    "var1"
   ]
  },
  {
   "cell_type": "code",
   "execution_count": 49,
   "id": "91d4b472",
   "metadata": {},
   "outputs": [
    {
     "data": {
      "text/plain": [
       "2"
      ]
     },
     "execution_count": 49,
     "metadata": {},
     "output_type": "execute_result"
    }
   ],
   "source": [
    "#How can you find the index of a specific element in a_list? Provide the code.\n",
    "L = [1,2,3,\"gash\",[\"cat\",\"bee\"],[1.2]]\n",
    "L[4]\n",
    "L[4][1]\n",
    "L[4][1][0]\n",
    "#or\n",
    "name = ['gash','nigie','trevor','jack']\n",
    "list = name.index('trevor')\n",
    "list"
   ]
  },
  {
   "cell_type": "code",
   "execution_count": 50,
   "id": "91fff043",
   "metadata": {},
   "outputs": [
    {
     "data": {
      "text/plain": [
       "2"
      ]
     },
     "execution_count": 50,
     "metadata": {},
     "output_type": "execute_result"
    }
   ],
   "source": [
    "#How can you count the number of occurrences of a specific element in a_list? Provide the code.\n",
    "num = 4\n",
    "evenNums = [2,4,4,6,8,10]\n",
    "count = evenNums.count(num)\n",
    "count"
   ]
  },
  {
   "cell_type": "code",
   "execution_count": 53,
   "id": "4de9e4d4",
   "metadata": {},
   "outputs": [
    {
     "name": "stdout",
     "output_type": "stream",
     "text": [
      "num in Ascending order:  [1, 2, 3, 4, 5, 6, 7, 8, 9, 10]\n",
      "num in Descending order:  [1, 2, 3, 4, 5, 6, 7, 8, 9, 10]\n"
     ]
    }
   ],
   "source": [
    "#How can you sort the elements in a_list in ascending order? Provide the code.\n",
    "nums = [3,4,1,2,5,8,7,6,9,10]\n",
    "nums.sort()\n",
    "print('num in Ascending order: ', nums)\n",
    "print('num in Descending order: ', nums)"
   ]
  },
  {
   "cell_type": "code",
   "execution_count": 57,
   "id": "4e5582ca",
   "metadata": {},
   "outputs": [
    {
     "name": "stdout",
     "output_type": "stream",
     "text": [
      "num in Descending order:  [1, 2, 3, 4, 5, 6, 7, 8, 9, 10]\n"
     ]
    }
   ],
   "source": [
    "#How can you reverse the order of elements in a_list?Provide the code\n",
    "#nums.sort(reverse)\n",
    "print('num in Descending order: ', nums)"
   ]
  },
  {
   "cell_type": "code",
   "execution_count": 67,
   "id": "0c320325",
   "metadata": {},
   "outputs": [
    {
     "name": "stdout",
     "output_type": "stream",
     "text": [
      "['Hello', 'HP', 'Hat', 'Hello', 'HP', 'Hat', 'Hello', 'HP', 'Hat', 'Hello', 'HP', 'Hat']\n"
     ]
    }
   ],
   "source": [
    "#How can you create a new list new_list that contains the same elements as a_list? Provide the code.\n",
    "List1 = [\"Hello\",\"HP\",\"Hat\"]\n",
    "result = List1*4\n",
    "print(result)\n"
   ]
  },
  {
   "cell_type": "code",
   "execution_count": 59,
   "id": "431ed3e9",
   "metadata": {},
   "outputs": [
    {
     "name": "stdout",
     "output_type": "stream",
     "text": [
      "[1, 3, 4, 5, 6]\n"
     ]
    }
   ],
   "source": [
    "#How can you remove all elements from a_list? Provide the code.\n",
    "num = [1,2,3,4,5,6]\n",
    "num.remove(2)\n",
    "#num\n",
    "print(num)"
   ]
  },
  {
   "cell_type": "code",
   "execution_count": null,
   "id": "dacdf094",
   "metadata": {},
   "outputs": [],
   "source": []
  },
  {
   "cell_type": "code",
   "execution_count": null,
   "id": "fc6683c2",
   "metadata": {},
   "outputs": [],
   "source": []
  }
 ],
 "metadata": {
  "kernelspec": {
   "display_name": "Python 3 (ipykernel)",
   "language": "python",
   "name": "python3"
  },
  "language_info": {
   "codemirror_mode": {
    "name": "ipython",
    "version": 3
   },
   "file_extension": ".py",
   "mimetype": "text/x-python",
   "name": "python",
   "nbconvert_exporter": "python",
   "pygments_lexer": "ipython3",
   "version": "3.11.3"
  }
 },
 "nbformat": 4,
 "nbformat_minor": 5
}
