{
  "nbformat": 4,
  "nbformat_minor": 0,
  "metadata": {
    "colab": {
      "name": "ColabTemplate.ipynb",
      "provenance": []
    },
    "kernelspec": {
      "display_name": "Python 3",
      "language": "python",
      "name": "python3"
    },
    "language_info": {
      "codemirror_mode": {
        "name": "ipython",
        "version": 3
      },
      "file_extension": ".py",
      "mimetype": "text/x-python",
      "name": "python",
      "nbconvert_exporter": "python",
      "pygments_lexer": "ipython3",
      "version": "3.8.5"
    }
  },
  "cells": [
    {
      "cell_type": "code",
      "metadata": {
        "id": "yCh1VjgmQVJz"
      },
      "source": [
        "try:\n",
        "  import google.colab\n",
        "\n",
        "  IN_COLAB = True\n",
        "  \n",
        "except:\n",
        "  IN_COLAB = False\n",
        "\n"
      ],
      "execution_count": null,
      "outputs": []
    },
    {
      "cell_type": "code",
      "metadata": {
        "colab": {
          "base_uri": "https://localhost:8080/"
        },
        "id": "scH0bbXDTXLS",
        "outputId": "5ac6e80a-d216-4d5f-fc59-99851b3890cc"
      },
      "source": [
        "if IN_COLAB:\n",
        "    \n",
        "    from google.colab import auth\n",
        "    from oauth2client.client import GoogleCredentials\n",
        "    from google.colab import drive\n",
        "\n",
        "    auth.authenticate_user() \n",
        "    drive.mount('/content/gdrive')\n",
        "\n",
        "    DATA_DIR = '/content/gdrive/MyDrive/Colab Notebooks/'\n",
        "else:\n",
        "    DATA_DIR = './'"
      ],
      "execution_count": null,
      "outputs": [
        {
          "output_type": "stream",
          "text": [
            "Drive already mounted at /content/gdrive; to attempt to forcibly remount, call drive.mount(\"/content/gdrive\", force_remount=True).\n"
          ],
          "name": "stdout"
        }
      ]
    },
    {
      "cell_type": "code",
      "metadata": {
        "id": "Mhne6B7j5Ghe"
      },
      "source": [
        "import pandas as pd"
      ],
      "execution_count": null,
      "outputs": []
    },
    {
      "cell_type": "code",
      "metadata": {
        "id": "FrXpP3d3OxZR"
      },
      "source": [
        "DATA_FILE = 'Tourism.xlsx'\n",
        "FULL_DATA_FILE_PATH = DATA_DIR + DATA_FILE"
      ],
      "execution_count": null,
      "outputs": []
    },
    {
      "cell_type": "code",
      "metadata": {
        "colab": {
          "base_uri": "https://localhost:8080/"
        },
        "id": "Nz-wTfvWTXLT",
        "outputId": "c73b60b5-d852-4f1c-b755-f216f6965dd8"
      },
      "source": [
        "print(FULL_DATA_FILE_PATH)"
      ],
      "execution_count": null,
      "outputs": [
        {
          "output_type": "stream",
          "text": [
            "/content/gdrive/MyDrive/Colab Notebooks/Tourism.xlsx\n"
          ],
          "name": "stdout"
        }
      ]
    },
    {
      "cell_type": "code",
      "metadata": {
        "id": "9hJIU8tK49cj"
      },
      "source": [
        "tourism_df = pd.read_excel(io=FULL_DATA_FILE_PATH, sheet_name='Tourism')"
      ],
      "execution_count": null,
      "outputs": []
    },
    {
      "cell_type": "code",
      "metadata": {
        "id": "R350EIe3TXLU"
      },
      "source": [],
      "execution_count": null,
      "outputs": []
    },
    {
      "cell_type": "markdown",
      "metadata": {
        "id": "zOMomDiPIrP0"
      },
      "source": [
        "Questions:\n",
        "\n",
        "1.   Does dataset have a mixture of Gaussians?\n",
        "\n",
        "\n",
        "*   Show that dataset have long tail\n",
        "*   Graph to show that dataset have multiple bumps\n",
        "*   Should dataset be split up to avoid mixture of Gaussians?\n",
        "\n",
        "2.   Is the dataset imbalanced?\n",
        "\n",
        "\n",
        "*   Display the number of observations belonging to each class\n",
        "*   Graph to show the count of each class\n",
        "*   Try up and down sampling to see if performance improves\n",
        "\n",
        "3.   Does the dataset have too many features and too few observations (curse dimensions)?\n",
        "\n",
        "\n",
        "*   Show the ratio between number of features and number of observations\n",
        "*   List item\n",
        "\n",
        "\n",
        "\n"
      ]
    }
  ]
}