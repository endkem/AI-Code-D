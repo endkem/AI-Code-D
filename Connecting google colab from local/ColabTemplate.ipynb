{
  "nbformat": 4,
  "nbformat_minor": 0,
  "metadata": {
    "colab": {
      "name": "ColabTemplate.ipynb",
      "provenance": []
    },
    "kernelspec": {
      "display_name": "Python 3",
      "language": "python",
      "name": "python3"
    },
    "language_info": {
      "codemirror_mode": {
        "name": "ipython",
        "version": 3
      },
      "file_extension": ".py",
      "mimetype": "text/x-python",
      "name": "python",
      "nbconvert_exporter": "python",
      "pygments_lexer": "ipython3",
      "version": "3.8.5"
    }
  },
  "cells": [
    {
      "cell_type": "code",
      "metadata": {
        "id": "yCh1VjgmQVJz"
      },
      "source": [
        "try:\n",
        "  import google.colab\n",
        "\n",
        "  IN_COLAB = True\n",
        "  \n",
        "except:\n",
        "  IN_COLAB = False\n",
        "\n"
      ],
      "execution_count": null,
      "outputs": []
    },
    {
      "cell_type": "code",
      "metadata": {
        "colab": {
          "base_uri": "https://localhost:8080/"
        },
        "id": "scH0bbXDTXLS",
        "outputId": "5ac6e80a-d216-4d5f-fc59-99851b3890cc"
      },
      "source": [
        "if IN_COLAB:\n",
        "    \n",
        "    from google.colab import auth\n",
        "    from oauth2client.client import GoogleCredentials\n",
        "    from google.colab import drive\n",
        "\n",
        "    auth.authenticate_user() \n",
        "    drive.mount('/content/gdrive')\n",
        "\n",
        "    DATA_DIR = '/content/gdrive/MyDrive/Colab Notebooks/'\n",
        "else:\n",
        "    DATA_DIR = './'"
      ],
      "execution_count": null,
      "outputs": [
        {
          "output_type": "stream",
          "text": [
            "Drive already mounted at /content/gdrive; to attempt to forcibly remount, call drive.mount(\"/content/gdrive\", force_remount=True).\n"
          ],
          "name": "stdout"
        }
      ]
    },
    {
      "cell_type": "code",
      "metadata": {
        "id": "Mhne6B7j5Ghe"
      },
      "source": [
        "import pandas as pd"
      ],
      "execution_count": null,
      "outputs": []
    },
    {
      "cell_type": "code",
      "metadata": {
        "id": "FrXpP3d3OxZR"
      },
      "source": [
        "DATA_FILE = 'Tourism.xlsx'\n",
        "FULL_DATA_FILE_PATH = DATA_DIR + DATA_FILE"
      ],
      "execution_count": null,
      "outputs": []
    },
    {
      "cell_type": "code",
      "metadata": {
        "colab": {
          "base_uri": "https://localhost:8080/"
        },
        "id": "Nz-wTfvWTXLT",
        "outputId": "c73b60b5-d852-4f1c-b755-f216f6965dd8"
      },
      "source": [
        "print(FULL_DATA_FILE_PATH)"
      ],
      "execution_count": null,
      "outputs": [
        {
          "output_type": "stream",
          "text": [
            "/content/gdrive/MyDrive/Colab Notebooks/Tourism.xlsx\n"
          ],
          "name": "stdout"
        }
      ]
    },
    {
      "cell_type": "code",
      "metadata": {
        "id": "9hJIU8tK49cj"
      },
      "source": [
        "tourism_df = pd.read_excel(io=FULL_DATA_FILE_PATH, sheet_name='Tourism')"
      ],
      "execution_count": null,
      "outputs": []
    },
    {
      "cell_type": "code",
      "metadata": {
        "id": "R350EIe3TXLU"
      },
      "source": [],
      "execution_count": null,
      "outputs": []
    },
    {
      "cell_type": "markdown",
      "metadata": {
        "id": "zOMomDiPIrP0"
      },
      "source": [
        "\n",
        "\n",
        "\n"
      ]
    }
  ]
}